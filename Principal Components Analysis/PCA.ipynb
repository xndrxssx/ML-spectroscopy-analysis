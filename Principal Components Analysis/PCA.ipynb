{
 "cells": [
  {
   "cell_type": "markdown",
   "metadata": {},
   "source": [
    "# PCA"
   ]
  },
  {
   "cell_type": "markdown",
   "metadata": {},
   "source": [
    "A análise de componentes será feita utilizando o método jackknife para encontrar o número ótimo de componentes do PCA. Depois é aplicado o método Kennard-Stone para dividir as amostras em 70-30. Plota gráficos de outliers (T² e Q)."
   ]
  },
  {
   "cell_type": "markdown",
   "metadata": {
    "jp-MarkdownHeadingCollapsed": true
   },
   "source": [
    "# Imports\n"
   ]
  },
  {
   "cell_type": "code",
   "execution_count": 9,
   "metadata": {},
   "outputs": [],
   "source": [
    "import os\n",
    "from pathlib import Path\n",
    "import numpy as np\n",
    "import pandas as pd\n",
    "import matplotlib.pyplot as plt\n",
    "from sklearn.decomposition import PCA\n",
    "from sklearn.preprocessing import StandardScaler\n",
    "from scipy.spatial.distance import cdist\n",
    "import plotly.express as px\n",
    "import seaborn as sns"
   ]
  },
  {
   "cell_type": "markdown",
   "metadata": {
    "jp-MarkdownHeadingCollapsed": true
   },
   "source": [
    "# Método Jackknife"
   ]
  },
  {
   "cell_type": "code",
   "execution_count": 10,
   "metadata": {},
   "outputs": [],
   "source": [
    "def jackknife_pca(X, threshold=0.01):\n",
    "    n_samples = X.shape[0]\n",
    "    variances = []\n",
    "    \n",
    "    for i in range(n_samples):\n",
    "        X_jack = np.delete(X, i, axis=0)\n",
    "        pca = PCA().fit(X_jack)\n",
    "        variances.append(pca.explained_variance_ratio_)\n",
    "    \n",
    "    variances = np.mean(variances, axis=0)\n",
    "    \n",
    "    for i in range(len(variances) - 1):\n",
    "        if variances[i] - variances[i + 1] < threshold:\n",
    "            return i + 1\n",
    "    return len(variances)"
   ]
  },
  {
   "cell_type": "markdown",
   "metadata": {},
   "source": [
    "# Método Kennard-Stone"
   ]
  },
  {
   "cell_type": "code",
   "execution_count": 11,
   "metadata": {},
   "outputs": [],
   "source": [
    "def kennard_stone(X, train_size=0.7):\n",
    "    n_samples = X.shape[0]\n",
    "    n_train = int(n_samples * train_size)\n",
    "\n",
    "    if n_train < 2:\n",
    "        raise ValueError(\"O conjunto de treinamento precisa ter pelo menos duas amostras!\")\n",
    "\n",
    "    # Calcula as distâncias entre cada par de pontos\n",
    "    distances = cdist(X, X, metric='euclidean')\n",
    "\n",
    "    # Primeiro ponto: aquele mais distante da média\n",
    "    mean_sample = np.mean(X, axis=0)\n",
    "    first_sample = np.argmax(np.linalg.norm(X - mean_sample, axis=1))\n",
    "    selected = [first_sample]\n",
    "\n",
    "    for _ in range(1, n_train):\n",
    "        # Calcula a menor distância de cada ponto ao conjunto já selecionado\n",
    "        min_distances = np.min(distances[selected], axis=0)\n",
    "        min_distances[selected] = -np.inf  # Evita escolher um ponto já selecionado\n",
    "        next_sample = np.argmax(min_distances)  # Escolhe o mais distante\n",
    "\n",
    "        selected.append(next_sample)\n",
    "\n",
    "    return np.array(selected)\n"
   ]
  },
  {
   "cell_type": "markdown",
   "metadata": {},
   "source": [
    "# Plot and save"
   ]
  },
  {
   "cell_type": "code",
   "execution_count": 12,
   "metadata": {},
   "outputs": [],
   "source": [
    "def plot_data(outliers, T2, Q, T2_limit, Q_limit, cumulative_variance, optimal_components):\n",
    "    plt.figure(figsize=(12, 5))\n",
    "\n",
    "    plt.subplot(1, 2, 1)\n",
    "    plt.plot(cumulative_variance, label='Explained Variance Ratio')\n",
    "    plt.xlabel('Number of Components')\n",
    "    plt.ylabel('Explained Variance Ratio')\n",
    "    plt.title('Explained Variance Ratio by Principal Components')\n",
    "    plt.axvline(optimal_components - 1, color='r', linestyle='--', label=f'Optimal Components: {optimal_components}')\n",
    "    plt.legend()\n",
    "\n",
    "    plt.subplot(1, 2, 2)\n",
    "    plt.scatter(T2, Q, c=outliers, cmap='coolwarm', edgecolor='k')\n",
    "    plt.axhline(np.percentile(Q, 100 * (1 - 0.027)), color='r', linestyle='--', label=f'Q Limit: {np.percentile(Q, 100 * (1 - 0.02)):.2f}')\n",
    "    plt.axvline(T2_limit, color='g', linestyle='--', label=f'T2 Limit: {T2_limit:.2f}')\n",
    "    plt.xlabel(\"Hotelling's T²\")\n",
    "    plt.ylabel('F-residual')\n",
    "    plt.title('Outlier Detection')\n",
    "    plt.legend(title='Limits')\n",
    "\n",
    "    plt.tight_layout()\n",
    "    plt.show()\n",
    "\n",
    "def save_datasets(calibration_set, validation_set, dataset_path, dataset_dir):\n",
    "    base_name = os.path.splitext(os.path.basename(dataset_path))[0]  # Pega apenas o nome do arquivo sem extensão\n",
    "    calibration_path = os.path.join(dataset_dir, f\"{base_name}_calibracao.xlsx\")\n",
    "    validation_path = os.path.join(dataset_dir, f\"{base_name}_validacao.xlsx\")\n",
    "\n",
    "    calibration_set.to_excel(calibration_path, index=False)\n",
    "    validation_set.to_excel(validation_path, index=False)\n"
   ]
  },
  {
   "cell_type": "code",
   "execution_count": 13,
   "metadata": {},
   "outputs": [],
   "source": [
    "def plot_interactive_scores(scores, identifiers, outliers):\n",
    "    \"\"\"\n",
    "    Gera gráficos de scores interativos (PC1 vs PC2 e PC1 vs PC3) usando o Plotly.\n",
    "\n",
    "    Args:\n",
    "        scores (np.array): Array com os scores da PCA (amostras, componentes).\n",
    "        identifiers (pd.DataFrame): DataFrame com as colunas de identificação das amostras.\n",
    "        outliers (np.array): Array booleano indicando se uma amostra é outlier.\n",
    "    \"\"\"\n",
    "    print(\"\\nExibindo Gráficos de Scores Interativos (PC1 vs PC2 e PC1 vs PC3):\")\n",
    "    \n",
    "    # Prepara um DataFrame para o Plotly\n",
    "    pc_df = pd.DataFrame(scores, columns=[f'PC{i+1}' for i in range(scores.shape[1])])\n",
    "    \n",
    "    # Adiciona as informações de identificação e de outlier\n",
    "    pc_df = pd.concat([identifiers.reset_index(drop=True), pc_df], axis=1)\n",
    "    pc_df['Status'] = np.where(outliers, 'Outlier', 'Inlier') # 'Inlier' = não é outlier\n",
    "    \n",
    "    # ---- Gráfico PC1 vs PC2 ----\n",
    "    fig1 = px.scatter(\n",
    "        pc_df, \n",
    "        x='PC1', \n",
    "        y='PC2', \n",
    "        color='Status',  # Colore os pontos baseados no status de outlier\n",
    "        color_discrete_map={'Outlier': 'red', 'Inlier': 'blue'}, # Define as cores\n",
    "        hover_data=identifiers.columns, # Informação que aparece ao passar o mouse\n",
    "        title='Gráfico de Scores: PC1 vs PC2'\n",
    "    )\n",
    "    fig1.update_traces(marker=dict(size=8, opacity=0.8, line=dict(width=1, color='DarkSlateGrey')))\n",
    "    fig1.update_layout(xaxis_title=\"Score na Componente Principal 1\", yaxis_title=\"Score na Componente Principal 2\")\n",
    "    fig1.show()\n",
    "\n",
    "    # ---- Gráfico PC1 vs PC3 (se houver 3 ou mais componentes) ----\n",
    "    if scores.shape[1] >= 3:\n",
    "        fig2 = px.scatter(\n",
    "            pc_df, \n",
    "            x='PC1', \n",
    "            y='PC3', \n",
    "            color='Status',\n",
    "            color_discrete_map={'Outlier': 'red', 'Inlier': 'blue'},\n",
    "            hover_data=identifiers.columns,\n",
    "            title='Gráfico de Scores: PC1 vs PC3'\n",
    "        )\n",
    "        fig2.update_traces(marker=dict(size=8, opacity=0.8, line=dict(width=1, color='DarkSlateGrey')))\n",
    "        fig2.update_layout(xaxis_title=\"Score na Componente Principal 1\", yaxis_title=\"Score na Componente Principal 3\")\n",
    "        fig2.show()\n"
   ]
  },
  {
   "cell_type": "code",
   "execution_count": 14,
   "metadata": {},
   "outputs": [],
   "source": [
    "def plot_interactive_scores_com_y(scores, identifiers, outliers, target_y_name, target_y_values):\n",
    "    \"\"\"\n",
    "    Gera um gráfico de scores de PCA interativo usando Plotly.\n",
    "\n",
    "    Args:\n",
    "        scores (np.ndarray): Array com os scores do PCA (PC1, PC2, etc.).\n",
    "        identifiers (pd.DataFrame): DataFrame com os metadados/identificadores.\n",
    "        outliers (np.ndarray): Array booleano indicando quais amostras são outliers.\n",
    "        target_y_name (str): O nome da variável alvo (ex: 'SST').\n",
    "        target_y_values (pd.Series): Os valores da variável alvo para colorir os pontos.\n",
    "    \"\"\"\n",
    "    # Cria um DataFrame para o plot\n",
    "    df_plot = pd.DataFrame(scores[:, :2], columns=['PC1', 'PC2'])\n",
    "    df_plot['ID'] = identifiers.iloc[:, 0].values # Pega a primeira coluna de identificadores\n",
    "    df_plot['Outlier'] = ['Sim' if o else 'Não' for o in outliers]\n",
    "    df_plot[target_y_name] = target_y_values.values\n",
    "\n",
    "    fig = px.scatter(\n",
    "        df_plot,\n",
    "        x='PC1',\n",
    "        y='PC2',\n",
    "        color=target_y_name,  # Colore os pontos pelos valores da variável alvo\n",
    "        symbol='Outlier',     # Usa símbolos diferentes para outliers\n",
    "        hover_data=['ID', target_y_name], # Mostra o ID e o valor de Y ao passar o mouse\n",
    "        title=f'Scores do PCA - Otimizado para {target_y_name}'\n",
    "    )\n",
    "    fig.show()"
   ]
  },
  {
   "cell_type": "markdown",
   "metadata": {},
   "source": [
    "# Análise Exploratória"
   ]
  },
  {
   "cell_type": "code",
   "execution_count": 15,
   "metadata": {},
   "outputs": [],
   "source": [
    "# Caminho base: sobe um nível a partir da pasta atual\n",
    "base_dir = Path().resolve().parent\n",
    "\n",
    "# Define os diretórios de interesse\n",
    "dataset_origin = base_dir / \"Data\"\n",
    "dataset_save_outliers = dataset_origin / \"Original\"\n",
    "dataset_save_outliers.mkdir(parents=True, exist_ok=True) # Cria a pasta se não existir"
   ]
  },
  {
   "cell_type": "code",
   "execution_count": 18,
   "metadata": {},
   "outputs": [
    {
     "name": "stdout",
     "output_type": "stream",
     "text": [
      "--- Analisando arquivo: dataset_cotton_fruit.xlsx ---\n"
     ]
    },
    {
     "data": {
      "application/vnd.plotly.v1+json": {
       "config": {
        "plotlyServerURL": "https://plot.ly"
       },
       "data": [
        {
         "alignmentgroup": "True",
         "boxpoints": "all",
         "customdata": [
          [
           "U001",
           3.27,
           1.98,
           557.941,
           88.13370473537603
          ],
          [
           "U002",
           3.49,
           1.91,
           392.806,
           87.79383429672451
          ],
          [
           "U003",
           3.56,
           1.86,
           553.736,
           87.59904912836764
          ],
          [
           "U004",
           3.57,
           1.76,
           564.029,
           87.18606180144644
          ],
          [
           "U005",
           3.57,
           2.06,
           645.933,
           87.5957926371149
          ],
          [
           "U006",
           3.55,
           1.98,
           675.042,
           87.13245997088792
          ],
          [
           "U007",
           3.607,
           1.62,
           559.38,
           85.98595353862775
          ],
          [
           "U008",
           3.643,
           1.76,
           619.812,
           86.21310295176389
          ],
          [
           "U009",
           3.636,
           2.11,
           720.531,
           87.75914634146336
          ],
          [
           "U010",
           3.388,
           1.57,
           556.06,
           85.82006369426753
          ],
          [
           "U011",
           3.282,
           2,
           578.085,
           87.629179331307
          ],
          [
           "U012",
           3.318,
           1.014,
           598.008,
           88.21545157780187
          ],
          [
           "U013",
           3.306,
           2.32,
           615.938,
           87.62316335350042
          ],
          [
           "U014",
           3.282,
           2.03,
           613.171,
           87.02087286527511
          ],
          [
           "U015",
           3.39,
           1.83,
           662.756,
           87.4169986719787
          ],
          [
           "U016",
           3.328,
           2.85,
           774.876,
           90.55322715842414
          ],
          [
           "U017",
           3.407,
           1.71,
           658.107,
           88.54131534569981
          ],
          [
           "U018",
           3.428,
           1.148,
           650.913,
           88.9677419354839
          ],
          [
           "U019",
           3.396,
           2.15,
           687.216,
           88.59932088285231
          ],
          [
           "U020",
           3.45,
           2.4,
           675.152,
           89.1748675246026
          ],
          [
           "U021",
           3.404,
           1.87,
           592.142,
           87.5317725752509
          ],
          [
           "U022",
           3.482,
           1.69,
           613.835,
           86.37880986937581
          ],
          [
           "U023",
           3.499,
           1.64,
           538.24,
           85.62500000000003
          ],
          [
           "U024",
           3.436,
           1.467,
           658.218,
           87.49999999999997
          ],
          [
           "U025",
           3.462,
           1.84,
           540.897,
           86.13196814562012
          ],
          [
           "U026",
           3.418,
           2.304,
           713.448,
           89.84308131241082
          ],
          [
           "U027",
           3.43,
           2.26,
           593.359,
           87.90336496980156
          ],
          [
           "U028",
           3.43,
           2.29,
           599.115,
           88.62244897959188
          ],
          [
           "U029",
           3.455,
           2.36,
           645.711,
           88.9314391599753
          ],
          [
           "U030",
           3.453,
           2.12,
           673.824,
           87.81450872359956
          ],
          [
           "U031",
           3.248,
           2.72,
           768.567,
           91.5115286080273
          ],
          [
           "U032",
           3.375,
           0.601,
           717.764,
           89.21200750469028
          ],
          [
           "U033",
           3.507,
           2.08,
           490.537,
           88.48965517241385
          ],
          [
           "U034",
           3.379,
           1.818,
           658.55,
           88.6481303930968
          ],
          [
           "U035",
           3.566,
           2.17,
           640.066,
           87.96841349605174
          ],
          [
           "U036",
           3.474,
           2.02,
           653.57,
           89.42540322580648
          ],
          [
           "U037",
           3.46,
           1.8,
           578.417,
           89.23018292682926
          ],
          [
           "U038",
           3.448,
           2.14,
           664.195,
           88.99789029535863
          ],
          [
           "U039",
           3.389,
           1.69,
           711.234,
           88.30431491294469
          ],
          [
           "U040",
           3.454,
           1.88,
           694.189,
           87.90759075907589
          ],
          [
           "U041",
           3.457,
           0.54,
           758.163,
           89.33797909407673
          ],
          [
           "U042",
           3.356,
           2.43,
           830.548,
           93.21316614420058
          ],
          [
           "U043",
           3.465,
           1.773,
           649.032,
           86.81318681318695
          ],
          [
           "U044",
           3.473,
           2.12,
           646.707,
           89.56816257408971
          ],
          [
           "U045",
           3.403,
           2.133,
           639.181,
           89.06097560975614
          ],
          [
           "U046",
           3.481,
           1.818,
           605.202,
           90.91966173361516
          ],
          [
           "U047",
           3.44,
           1.113,
           524.516,
           89.1866028708134
          ],
          [
           "U048",
           3.443,
           0.665,
           603.32,
           89.61837455830384
          ],
          [
           "U049",
           3.472,
           1.809,
           594.687,
           89.24228250701587
          ],
          [
           "U050",
           3.45,
           1.79,
           543,
           87.78368794326244
          ],
          [
           "U051",
           3.485,
           1.29,
           493.857,
           86.00779952336246
          ],
          [
           "U052",
           3.46,
           1.47,
           583.841,
           86.41550387596898
          ],
          [
           "U053",
           3.434,
           1.57,
           508.578,
           85.90077371566869
          ],
          [
           "U054",
           3.534,
           1.017,
           468.511,
           85.63756329599508
          ],
          [
           "U055",
           3.491,
           1.1,
           459.989,
           85.59582558045463
          ],
          [
           "U056",
           3.539,
           0.752,
           500.941,
           86.38251366120218
          ],
          [
           "U057",
           5.263,
           1.15,
           458.439,
           84.4997477719859
          ],
          [
           "U058",
           3.567,
           1.13,
           449.917,
           85.79146291986079
          ],
          [
           "U059",
           3.902,
           1.34,
           482.125,
           84.98097653772989
          ],
          [
           "U060",
           3.598,
           1.33,
           406.862,
           83.52230363799974
          ],
          [
           "U061",
           3.574,
           1.47,
           551.965,
           86.30094043887149
          ],
          [
           "U062",
           3.591,
           1.37,
           495.185,
           85.60317460317461
          ],
          [
           "U063",
           3.591,
           1.36,
           478.473,
           85.6540213370831
          ],
          [
           "U064",
           3.604,
           1.38,
           563.586,
           85.6106489184692
          ],
          [
           "U065",
           3.642,
           1.35,
           535.363,
           85.63676661656434
          ],
          [
           "U066",
           3.555,
           1.096,
           420.919,
           88.3319321843912
          ],
          [
           "U067",
           3.609,
           0.945,
           597.344,
           88.09644242117683
          ],
          [
           "U068",
           3.267,
           1.72,
           555.617,
           87.31633065142432
          ],
          [
           "U069",
           3.595,
           1.45,
           464.748,
           87.10915176749124
          ],
          [
           "U070",
           3.625,
           1.73,
           613.392,
           87.40903809698526
          ],
          [
           "U071",
           3.693,
           1.33,
           468.179,
           85.34199772224828
          ],
          [
           "U072",
           3.625,
           1.31,
           453.459,
           85.02920473266435
          ],
          [
           "U073",
           3.609,
           1.39,
           490.537,
           86.08539161732874
          ],
          [
           "U074",
           3.581,
           1.2,
           550.969,
           84.4006154706952
          ],
          [
           "U075",
           3.689,
           1.2,
           513.337,
           85.31342486481677
          ],
          [
           "U076",
           3.689,
           0.642,
           532.263,
           88.91170431211496
          ],
          [
           "U077",
           3.677,
           1.36,
           582.18,
           86.53680893726727
          ],
          [
           "U078",
           3.668,
           1.33,
           490.537,
           86.96868494101318
          ],
          [
           "U079",
           3.683,
           1.34,
           541.229,
           86.9326360938923
          ],
          [
           "U080",
           3.61,
           1.41,
           507.582,
           86.13090379651894
          ],
          [
           "U081",
           3.565,
           1.49,
           535.584,
           88.45017322192786
          ],
          [
           "U082",
           3.641,
           1.36,
           562.369,
           87.17361111111111
          ],
          [
           "U083",
           3.637,
           1.31,
           455.894,
           86.12492195268598
          ],
          [
           "U084",
           3.652,
           1.44,
           502.712,
           85.75189753320683
          ],
          [
           "U085",
           3.679,
           1.37,
           382.623,
           85.69147147820237
          ],
          [
           "U086",
           3.63,
           1.27,
           679.358,
           85.4314225454088
          ],
          [
           "U087",
           3.706,
           1.31,
           610.404,
           85.3664223850766
          ],
          [
           "U088",
           3.724,
           1,
           633.204,
           84.88072830638038
          ],
          [
           "U089",
           3.684,
           1.33,
           608.965,
           85.75465838509318
          ],
          [
           "U090",
           3.685,
           1.27,
           554.51,
           85.72936519571911
          ],
          [
           "U091",
           3.708,
           0.415,
           624.128,
           85.10727955894231
          ],
          [
           "U092",
           3.686,
           0.515,
           663.641,
           84.93422503123392
          ],
          [
           "U093",
           3.717,
           0.896,
           565.689,
           85.22648083623695
          ],
          [
           "U094",
           3.673,
           1.2,
           428.556,
           84.64170973599666
          ],
          [
           "U095",
           3.69,
           1.32,
           521.306,
           85.17945459066671
          ],
          [
           "U096",
           3.672,
           1.19,
           536.359,
           88.25127217714206
          ],
          [
           "U097",
           3.708,
           1.07,
           545.767,
           87.36419222800545
          ],
          [
           "U098",
           3.665,
           1.33,
           508.356,
           87.76656918476651
          ],
          [
           "U099",
           3.683,
           1.12,
           541.561,
           86.71287420734406
          ],
          [
           "U100",
           3.838,
           1.29,
           463.641,
           86.76320986176766
          ],
          [
           "U101",
           3.479,
           0.82,
           564.914,
           85.41600940717585
          ],
          [
           "U102",
           3.042,
           0.46,
           482.9,
           85.03176691203223
          ],
          [
           "U103",
           3.479,
           1,
           496.846,
           84.9655172413793
          ],
          [
           "U104",
           3.092,
           1.09,
           397.233,
           84.79218950847769
          ],
          [
           "U105",
           2.683,
           0.94,
           433.536,
           84.55086908958306
          ],
          [
           "U106",
           2.97,
           0.74,
           514.001,
           83.60273647409196
          ],
          [
           "U107",
           2.92,
           0.71,
           440.288,
           82.56392985157208
          ],
          [
           "U108",
           3.018,
           0.79,
           417.598,
           85.62651141961486
          ],
          [
           "U109",
           3.055,
           0.74,
           478.251,
           84.71778883032687
          ],
          [
           "U110",
           3.153,
           1.07,
           372.33,
           82.88561233420855
          ],
          [
           "U111",
           2.921,
           0.95,
           372.662,
           84.60687183811127
          ],
          [
           "U112",
           3.094,
           1.02,
           576.425,
           84.35990698229084
          ],
          [
           "U113",
           2.994,
           0.91,
           521.527,
           84.63925744547578
          ],
          [
           "U114",
           3.17,
           0.99,
           397.565,
           84.15085332378568
          ],
          [
           "U115",
           2.892,
           1.02,
           458.329,
           84.56842412735503
          ],
          [
           "U116",
           2.799,
           1.4,
           595.905,
           87.57229560871116
          ],
          [
           "U117",
           3.1,
           1.09,
           509.463,
           87.24104482782514
          ],
          [
           "U118",
           2.819,
           1.1,
           436.303,
           85.82558051584599
          ],
          [
           "U119",
           2.778,
           1.35,
           476.923,
           86.57922830562758
          ],
          [
           "U120",
           2.841,
           0.98,
           449.696,
           85.58372541718849
          ],
          [
           "U121",
           2.93,
           0.89,
           525.291,
           84.08894687362101
          ],
          [
           "U122",
           2.876,
           1.05,
           484.117,
           85.69196534255006
          ],
          [
           "U123",
           2.962,
           0.93,
           422.8,
           83.95190466056607
          ],
          [
           "U124",
           2.981,
           0.85,
           396.68,
           82.11922587058497
          ],
          [
           "U125",
           2.936,
           0.94,
           456.89,
           84.60946320435187
          ],
          [
           "U126",
           2.907,
           1.1,
           637.299,
           86.33213711174358
          ],
          [
           "U127",
           2.889,
           1.05,
           536.248,
           85.62030918278865
          ],
          [
           "U128",
           2.936,
           0.774,
           399.668,
           85.22182960345506
          ],
          [
           "U129",
           2.837,
           0.97,
           394.023,
           85.12055201187468
          ],
          [
           "U130",
           2.747,
           1.08,
           574.544,
           83.9715873996294
          ],
          [
           "U131",
           2.896,
           1.04,
           575.208,
           85.15847041598484
          ],
          [
           "U132",
           2.947,
           0.89,
           617.266,
           85.44221294271007
          ],
          [
           "U133",
           2.878,
           4.51,
           657.333,
           86.19424740064132
          ],
          [
           "U134",
           3.116,
           0.97,
           474.71,
           84.09050733604383
          ],
          [
           "U135",
           3.174,
           1.91,
           476.812,
           86.02420643982647
          ],
          [
           "U136",
           3.038,
           0.532,
           567.903,
           84.6784213951837
          ],
          [
           "U137",
           2.889,
           1.04,
           603.653,
           85.4442575317327
          ],
          [
           "U138",
           2.936,
           0.9,
           573.99,
           84.80679258360769
          ],
          [
           "U139",
           2.971,
           0.9,
           528.058,
           84.69019450571487
          ],
          [
           "U140",
           3.014,
           0.89,
           467.183,
           84.2062676998724
          ],
          [
           "U141",
           2.964,
           0.92,
           459.436,
           84.00538992757288
          ],
          [
           "U142",
           2.859,
           0.97,
           496.292,
           82.78107365070181
          ],
          [
           "U143",
           2.94,
           0.99,
           498.285,
           83.50670887984319
          ],
          [
           "U144",
           2.983,
           1.25,
           479.912,
           83.45870809484875
          ],
          [
           "U145",
           4.033,
           1.05,
           539.126,
           83.61918345516136
          ],
          [
           "U146",
           2.949,
           0.78,
           512.341,
           85.67578666392896
          ],
          [
           "U147",
           2.922,
           0.91,
           519.978,
           84.94637719068797
          ],
          [
           "U148",
           3.002,
           0.98,
           516.99,
           85.16343132360285
          ],
          [
           "U149",
           2.896,
           0.94,
           445.822,
           85.26221540035813
          ],
          [
           "U150",
           2.934,
           0.94,
           479.026,
           85.25801952580197
          ],
          [
           "U151",
           3.66,
           0.89,
           433.979,
           81.76690134871491
          ],
          [
           "U152",
           3.14,
           0.67,
           445.49,
           83.37520801383495
          ],
          [
           "U153",
           3.16,
           1.03,
           430.105,
           83.0942863860804
          ],
          [
           "U154",
           3.15,
           0.41,
           499.17,
           83.09303627108709
          ],
          [
           "U155",
           3.14,
           0.79,
           393.138,
           82.86324046836246
          ],
          [
           "U156",
           3.2,
           0.56,
           325.401,
           81.9332700025203
          ],
          [
           "U157",
           3.19,
           0.52,
           456.779,
           80.69173244702948
          ],
          [
           "U158",
           3.15,
           0.55,
           297.067,
           81.57872956755637
          ],
          [
           "U159",
           3.16,
           0.58,
           382.18,
           80.56435434484214
          ],
          [
           "U160",
           3.1,
           0.57,
           395.683,
           81.34539485173416
          ],
          [
           "U161",
           3.03,
           0.79,
           445.49,
           82.30389379098195
          ],
          [
           "U162",
           2.98,
           0.76,
           387.493,
           82.46957956453846
          ],
          [
           "U163",
           2.99,
           0.72,
           393.47,
           86.55948553054661
          ],
          [
           "U164",
           3.01,
           0.62,
           500.387,
           81.33143264433357
          ],
          [
           "U165",
           3.02,
           0.71,
           422.247,
           82.4565669665775
          ],
          [
           "U166",
           2.9,
           0.84,
           589.928,
           86.69428682938545
          ],
          [
           "U167",
           2.94,
           0.88,
           455.008,
           85.60340270101406
          ],
          [
           "U168",
           3,
           0.76,
           551.965,
           84.38009100612327
          ],
          [
           "U169",
           2.99,
           0.77,
           430.991,
           85.55779013368034
          ],
          [
           "U170",
           2.97,
           0.85,
           472.717,
           85.31199157814146
          ],
          [
           "U171",
           3.01,
           0.62,
           531.378,
           81.33435408869231
          ],
          [
           "U172",
           3.01,
           0.69,
           600.996,
           82.61250547662267
          ],
          [
           "U173",
           3.08,
           0.8,
           394.577,
           82.87389795348464
          ],
          [
           "U174",
           3.02,
           0.67,
           422.69,
           81.48675084474478
          ],
          [
           "U175",
           3.03,
           0.62,
           376.204,
           83.72381593337259
          ],
          [
           "U176",
           3,
           0.7,
           502.933,
           83.53335818114051
          ],
          [
           "U177",
           3.02,
           0.67,
           564.582,
           83.78310098527824
          ],
          [
           "U178",
           3.02,
           0.65,
           570.448,
           84.69046346340401
          ],
          [
           "U179",
           3.07,
           0.76,
           425.567,
           83.63496422033617
          ],
          [
           "U180",
           3.03,
           0.82,
           506.586,
           83.0924258693318
          ],
          [
           "U181",
           2.99,
           0.74,
           492.64,
           83.62390254883816
          ],
          [
           "U182",
           3.04,
           0.68,
           535.252,
           82.89153427446121
          ],
          [
           "U183",
           3.04,
           0.82,
           497.399,
           83.17724733367193
          ],
          [
           "U184",
           3.01,
           0.75,
           449.364,
           81.49680893498204
          ],
          [
           "U185",
           3.17,
           0.55,
           379.745,
           82.59263975550745
          ],
          [
           "U186",
           3.07,
           0.58,
           439.181,
           83.30968428520751
          ],
          [
           "U187",
           3.02,
           0.7,
           541.007,
           83.60967993754878
          ],
          [
           "U188",
           3.05,
           0.53,
           378.749,
           83.1456720619282
          ],
          [
           "U189",
           3.06,
           0.6,
           541.782,
           82.56316389605712
          ],
          [
           "U190",
           3.04,
           0.61,
           485.778,
           83.48244796520656
          ],
          [
           "U191",
           3.04,
           0.7,
           575.318,
           81.4498109315916
          ],
          [
           "U192",
           3.02,
           0.75,
           442.944,
           82.14248297537978
          ],
          [
           "U193",
           3.01,
           0.82,
           535.03,
           80.90634441087616
          ],
          [
           "U194",
           3.01,
           0.74,
           355.285,
           81.77305981925119
          ],
          [
           "U195",
           3.04,
           0.71,
           367.017,
           81.6231221423906
          ],
          [
           "U196",
           3,
           0.79,
           536.801,
           84.6017250126839
          ],
          [
           "U197",
           3.01,
           0.85,
           377.532,
           83.74871342449643
          ],
          [
           "U198",
           3.05,
           0.5,
           515.661,
           83.26991120902596
          ],
          [
           "U199",
           3.04,
           0.67,
           464.306,
           83.65047152918706
          ],
          [
           "U200",
           3.09,
           0.66,
           582.18,
           82.45249319239892
          ],
          [
           "U201",
           3.61,
           0.86,
           397.676,
           81.90974297668859
          ],
          [
           "U202",
           3.47,
           0.81,
           386.608,
           81.44940747493163
          ],
          [
           "U203",
           3.45,
           0.78,
           424.793,
           80.60464815174468
          ],
          [
           "U204",
           3.37,
           0.78,
           388.157,
           81.16516028570462
          ],
          [
           "U205",
           3.38,
           0.83,
           450.36,
           81.75927305228663
          ],
          [
           "U206",
           3.4,
           0.64,
           475.263,
           80.68539063108942
          ],
          [
           "U207",
           3.42,
           0.61,
           419.48,
           81.83595739047192
          ],
          [
           "U208",
           3.43,
           0.53,
           436.414,
           80.6989372266475
          ],
          [
           "U209",
           3.38,
           0.67,
           416.934,
           82.0347533632287
          ],
          [
           "U210",
           3.44,
           0.6,
           353.403,
           80.8863089338808
          ],
          [
           "U211",
           3.4,
           0.59,
           486.663,
           80.87322059807013
          ],
          [
           "U212",
           3.36,
           0.68,
           467.183,
           80.74391988555077
          ],
          [
           "U213",
           3.28,
           0.77,
           452.02,
           81.66167482406797
          ],
          [
           "U214",
           3.3,
           0.84,
           578.971,
           81.0488380763017
          ],
          [
           "U215",
           3.28,
           0.81,
           509.353,
           81.0761632440863
          ],
          [
           "U216",
           3.25,
           0.84,
           475.595,
           82.00364952586077
          ],
          [
           "U217",
           3.25,
           0.75,
           377.975,
           84.31972955759149
          ],
          [
           "U218",
           3.26,
           0.83,
           397.786,
           83.67316416571114
          ],
          [
           "U219",
           3.32,
           0.7,
           390.924,
           82.71908746127791
          ],
          [
           "U220",
           3.25,
           0.68,
           493.636,
           83.98611674098095
          ],
          [
           "U221",
           3.28,
           0.7,
           474.82,
           81.05118180202595
          ],
          [
           "U222",
           3.27,
           0.77,
           478.694,
           79.36845788261363
          ],
          [
           "U223",
           3.28,
           0.72,
           349.419,
           80.71981226329606
          ],
          [
           "U224",
           3.29,
           0.68,
           458.771,
           81.37265054626418
          ],
          [
           "U225",
           3.29,
           0.74,
           259.989,
           80.91355049700933
          ],
          [
           "U226",
           3.27,
           0.82,
           436.414,
           82.1415626779889
          ],
          [
           "U227",
           3.25,
           0.74,
           432.429,
           82.37816660931254
          ],
          [
           "U228",
           3.26,
           0.75,
           492.64,
           82.44124676359293
          ],
          [
           "U229",
           3.22,
           0.7,
           361.926,
           82.2214965478634
          ],
          [
           "U230",
           3.24,
           0.74,
           425.789,
           81.89335903810053
          ],
          [
           "U231",
           3.23,
           0.71,
           455.451,
           82.14892967694118
          ],
          [
           "U232",
           3.24,
           0.72,
           346.431,
           80.85322624625073
          ],
          [
           "U233",
           3.26,
           0.71,
           500.609,
           79.33734340823226
          ],
          [
           "U234",
           3.24,
           0.72,
           545.434,
           82.00531606611109
          ],
          [
           "U235",
           3.26,
           0.87,
           424.239,
           80.5381849874714
          ],
          [
           "U236",
           3.24,
           0.75,
           461.76,
           82.25111317475056
          ],
          [
           "U237",
           3.2,
           0.77,
           524.627,
           82.59752075514615
          ],
          [
           "U238",
           3.18,
           0.55,
           526.176,
           81.73932634899181
          ],
          [
           "U239",
           3.16,
           0.71,
           539.79,
           81.56166953259341
          ],
          [
           "U240",
           3.16,
           0.75,
           421.14,
           80.93393148450247
          ],
          [
           "U241",
           3.17,
           0.77,
           472.496,
           81.3222805136083
          ],
          [
           "U242",
           3.12,
           0.8,
           484.228,
           81.38325703073906
          ],
          [
           "U243",
           3.17,
           0.79,
           428.777,
           63.964518910927694
          ],
          [
           "U244",
           3.14,
           0.81,
           511.677,
           80.94603597601596
          ],
          [
           "U245",
           3.13,
           0.82,
           436.857,
           83.29667486091347
          ],
          [
           "U246",
           3.19,
           0.68,
           407.748,
           81.28414929186944
          ],
          [
           "U247",
           3.2,
           0.69,
           410.293,
           81.73937360178971
          ],
          [
           "U248",
           3.21,
           0.73,
           353.403,
           82.38555922605002
          ],
          [
           "U249",
           3.2,
           0.63,
           401.771,
           82.0337985332712
          ],
          [
           "U250",
           3.21,
           0.72,
           386.94,
           82.44775739041793
          ]
         ],
         "hovertemplate": "SST=%{y}<br>Wavelength=%{customdata[0]}<br>PH=%{customdata[1]}<br>AT=%{customdata[2]}<br>FIRMEZA (N)=%{customdata[3]}<br>UBU (%)=%{customdata[4]}<extra></extra>",
         "legendgroup": "",
         "marker": {
          "color": "#636efa"
         },
         "name": "",
         "notched": false,
         "offsetgroup": "",
         "orientation": "v",
         "showlegend": false,
         "type": "box",
         "x0": " ",
         "xaxis": "x",
         "y": {
          "bdata": "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",
          "dtype": "f8"
         },
         "y0": " ",
         "yaxis": "y"
        }
       ],
       "layout": {
        "boxmode": "group",
        "legend": {
         "tracegroupgap": 0
        },
        "template": {
         "data": {
          "bar": [
           {
            "error_x": {
             "color": "#2a3f5f"
            },
            "error_y": {
             "color": "#2a3f5f"
            },
            "marker": {
             "line": {
              "color": "#E5ECF6",
              "width": 0.5
             },
             "pattern": {
              "fillmode": "overlay",
              "size": 10,
              "solidity": 0.2
             }
            },
            "type": "bar"
           }
          ],
          "barpolar": [
           {
            "marker": {
             "line": {
              "color": "#E5ECF6",
              "width": 0.5
             },
             "pattern": {
              "fillmode": "overlay",
              "size": 10,
              "solidity": 0.2
             }
            },
            "type": "barpolar"
           }
          ],
          "carpet": [
           {
            "aaxis": {
             "endlinecolor": "#2a3f5f",
             "gridcolor": "white",
             "linecolor": "white",
             "minorgridcolor": "white",
             "startlinecolor": "#2a3f5f"
            },
            "baxis": {
             "endlinecolor": "#2a3f5f",
             "gridcolor": "white",
             "linecolor": "white",
             "minorgridcolor": "white",
             "startlinecolor": "#2a3f5f"
            },
            "type": "carpet"
           }
          ],
          "choropleth": [
           {
            "colorbar": {
             "outlinewidth": 0,
             "ticks": ""
            },
            "type": "choropleth"
           }
          ],
          "contour": [
           {
            "colorbar": {
             "outlinewidth": 0,
             "ticks": ""
            },
            "colorscale": [
             [
              0,
              "#0d0887"
             ],
             [
              0.1111111111111111,
              "#46039f"
             ],
             [
              0.2222222222222222,
              "#7201a8"
             ],
             [
              0.3333333333333333,
              "#9c179e"
             ],
             [
              0.4444444444444444,
              "#bd3786"
             ],
             [
              0.5555555555555556,
              "#d8576b"
             ],
             [
              0.6666666666666666,
              "#ed7953"
             ],
             [
              0.7777777777777778,
              "#fb9f3a"
             ],
             [
              0.8888888888888888,
              "#fdca26"
             ],
             [
              1,
              "#f0f921"
             ]
            ],
            "type": "contour"
           }
          ],
          "contourcarpet": [
           {
            "colorbar": {
             "outlinewidth": 0,
             "ticks": ""
            },
            "type": "contourcarpet"
           }
          ],
          "heatmap": [
           {
            "colorbar": {
             "outlinewidth": 0,
             "ticks": ""
            },
            "colorscale": [
             [
              0,
              "#0d0887"
             ],
             [
              0.1111111111111111,
              "#46039f"
             ],
             [
              0.2222222222222222,
              "#7201a8"
             ],
             [
              0.3333333333333333,
              "#9c179e"
             ],
             [
              0.4444444444444444,
              "#bd3786"
             ],
             [
              0.5555555555555556,
              "#d8576b"
             ],
             [
              0.6666666666666666,
              "#ed7953"
             ],
             [
              0.7777777777777778,
              "#fb9f3a"
             ],
             [
              0.8888888888888888,
              "#fdca26"
             ],
             [
              1,
              "#f0f921"
             ]
            ],
            "type": "heatmap"
           }
          ],
          "histogram": [
           {
            "marker": {
             "pattern": {
              "fillmode": "overlay",
              "size": 10,
              "solidity": 0.2
             }
            },
            "type": "histogram"
           }
          ],
          "histogram2d": [
           {
            "colorbar": {
             "outlinewidth": 0,
             "ticks": ""
            },
            "colorscale": [
             [
              0,
              "#0d0887"
             ],
             [
              0.1111111111111111,
              "#46039f"
             ],
             [
              0.2222222222222222,
              "#7201a8"
             ],
             [
              0.3333333333333333,
              "#9c179e"
             ],
             [
              0.4444444444444444,
              "#bd3786"
             ],
             [
              0.5555555555555556,
              "#d8576b"
             ],
             [
              0.6666666666666666,
              "#ed7953"
             ],
             [
              0.7777777777777778,
              "#fb9f3a"
             ],
             [
              0.8888888888888888,
              "#fdca26"
             ],
             [
              1,
              "#f0f921"
             ]
            ],
            "type": "histogram2d"
           }
          ],
          "histogram2dcontour": [
           {
            "colorbar": {
             "outlinewidth": 0,
             "ticks": ""
            },
            "colorscale": [
             [
              0,
              "#0d0887"
             ],
             [
              0.1111111111111111,
              "#46039f"
             ],
             [
              0.2222222222222222,
              "#7201a8"
             ],
             [
              0.3333333333333333,
              "#9c179e"
             ],
             [
              0.4444444444444444,
              "#bd3786"
             ],
             [
              0.5555555555555556,
              "#d8576b"
             ],
             [
              0.6666666666666666,
              "#ed7953"
             ],
             [
              0.7777777777777778,
              "#fb9f3a"
             ],
             [
              0.8888888888888888,
              "#fdca26"
             ],
             [
              1,
              "#f0f921"
             ]
            ],
            "type": "histogram2dcontour"
           }
          ],
          "mesh3d": [
           {
            "colorbar": {
             "outlinewidth": 0,
             "ticks": ""
            },
            "type": "mesh3d"
           }
          ],
          "parcoords": [
           {
            "line": {
             "colorbar": {
              "outlinewidth": 0,
              "ticks": ""
             }
            },
            "type": "parcoords"
           }
          ],
          "pie": [
           {
            "automargin": true,
            "type": "pie"
           }
          ],
          "scatter": [
           {
            "fillpattern": {
             "fillmode": "overlay",
             "size": 10,
             "solidity": 0.2
            },
            "type": "scatter"
           }
          ],
          "scatter3d": [
           {
            "line": {
             "colorbar": {
              "outlinewidth": 0,
              "ticks": ""
             }
            },
            "marker": {
             "colorbar": {
              "outlinewidth": 0,
              "ticks": ""
             }
            },
            "type": "scatter3d"
           }
          ],
          "scattercarpet": [
           {
            "marker": {
             "colorbar": {
              "outlinewidth": 0,
              "ticks": ""
             }
            },
            "type": "scattercarpet"
           }
          ],
          "scattergeo": [
           {
            "marker": {
             "colorbar": {
              "outlinewidth": 0,
              "ticks": ""
             }
            },
            "type": "scattergeo"
           }
          ],
          "scattergl": [
           {
            "marker": {
             "colorbar": {
              "outlinewidth": 0,
              "ticks": ""
             }
            },
            "type": "scattergl"
           }
          ],
          "scattermap": [
           {
            "marker": {
             "colorbar": {
              "outlinewidth": 0,
              "ticks": ""
             }
            },
            "type": "scattermap"
           }
          ],
          "scattermapbox": [
           {
            "marker": {
             "colorbar": {
              "outlinewidth": 0,
              "ticks": ""
             }
            },
            "type": "scattermapbox"
           }
          ],
          "scatterpolar": [
           {
            "marker": {
             "colorbar": {
              "outlinewidth": 0,
              "ticks": ""
             }
            },
            "type": "scatterpolar"
           }
          ],
          "scatterpolargl": [
           {
            "marker": {
             "colorbar": {
              "outlinewidth": 0,
              "ticks": ""
             }
            },
            "type": "scatterpolargl"
           }
          ],
          "scatterternary": [
           {
            "marker": {
             "colorbar": {
              "outlinewidth": 0,
              "ticks": ""
             }
            },
            "type": "scatterternary"
           }
          ],
          "surface": [
           {
            "colorbar": {
             "outlinewidth": 0,
             "ticks": ""
            },
            "colorscale": [
             [
              0,
              "#0d0887"
             ],
             [
              0.1111111111111111,
              "#46039f"
             ],
             [
              0.2222222222222222,
              "#7201a8"
             ],
             [
              0.3333333333333333,
              "#9c179e"
             ],
             [
              0.4444444444444444,
              "#bd3786"
             ],
             [
              0.5555555555555556,
              "#d8576b"
             ],
             [
              0.6666666666666666,
              "#ed7953"
             ],
             [
              0.7777777777777778,
              "#fb9f3a"
             ],
             [
              0.8888888888888888,
              "#fdca26"
             ],
             [
              1,
              "#f0f921"
             ]
            ],
            "type": "surface"
           }
          ],
          "table": [
           {
            "cells": {
             "fill": {
              "color": "#EBF0F8"
             },
             "line": {
              "color": "white"
             }
            },
            "header": {
             "fill": {
              "color": "#C8D4E3"
             },
             "line": {
              "color": "white"
             }
            },
            "type": "table"
           }
          ]
         },
         "layout": {
          "annotationdefaults": {
           "arrowcolor": "#2a3f5f",
           "arrowhead": 0,
           "arrowwidth": 1
          },
          "autotypenumbers": "strict",
          "coloraxis": {
           "colorbar": {
            "outlinewidth": 0,
            "ticks": ""
           }
          },
          "colorscale": {
           "diverging": [
            [
             0,
             "#8e0152"
            ],
            [
             0.1,
             "#c51b7d"
            ],
            [
             0.2,
             "#de77ae"
            ],
            [
             0.3,
             "#f1b6da"
            ],
            [
             0.4,
             "#fde0ef"
            ],
            [
             0.5,
             "#f7f7f7"
            ],
            [
             0.6,
             "#e6f5d0"
            ],
            [
             0.7,
             "#b8e186"
            ],
            [
             0.8,
             "#7fbc41"
            ],
            [
             0.9,
             "#4d9221"
            ],
            [
             1,
             "#276419"
            ]
           ],
           "sequential": [
            [
             0,
             "#0d0887"
            ],
            [
             0.1111111111111111,
             "#46039f"
            ],
            [
             0.2222222222222222,
             "#7201a8"
            ],
            [
             0.3333333333333333,
             "#9c179e"
            ],
            [
             0.4444444444444444,
             "#bd3786"
            ],
            [
             0.5555555555555556,
             "#d8576b"
            ],
            [
             0.6666666666666666,
             "#ed7953"
            ],
            [
             0.7777777777777778,
             "#fb9f3a"
            ],
            [
             0.8888888888888888,
             "#fdca26"
            ],
            [
             1,
             "#f0f921"
            ]
           ],
           "sequentialminus": [
            [
             0,
             "#0d0887"
            ],
            [
             0.1111111111111111,
             "#46039f"
            ],
            [
             0.2222222222222222,
             "#7201a8"
            ],
            [
             0.3333333333333333,
             "#9c179e"
            ],
            [
             0.4444444444444444,
             "#bd3786"
            ],
            [
             0.5555555555555556,
             "#d8576b"
            ],
            [
             0.6666666666666666,
             "#ed7953"
            ],
            [
             0.7777777777777778,
             "#fb9f3a"
            ],
            [
             0.8888888888888888,
             "#fdca26"
            ],
            [
             1,
             "#f0f921"
            ]
           ]
          },
          "colorway": [
           "#636efa",
           "#EF553B",
           "#00cc96",
           "#ab63fa",
           "#FFA15A",
           "#19d3f3",
           "#FF6692",
           "#B6E880",
           "#FF97FF",
           "#FECB52"
          ],
          "font": {
           "color": "#2a3f5f"
          },
          "geo": {
           "bgcolor": "white",
           "lakecolor": "white",
           "landcolor": "#E5ECF6",
           "showlakes": true,
           "showland": true,
           "subunitcolor": "white"
          },
          "hoverlabel": {
           "align": "left"
          },
          "hovermode": "closest",
          "mapbox": {
           "style": "light"
          },
          "paper_bgcolor": "white",
          "plot_bgcolor": "#E5ECF6",
          "polar": {
           "angularaxis": {
            "gridcolor": "white",
            "linecolor": "white",
            "ticks": ""
           },
           "bgcolor": "#E5ECF6",
           "radialaxis": {
            "gridcolor": "white",
            "linecolor": "white",
            "ticks": ""
           }
          },
          "scene": {
           "xaxis": {
            "backgroundcolor": "#E5ECF6",
            "gridcolor": "white",
            "gridwidth": 2,
            "linecolor": "white",
            "showbackground": true,
            "ticks": "",
            "zerolinecolor": "white"
           },
           "yaxis": {
            "backgroundcolor": "#E5ECF6",
            "gridcolor": "white",
            "gridwidth": 2,
            "linecolor": "white",
            "showbackground": true,
            "ticks": "",
            "zerolinecolor": "white"
           },
           "zaxis": {
            "backgroundcolor": "#E5ECF6",
            "gridcolor": "white",
            "gridwidth": 2,
            "linecolor": "white",
            "showbackground": true,
            "ticks": "",
            "zerolinecolor": "white"
           }
          },
          "shapedefaults": {
           "line": {
            "color": "#2a3f5f"
           }
          },
          "ternary": {
           "aaxis": {
            "gridcolor": "white",
            "linecolor": "white",
            "ticks": ""
           },
           "baxis": {
            "gridcolor": "white",
            "linecolor": "white",
            "ticks": ""
           },
           "bgcolor": "#E5ECF6",
           "caxis": {
            "gridcolor": "white",
            "linecolor": "white",
            "ticks": ""
           }
          },
          "title": {
           "x": 0.05
          },
          "xaxis": {
           "automargin": true,
           "gridcolor": "white",
           "linecolor": "white",
           "ticks": "",
           "title": {
            "standoff": 15
           },
           "zerolinecolor": "white",
           "zerolinewidth": 2
          },
          "yaxis": {
           "automargin": true,
           "gridcolor": "white",
           "linecolor": "white",
           "ticks": "",
           "title": {
            "standoff": 15
           },
           "zerolinecolor": "white",
           "zerolinewidth": 2
          }
         }
        },
        "title": {
         "text": "Box Plot do Atributo: SST"
        },
        "xaxis": {
         "anchor": "y",
         "domain": [
          0,
          1
         ]
        },
        "yaxis": {
         "anchor": "x",
         "domain": [
          0,
          1
         ],
         "title": {
          "text": "SST"
         }
        }
       }
      }
     },
     "metadata": {},
     "output_type": "display_data"
    },
    {
     "name": "stdout",
     "output_type": "stream",
     "text": [
      "Nenhum outlier encontrado para 'SST'.\n"
     ]
    },
    {
     "data": {
      "application/vnd.plotly.v1+json": {
       "config": {
        "plotlyServerURL": "https://plot.ly"
       },
       "data": [
        {
         "alignmentgroup": "True",
         "boxpoints": "all",
         "customdata": [
          [
           "U001",
           11.6,
           1.98,
           557.941,
           88.13370473537603
          ],
          [
           "U002",
           11.3,
           1.91,
           392.806,
           87.79383429672451
          ],
          [
           "U003",
           11.4,
           1.86,
           553.736,
           87.59904912836764
          ],
          [
           "U004",
           11.6,
           1.76,
           564.029,
           87.18606180144644
          ],
          [
           "U005",
           11.3,
           2.06,
           645.933,
           87.5957926371149
          ],
          [
           "U006",
           12,
           1.98,
           675.042,
           87.13245997088792
          ],
          [
           "U007",
           12.7,
           1.62,
           559.38,
           85.98595353862775
          ],
          [
           "U008",
           12.8,
           1.76,
           619.812,
           86.21310295176389
          ],
          [
           "U009",
           13.2,
           2.11,
           720.531,
           87.75914634146336
          ],
          [
           "U010",
           12.9,
           1.57,
           556.06,
           85.82006369426753
          ],
          [
           "U011",
           11,
           2,
           578.085,
           87.629179331307
          ],
          [
           "U012",
           9.4,
           1.014,
           598.008,
           88.21545157780187
          ],
          [
           "U013",
           11.6,
           2.32,
           615.938,
           87.62316335350042
          ],
          [
           "U014",
           12.3,
           2.03,
           613.171,
           87.02087286527511
          ],
          [
           "U015",
           11.9,
           1.83,
           662.756,
           87.4169986719787
          ],
          [
           "U016",
           8,
           2.85,
           774.876,
           90.55322715842414
          ],
          [
           "U017",
           10.9,
           1.71,
           658.107,
           88.54131534569981
          ],
          [
           "U018",
           9.7,
           1.148,
           650.913,
           88.9677419354839
          ],
          [
           "U019",
           10,
           2.15,
           687.216,
           88.59932088285231
          ],
          [
           "U020",
           9.7,
           2.4,
           675.152,
           89.1748675246026
          ],
          [
           "U021",
           11.9,
           1.87,
           592.142,
           87.5317725752509
          ],
          [
           "U022",
           12.7,
           1.69,
           613.835,
           86.37880986937581
          ],
          [
           "U023",
           13.7,
           1.64,
           538.24,
           85.62500000000003
          ],
          [
           "U024",
           11.5,
           1.467,
           658.218,
           87.49999999999997
          ],
          [
           "U025",
           13.1,
           1.84,
           540.897,
           86.13196814562012
          ],
          [
           "U026",
           8.5,
           2.304,
           713.448,
           89.84308131241082
          ],
          [
           "U027",
           10.2,
           2.26,
           593.359,
           87.90336496980156
          ],
          [
           "U028",
           10.5,
           2.29,
           599.115,
           88.62244897959188
          ],
          [
           "U029",
           9.1,
           2.36,
           645.711,
           88.9314391599753
          ],
          [
           "U030",
           10.4,
           2.12,
           673.824,
           87.81450872359956
          ],
          [
           "U031",
           7.2,
           2.72,
           768.567,
           91.5115286080273
          ],
          [
           "U032",
           7.9,
           0.601,
           717.764,
           89.21200750469028
          ],
          [
           "U033",
           10.9,
           2.08,
           490.537,
           88.48965517241385
          ],
          [
           "U034",
           10.7,
           1.818,
           658.55,
           88.6481303930968
          ],
          [
           "U035",
           11.5,
           2.17,
           640.066,
           87.96841349605174
          ],
          [
           "U036",
           9.7,
           2.02,
           653.57,
           89.42540322580648
          ],
          [
           "U037",
           10.4,
           1.8,
           578.417,
           89.23018292682926
          ],
          [
           "U038",
           9.7,
           2.14,
           664.195,
           88.99789029535863
          ],
          [
           "U039",
           10.6,
           1.69,
           711.234,
           88.30431491294469
          ],
          [
           "U040",
           11.6,
           1.88,
           694.189,
           87.90759075907589
          ],
          [
           "U041",
           9.1,
           0.54,
           758.163,
           89.33797909407673
          ],
          [
           "U042",
           12.1,
           2.43,
           830.548,
           93.21316614420058
          ],
          [
           "U043",
           12.6,
           1.773,
           649.032,
           86.81318681318695
          ],
          [
           "U044",
           10.1,
           2.12,
           646.707,
           89.56816257408971
          ],
          [
           "U045",
           8.6,
           2.133,
           639.181,
           89.06097560975614
          ],
          [
           "U046",
           8.2,
           1.818,
           605.202,
           90.91966173361516
          ],
          [
           "U047",
           9.7,
           1.113,
           524.516,
           89.1866028708134
          ],
          [
           "U048",
           9.5,
           0.665,
           603.32,
           89.61837455830384
          ],
          [
           "U049",
           10.2,
           1.809,
           594.687,
           89.24228250701587
          ],
          [
           "U050",
           11.1,
           1.79,
           543,
           87.78368794326244
          ],
          [
           "U051",
           13.6,
           1.29,
           493.857,
           86.00779952336246
          ],
          [
           "U052",
           12.8,
           1.47,
           583.841,
           86.41550387596898
          ],
          [
           "U053",
           12.9,
           1.57,
           508.578,
           85.90077371566869
          ],
          [
           "U054",
           12.1,
           1.017,
           468.511,
           85.63756329599508
          ],
          [
           "U055",
           13.7,
           1.1,
           459.989,
           85.59582558045463
          ],
          [
           "U056",
           12.6,
           0.752,
           500.941,
           86.38251366120218
          ],
          [
           "U057",
           13.5,
           1.15,
           458.439,
           84.4997477719859
          ],
          [
           "U058",
           12.9,
           1.13,
           449.917,
           85.79146291986079
          ],
          [
           "U059",
           14.6,
           1.34,
           482.125,
           84.98097653772989
          ],
          [
           "U060",
           15.9,
           1.33,
           406.862,
           83.52230363799974
          ],
          [
           "U061",
           12.4,
           1.47,
           551.965,
           86.30094043887149
          ],
          [
           "U062",
           13,
           1.37,
           495.185,
           85.60317460317461
          ],
          [
           "U063",
           12.4,
           1.36,
           478.473,
           85.6540213370831
          ],
          [
           "U064",
           13.2,
           1.38,
           563.586,
           85.6106489184692
          ],
          [
           "U065",
           13.2,
           1.35,
           535.363,
           85.63676661656434
          ],
          [
           "U066",
           10.9,
           1.096,
           420.919,
           88.3319321843912
          ],
          [
           "U067",
           10.1,
           0.945,
           597.344,
           88.09644242117683
          ],
          [
           "U068",
           11,
           1.72,
           555.617,
           87.31633065142432
          ],
          [
           "U069",
           11.9,
           1.45,
           464.748,
           87.10915176749124
          ],
          [
           "U070",
           11.4,
           1.73,
           613.392,
           87.40903809698526
          ],
          [
           "U071",
           14.5,
           1.33,
           468.179,
           85.34199772224828
          ],
          [
           "U072",
           14.2,
           1.31,
           453.459,
           85.02920473266435
          ],
          [
           "U073",
           12.7,
           1.39,
           490.537,
           86.08539161732874
          ],
          [
           "U074",
           13.7,
           1.2,
           550.969,
           84.4006154706952
          ],
          [
           "U075",
           14,
           1.2,
           513.337,
           85.31342486481677
          ],
          [
           "U076",
           9.9,
           0.642,
           532.263,
           88.91170431211496
          ],
          [
           "U077",
           12.4,
           1.36,
           582.18,
           86.53680893726727
          ],
          [
           "U078",
           11.4,
           1.33,
           490.537,
           86.96868494101318
          ],
          [
           "U079",
           11.6,
           1.34,
           541.229,
           86.9326360938923
          ],
          [
           "U080",
           12,
           1.41,
           507.582,
           86.13090379651894
          ],
          [
           "U081",
           11,
           1.49,
           535.584,
           88.45017322192786
          ],
          [
           "U082",
           12.5,
           1.36,
           562.369,
           87.17361111111111
          ],
          [
           "U083",
           13.4,
           1.31,
           455.894,
           86.12492195268598
          ],
          [
           "U084",
           13.2,
           1.44,
           502.712,
           85.75189753320683
          ],
          [
           "U085",
           13.3,
           1.37,
           382.623,
           85.69147147820237
          ],
          [
           "U086",
           13.6,
           1.27,
           679.358,
           85.4314225454088
          ],
          [
           "U087",
           12.3,
           1.31,
           610.404,
           85.3664223850766
          ],
          [
           "U088",
           13.9,
           1,
           633.204,
           84.88072830638038
          ],
          [
           "U089",
           13.3,
           1.33,
           608.965,
           85.75465838509318
          ],
          [
           "U090",
           12.3,
           1.27,
           554.51,
           85.72936519571911
          ],
          [
           "U091",
           14.2,
           0.415,
           624.128,
           85.10727955894231
          ],
          [
           "U092",
           13.2,
           0.515,
           663.641,
           84.93422503123392
          ],
          [
           "U093",
           13.2,
           0.896,
           565.689,
           85.22648083623695
          ],
          [
           "U094",
           13.8,
           1.2,
           428.556,
           84.64170973599666
          ],
          [
           "U095",
           14.4,
           1.32,
           521.306,
           85.17945459066671
          ],
          [
           "U096",
           10.6,
           1.19,
           536.359,
           88.25127217714206
          ],
          [
           "U097",
           11,
           1.07,
           545.767,
           87.36419222800545
          ],
          [
           "U098",
           10.1,
           1.33,
           508.356,
           87.76656918476651
          ],
          [
           "U099",
           12.2,
           1.12,
           541.561,
           86.71287420734406
          ],
          [
           "U100",
           11.7,
           1.29,
           463.641,
           86.76320986176766
          ],
          [
           "U101",
           14.5,
           0.82,
           564.914,
           85.41600940717585
          ],
          [
           "U102",
           14.3,
           0.46,
           482.9,
           85.03176691203223
          ],
          [
           "U103",
           14.1,
           1,
           496.846,
           84.9655172413793
          ],
          [
           "U104",
           14.6,
           1.09,
           397.233,
           84.79218950847769
          ],
          [
           "U105",
           14.7,
           0.94,
           433.536,
           84.55086908958306
          ],
          [
           "U106",
           15.1,
           0.74,
           514.001,
           83.60273647409196
          ],
          [
           "U107",
           15.3,
           0.71,
           440.288,
           82.56392985157208
          ],
          [
           "U108",
           13.1,
           0.79,
           417.598,
           85.62651141961486
          ],
          [
           "U109",
           13.5,
           0.74,
           478.251,
           84.71778883032687
          ],
          [
           "U110",
           15.8,
           1.07,
           372.33,
           82.88561233420855
          ],
          [
           "U111",
           14.8,
           0.95,
           372.662,
           84.60687183811127
          ],
          [
           "U112",
           14.3,
           1.02,
           576.425,
           84.35990698229084
          ],
          [
           "U113",
           14.5,
           0.91,
           521.527,
           84.63925744547578
          ],
          [
           "U114",
           15,
           0.99,
           397.565,
           84.15085332378568
          ],
          [
           "U115",
           14.5,
           1.02,
           458.329,
           84.56842412735503
          ],
          [
           "U116",
           11.5,
           1.4,
           595.905,
           87.57229560871116
          ],
          [
           "U117",
           11.2,
           1.09,
           509.463,
           87.24104482782514
          ],
          [
           "U118",
           13.5,
           1.1,
           436.303,
           85.82558051584599
          ],
          [
           "U119",
           10.8,
           1.35,
           476.923,
           86.57922830562758
          ],
          [
           "U120",
           12.7,
           0.98,
           449.696,
           85.58372541718849
          ],
          [
           "U121",
           14.7,
           0.89,
           525.291,
           84.08894687362101
          ],
          [
           "U122",
           13.6,
           1.05,
           484.117,
           85.69196534255006
          ],
          [
           "U123",
           14.9,
           0.93,
           422.8,
           83.95190466056607
          ],
          [
           "U124",
           16.9,
           0.85,
           396.68,
           82.11922587058497
          ],
          [
           "U125",
           14.5,
           0.94,
           456.89,
           84.60946320435187
          ],
          [
           "U126",
           12.9,
           1.1,
           637.299,
           86.33213711174358
          ],
          [
           "U127",
           13.4,
           1.05,
           536.248,
           85.62030918278865
          ],
          [
           "U128",
           13.7,
           0.774,
           399.668,
           85.22182960345506
          ],
          [
           "U129",
           13.4,
           0.97,
           394.023,
           85.12055201187468
          ],
          [
           "U130",
           14,
           1.08,
           574.544,
           83.9715873996294
          ],
          [
           "U131",
           14,
           1.04,
           575.208,
           85.15847041598484
          ],
          [
           "U132",
           12.9,
           0.89,
           617.266,
           85.44221294271007
          ],
          [
           "U133",
           13,
           4.51,
           657.333,
           86.19424740064132
          ],
          [
           "U134",
           15.7,
           0.97,
           474.71,
           84.09050733604383
          ],
          [
           "U135",
           13.2,
           1.91,
           476.812,
           86.02420643982647
          ],
          [
           "U136",
           14.7,
           0.532,
           567.903,
           84.6784213951837
          ],
          [
           "U137",
           13.5,
           1.04,
           603.653,
           85.4442575317327
          ],
          [
           "U138",
           14,
           0.9,
           573.99,
           84.80679258360769
          ],
          [
           "U139",
           14.7,
           0.9,
           528.058,
           84.69019450571487
          ],
          [
           "U140",
           13.9,
           0.89,
           467.183,
           84.2062676998724
          ],
          [
           "U141",
           14.9,
           0.92,
           459.436,
           84.00538992757288
          ],
          [
           "U142",
           16.2,
           0.97,
           496.292,
           82.78107365070181
          ],
          [
           "U143",
           14.4,
           0.99,
           498.285,
           83.50670887984319
          ],
          [
           "U144",
           15.4,
           1.25,
           479.912,
           83.45870809484875
          ],
          [
           "U145",
           15.6,
           1.05,
           539.126,
           83.61918345516136
          ],
          [
           "U146",
           12.5,
           0.78,
           512.341,
           85.67578666392896
          ],
          [
           "U147",
           14.1,
           0.91,
           519.978,
           84.94637719068797
          ],
          [
           "U148",
           12.8,
           0.98,
           516.99,
           85.16343132360285
          ],
          [
           "U149",
           13.1,
           0.94,
           445.822,
           85.26221540035813
          ],
          [
           "U150",
           12.8,
           0.94,
           479.026,
           85.25801952580197
          ],
          [
           "U151",
           17.2,
           0.89,
           433.979,
           81.76690134871491
          ],
          [
           "U152",
           15,
           0.67,
           445.49,
           83.37520801383495
          ],
          [
           "U153",
           14.6,
           1.03,
           430.105,
           83.0942863860804
          ],
          [
           "U154",
           15.9,
           0.41,
           499.17,
           83.09303627108709
          ],
          [
           "U155",
           15.8,
           0.79,
           393.138,
           82.86324046836246
          ],
          [
           "U156",
           17.4,
           0.56,
           325.401,
           81.9332700025203
          ],
          [
           "U157",
           17,
           0.52,
           456.779,
           80.69173244702948
          ],
          [
           "U158",
           16.9,
           0.55,
           297.067,
           81.57872956755637
          ],
          [
           "U159",
           15.9,
           0.58,
           382.18,
           80.56435434484214
          ],
          [
           "U160",
           17.2,
           0.57,
           395.683,
           81.34539485173416
          ],
          [
           "U161",
           16.6,
           0.79,
           445.49,
           82.30389379098195
          ],
          [
           "U162",
           13.7,
           0.76,
           387.493,
           82.46957956453846
          ],
          [
           "U163",
           15.5,
           0.72,
           393.47,
           86.55948553054661
          ],
          [
           "U164",
           17.1,
           0.62,
           500.387,
           81.33143264433357
          ],
          [
           "U165",
           15.4,
           0.71,
           422.247,
           82.4565669665775
          ],
          [
           "U166",
           11.6,
           0.84,
           589.928,
           86.69428682938545
          ],
          [
           "U167",
           13.3,
           0.88,
           455.008,
           85.60340270101406
          ],
          [
           "U168",
           14.5,
           0.76,
           551.965,
           84.38009100612327
          ],
          [
           "U169",
           14.1,
           0.77,
           430.991,
           85.55779013368034
          ],
          [
           "U170",
           13.8,
           0.85,
           472.717,
           85.31199157814146
          ],
          [
           "U171",
           16.9,
           0.62,
           531.378,
           81.33435408869231
          ],
          [
           "U172",
           16.4,
           0.69,
           600.996,
           82.61250547662267
          ],
          [
           "U173",
           16.1,
           0.8,
           394.577,
           82.87389795348464
          ],
          [
           "U174",
           16.7,
           0.67,
           422.69,
           81.48675084474478
          ],
          [
           "U175",
           15.1,
           0.62,
           376.204,
           83.72381593337259
          ],
          [
           "U176",
           15.1,
           0.7,
           502.933,
           83.53335818114051
          ],
          [
           "U177",
           15.3,
           0.67,
           564.582,
           83.78310098527824
          ],
          [
           "U178",
           19,
           0.65,
           570.448,
           84.69046346340401
          ],
          [
           "U179",
           15.4,
           0.76,
           425.567,
           83.63496422033617
          ],
          [
           "U180",
           15.9,
           0.82,
           506.586,
           83.0924258693318
          ],
          [
           "U181",
           15.1,
           0.74,
           492.64,
           83.62390254883816
          ],
          [
           "U182",
           15.8,
           0.68,
           535.252,
           82.89153427446121
          ],
          [
           "U183",
           15.6,
           0.82,
           497.399,
           83.17724733367193
          ],
          [
           "U184",
           17,
           0.75,
           449.364,
           81.49680893498204
          ],
          [
           "U185",
           15.5,
           0.55,
           379.745,
           82.59263975550745
          ],
          [
           "U186",
           15.1,
           0.58,
           439.181,
           83.30968428520751
          ],
          [
           "U187",
           13.5,
           0.7,
           541.007,
           83.60967993754878
          ],
          [
           "U188",
           15.4,
           0.53,
           378.749,
           83.1456720619282
          ],
          [
           "U189",
           16.5,
           0.6,
           541.782,
           82.56316389605712
          ],
          [
           "U190",
           14.6,
           0.61,
           485.778,
           83.48244796520656
          ],
          [
           "U191",
           16.2,
           0.7,
           575.318,
           81.4498109315916
          ],
          [
           "U192",
           16.9,
           0.75,
           442.944,
           82.14248297537978
          ],
          [
           "U193",
           15.5,
           0.82,
           535.03,
           80.90634441087616
          ],
          [
           "U194",
           15.3,
           0.74,
           355.285,
           81.77305981925119
          ],
          [
           "U195",
           16.3,
           0.71,
           367.017,
           81.6231221423906
          ],
          [
           "U196",
           13.9,
           0.79,
           536.801,
           84.6017250126839
          ],
          [
           "U197",
           14.5,
           0.85,
           377.532,
           83.74871342449643
          ],
          [
           "U198",
           14.4,
           0.5,
           515.661,
           83.26991120902596
          ],
          [
           "U199",
           15,
           0.67,
           464.306,
           83.65047152918706
          ],
          [
           "U200",
           16,
           0.66,
           582.18,
           82.45249319239892
          ],
          [
           "U201",
           17.5,
           0.86,
           397.676,
           81.90974297668859
          ],
          [
           "U202",
           17.3,
           0.81,
           386.608,
           81.44940747493163
          ],
          [
           "U203",
           18.3,
           0.78,
           424.793,
           80.60464815174468
          ],
          [
           "U204",
           17.5,
           0.78,
           388.157,
           81.16516028570462
          ],
          [
           "U205",
           17.2,
           0.83,
           450.36,
           81.75927305228663
          ],
          [
           "U206",
           17.8,
           0.64,
           475.263,
           80.68539063108942
          ],
          [
           "U207",
           17.1,
           0.61,
           419.48,
           81.83595739047192
          ],
          [
           "U208",
           17.8,
           0.53,
           436.414,
           80.6989372266475
          ],
          [
           "U209",
           16.5,
           0.67,
           416.934,
           82.0347533632287
          ],
          [
           "U210",
           18.5,
           0.6,
           353.403,
           80.8863089338808
          ],
          [
           "U211",
           17.5,
           0.59,
           486.663,
           80.87322059807013
          ],
          [
           "U212",
           18.6,
           0.68,
           467.183,
           80.74391988555077
          ],
          [
           "U213",
           16.8,
           0.77,
           452.02,
           81.66167482406797
          ],
          [
           "U214",
           17.8,
           0.84,
           578.971,
           81.0488380763017
          ],
          [
           "U215",
           17.4,
           0.81,
           509.353,
           81.0761632440863
          ],
          [
           "U216",
           16.9,
           0.84,
           475.595,
           82.00364952586077
          ],
          [
           "U217",
           14.9,
           0.75,
           377.975,
           84.31972955759149
          ],
          [
           "U218",
           15.1,
           0.83,
           397.786,
           83.67316416571114
          ],
          [
           "U219",
           16.2,
           0.7,
           390.924,
           82.71908746127791
          ],
          [
           "U220",
           14.9,
           0.68,
           493.636,
           83.98611674098095
          ],
          [
           "U221",
           18,
           0.7,
           474.82,
           81.05118180202595
          ],
          [
           "U222",
           19.1,
           0.77,
           478.694,
           79.36845788261363
          ],
          [
           "U223",
           17.9,
           0.72,
           349.419,
           80.71981226329606
          ],
          [
           "U224",
           17,
           0.68,
           458.771,
           81.37265054626418
          ],
          [
           "U225",
           17.5,
           0.74,
           259.989,
           80.91355049700933
          ],
          [
           "U226",
           17.1,
           0.82,
           436.414,
           82.1415626779889
          ],
          [
           "U227",
           15.8,
           0.74,
           432.429,
           82.37816660931254
          ],
          [
           "U228",
           16.7,
           0.75,
           492.64,
           82.44124676359293
          ],
          [
           "U229",
           16.2,
           0.7,
           361.926,
           82.2214965478634
          ],
          [
           "U230",
           15.3,
           0.74,
           425.789,
           81.89335903810053
          ],
          [
           "U231",
           16.8,
           0.71,
           455.451,
           82.14892967694118
          ],
          [
           "U232",
           17.3,
           0.72,
           346.431,
           80.85322624625073
          ],
          [
           "U233",
           19.5,
           0.71,
           500.609,
           79.33734340823226
          ],
          [
           "U234",
           16.6,
           0.72,
           545.434,
           82.00531606611109
          ],
          [
           "U235",
           17.5,
           0.87,
           424.239,
           80.5381849874714
          ],
          [
           "U236",
           15.1,
           0.75,
           461.76,
           82.25111317475056
          ],
          [
           "U237",
           15.9,
           0.77,
           524.627,
           82.59752075514615
          ],
          [
           "U238",
           17.2,
           0.55,
           526.176,
           81.73932634899181
          ],
          [
           "U239",
           17.1,
           0.71,
           539.79,
           81.56166953259341
          ],
          [
           "U240",
           18.2,
           0.75,
           421.14,
           80.93393148450247
          ],
          [
           "U241",
           16.3,
           0.77,
           472.496,
           81.3222805136083
          ],
          [
           "U242",
           15.7,
           0.8,
           484.228,
           81.38325703073906
          ],
          [
           "U243",
           15.9,
           0.79,
           428.777,
           63.964518910927694
          ],
          [
           "U244",
           17.7,
           0.81,
           511.677,
           80.94603597601596
          ],
          [
           "U245",
           15.2,
           0.82,
           436.857,
           83.29667486091347
          ],
          [
           "U246",
           17.2,
           0.68,
           407.748,
           81.28414929186944
          ],
          [
           "U247",
           15.9,
           0.69,
           410.293,
           81.73937360178971
          ],
          [
           "U248",
           16.6,
           0.73,
           353.403,
           82.38555922605002
          ],
          [
           "U249",
           16.2,
           0.63,
           401.771,
           82.0337985332712
          ],
          [
           "U250",
           15.6,
           0.72,
           386.94,
           82.44775739041793
          ]
         ],
         "hovertemplate": "PH=%{y}<br>Wavelength=%{customdata[0]}<br>SST=%{customdata[1]}<br>AT=%{customdata[2]}<br>FIRMEZA (N)=%{customdata[3]}<br>UBU (%)=%{customdata[4]}<extra></extra>",
         "legendgroup": "",
         "marker": {
          "color": "#636efa"
         },
         "name": "",
         "notched": false,
         "offsetgroup": "",
         "orientation": "v",
         "showlegend": false,
         "type": "box",
         "x0": " ",
         "xaxis": "x",
         "y": {
          "bdata": "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",
          "dtype": "f8"
         },
         "y0": " ",
         "yaxis": "y"
        }
       ],
       "layout": {
        "boxmode": "group",
        "legend": {
         "tracegroupgap": 0
        },
        "template": {
         "data": {
          "bar": [
           {
            "error_x": {
             "color": "#2a3f5f"
            },
            "error_y": {
             "color": "#2a3f5f"
            },
            "marker": {
             "line": {
              "color": "#E5ECF6",
              "width": 0.5
             },
             "pattern": {
              "fillmode": "overlay",
              "size": 10,
              "solidity": 0.2
             }
            },
            "type": "bar"
           }
          ],
          "barpolar": [
           {
            "marker": {
             "line": {
              "color": "#E5ECF6",
              "width": 0.5
             },
             "pattern": {
              "fillmode": "overlay",
              "size": 10,
              "solidity": 0.2
             }
            },
            "type": "barpolar"
           }
          ],
          "carpet": [
           {
            "aaxis": {
             "endlinecolor": "#2a3f5f",
             "gridcolor": "white",
             "linecolor": "white",
             "minorgridcolor": "white",
             "startlinecolor": "#2a3f5f"
            },
            "baxis": {
             "endlinecolor": "#2a3f5f",
             "gridcolor": "white",
             "linecolor": "white",
             "minorgridcolor": "white",
             "startlinecolor": "#2a3f5f"
            },
            "type": "carpet"
           }
          ],
          "choropleth": [
           {
            "colorbar": {
             "outlinewidth": 0,
             "ticks": ""
            },
            "type": "choropleth"
           }
          ],
          "contour": [
           {
            "colorbar": {
             "outlinewidth": 0,
             "ticks": ""
            },
            "colorscale": [
             [
              0,
              "#0d0887"
             ],
             [
              0.1111111111111111,
              "#46039f"
             ],
             [
              0.2222222222222222,
              "#7201a8"
             ],
             [
              0.3333333333333333,
              "#9c179e"
             ],
             [
              0.4444444444444444,
              "#bd3786"
             ],
             [
              0.5555555555555556,
              "#d8576b"
             ],
             [
              0.6666666666666666,
              "#ed7953"
             ],
             [
              0.7777777777777778,
              "#fb9f3a"
             ],
             [
              0.8888888888888888,
              "#fdca26"
             ],
             [
              1,
              "#f0f921"
             ]
            ],
            "type": "contour"
           }
          ],
          "contourcarpet": [
           {
            "colorbar": {
             "outlinewidth": 0,
             "ticks": ""
            },
            "type": "contourcarpet"
           }
          ],
          "heatmap": [
           {
            "colorbar": {
             "outlinewidth": 0,
             "ticks": ""
            },
            "colorscale": [
             [
              0,
              "#0d0887"
             ],
             [
              0.1111111111111111,
              "#46039f"
             ],
             [
              0.2222222222222222,
              "#7201a8"
             ],
             [
              0.3333333333333333,
              "#9c179e"
             ],
             [
              0.4444444444444444,
              "#bd3786"
             ],
             [
              0.5555555555555556,
              "#d8576b"
             ],
             [
              0.6666666666666666,
              "#ed7953"
             ],
             [
              0.7777777777777778,
              "#fb9f3a"
             ],
             [
              0.8888888888888888,
              "#fdca26"
             ],
             [
              1,
              "#f0f921"
             ]
            ],
            "type": "heatmap"
           }
          ],
          "histogram": [
           {
            "marker": {
             "pattern": {
              "fillmode": "overlay",
              "size": 10,
              "solidity": 0.2
             }
            },
            "type": "histogram"
           }
          ],
          "histogram2d": [
           {
            "colorbar": {
             "outlinewidth": 0,
             "ticks": ""
            },
            "colorscale": [
             [
              0,
              "#0d0887"
             ],
             [
              0.1111111111111111,
              "#46039f"
             ],
             [
              0.2222222222222222,
              "#7201a8"
             ],
             [
              0.3333333333333333,
              "#9c179e"
             ],
             [
              0.4444444444444444,
              "#bd3786"
             ],
             [
              0.5555555555555556,
              "#d8576b"
             ],
             [
              0.6666666666666666,
              "#ed7953"
             ],
             [
              0.7777777777777778,
              "#fb9f3a"
             ],
             [
              0.8888888888888888,
              "#fdca26"
             ],
             [
              1,
              "#f0f921"
             ]
            ],
            "type": "histogram2d"
           }
          ],
          "histogram2dcontour": [
           {
            "colorbar": {
             "outlinewidth": 0,
             "ticks": ""
            },
            "colorscale": [
             [
              0,
              "#0d0887"
             ],
             [
              0.1111111111111111,
              "#46039f"
             ],
             [
              0.2222222222222222,
              "#7201a8"
             ],
             [
              0.3333333333333333,
              "#9c179e"
             ],
             [
              0.4444444444444444,
              "#bd3786"
             ],
             [
              0.5555555555555556,
              "#d8576b"
             ],
             [
              0.6666666666666666,
              "#ed7953"
             ],
             [
              0.7777777777777778,
              "#fb9f3a"
             ],
             [
              0.8888888888888888,
              "#fdca26"
             ],
             [
              1,
              "#f0f921"
             ]
            ],
            "type": "histogram2dcontour"
           }
          ],
          "mesh3d": [
           {
            "colorbar": {
             "outlinewidth": 0,
             "ticks": ""
            },
            "type": "mesh3d"
           }
          ],
          "parcoords": [
           {
            "line": {
             "colorbar": {
              "outlinewidth": 0,
              "ticks": ""
             }
            },
            "type": "parcoords"
           }
          ],
          "pie": [
           {
            "automargin": true,
            "type": "pie"
           }
          ],
          "scatter": [
           {
            "fillpattern": {
             "fillmode": "overlay",
             "size": 10,
             "solidity": 0.2
            },
            "type": "scatter"
           }
          ],
          "scatter3d": [
           {
            "line": {
             "colorbar": {
              "outlinewidth": 0,
              "ticks": ""
             }
            },
            "marker": {
             "colorbar": {
              "outlinewidth": 0,
              "ticks": ""
             }
            },
            "type": "scatter3d"
           }
          ],
          "scattercarpet": [
           {
            "marker": {
             "colorbar": {
              "outlinewidth": 0,
              "ticks": ""
             }
            },
            "type": "scattercarpet"
           }
          ],
          "scattergeo": [
           {
            "marker": {
             "colorbar": {
              "outlinewidth": 0,
              "ticks": ""
             }
            },
            "type": "scattergeo"
           }
          ],
          "scattergl": [
           {
            "marker": {
             "colorbar": {
              "outlinewidth": 0,
              "ticks": ""
             }
            },
            "type": "scattergl"
           }
          ],
          "scattermap": [
           {
            "marker": {
             "colorbar": {
              "outlinewidth": 0,
              "ticks": ""
             }
            },
            "type": "scattermap"
           }
          ],
          "scattermapbox": [
           {
            "marker": {
             "colorbar": {
              "outlinewidth": 0,
              "ticks": ""
             }
            },
            "type": "scattermapbox"
           }
          ],
          "scatterpolar": [
           {
            "marker": {
             "colorbar": {
              "outlinewidth": 0,
              "ticks": ""
             }
            },
            "type": "scatterpolar"
           }
          ],
          "scatterpolargl": [
           {
            "marker": {
             "colorbar": {
              "outlinewidth": 0,
              "ticks": ""
             }
            },
            "type": "scatterpolargl"
           }
          ],
          "scatterternary": [
           {
            "marker": {
             "colorbar": {
              "outlinewidth": 0,
              "ticks": ""
             }
            },
            "type": "scatterternary"
           }
          ],
          "surface": [
           {
            "colorbar": {
             "outlinewidth": 0,
             "ticks": ""
            },
            "colorscale": [
             [
              0,
              "#0d0887"
             ],
             [
              0.1111111111111111,
              "#46039f"
             ],
             [
              0.2222222222222222,
              "#7201a8"
             ],
             [
              0.3333333333333333,
              "#9c179e"
             ],
             [
              0.4444444444444444,
              "#bd3786"
             ],
             [
              0.5555555555555556,
              "#d8576b"
             ],
             [
              0.6666666666666666,
              "#ed7953"
             ],
             [
              0.7777777777777778,
              "#fb9f3a"
             ],
             [
              0.8888888888888888,
              "#fdca26"
             ],
             [
              1,
              "#f0f921"
             ]
            ],
            "type": "surface"
           }
          ],
          "table": [
           {
            "cells": {
             "fill": {
              "color": "#EBF0F8"
             },
             "line": {
              "color": "white"
             }
            },
            "header": {
             "fill": {
              "color": "#C8D4E3"
             },
             "line": {
              "color": "white"
             }
            },
            "type": "table"
           }
          ]
         },
         "layout": {
          "annotationdefaults": {
           "arrowcolor": "#2a3f5f",
           "arrowhead": 0,
           "arrowwidth": 1
          },
          "autotypenumbers": "strict",
          "coloraxis": {
           "colorbar": {
            "outlinewidth": 0,
            "ticks": ""
           }
          },
          "colorscale": {
           "diverging": [
            [
             0,
             "#8e0152"
            ],
            [
             0.1,
             "#c51b7d"
            ],
            [
             0.2,
             "#de77ae"
            ],
            [
             0.3,
             "#f1b6da"
            ],
            [
             0.4,
             "#fde0ef"
            ],
            [
             0.5,
             "#f7f7f7"
            ],
            [
             0.6,
             "#e6f5d0"
            ],
            [
             0.7,
             "#b8e186"
            ],
            [
             0.8,
             "#7fbc41"
            ],
            [
             0.9,
             "#4d9221"
            ],
            [
             1,
             "#276419"
            ]
           ],
           "sequential": [
            [
             0,
             "#0d0887"
            ],
            [
             0.1111111111111111,
             "#46039f"
            ],
            [
             0.2222222222222222,
             "#7201a8"
            ],
            [
             0.3333333333333333,
             "#9c179e"
            ],
            [
             0.4444444444444444,
             "#bd3786"
            ],
            [
             0.5555555555555556,
             "#d8576b"
            ],
            [
             0.6666666666666666,
             "#ed7953"
            ],
            [
             0.7777777777777778,
             "#fb9f3a"
            ],
            [
             0.8888888888888888,
             "#fdca26"
            ],
            [
             1,
             "#f0f921"
            ]
           ],
           "sequentialminus": [
            [
             0,
             "#0d0887"
            ],
            [
             0.1111111111111111,
             "#46039f"
            ],
            [
             0.2222222222222222,
             "#7201a8"
            ],
            [
             0.3333333333333333,
             "#9c179e"
            ],
            [
             0.4444444444444444,
             "#bd3786"
            ],
            [
             0.5555555555555556,
             "#d8576b"
            ],
            [
             0.6666666666666666,
             "#ed7953"
            ],
            [
             0.7777777777777778,
             "#fb9f3a"
            ],
            [
             0.8888888888888888,
             "#fdca26"
            ],
            [
             1,
             "#f0f921"
            ]
           ]
          },
          "colorway": [
           "#636efa",
           "#EF553B",
           "#00cc96",
           "#ab63fa",
           "#FFA15A",
           "#19d3f3",
           "#FF6692",
           "#B6E880",
           "#FF97FF",
           "#FECB52"
          ],
          "font": {
           "color": "#2a3f5f"
          },
          "geo": {
           "bgcolor": "white",
           "lakecolor": "white",
           "landcolor": "#E5ECF6",
           "showlakes": true,
           "showland": true,
           "subunitcolor": "white"
          },
          "hoverlabel": {
           "align": "left"
          },
          "hovermode": "closest",
          "mapbox": {
           "style": "light"
          },
          "paper_bgcolor": "white",
          "plot_bgcolor": "#E5ECF6",
          "polar": {
           "angularaxis": {
            "gridcolor": "white",
            "linecolor": "white",
            "ticks": ""
           },
           "bgcolor": "#E5ECF6",
           "radialaxis": {
            "gridcolor": "white",
            "linecolor": "white",
            "ticks": ""
           }
          },
          "scene": {
           "xaxis": {
            "backgroundcolor": "#E5ECF6",
            "gridcolor": "white",
            "gridwidth": 2,
            "linecolor": "white",
            "showbackground": true,
            "ticks": "",
            "zerolinecolor": "white"
           },
           "yaxis": {
            "backgroundcolor": "#E5ECF6",
            "gridcolor": "white",
            "gridwidth": 2,
            "linecolor": "white",
            "showbackground": true,
            "ticks": "",
            "zerolinecolor": "white"
           },
           "zaxis": {
            "backgroundcolor": "#E5ECF6",
            "gridcolor": "white",
            "gridwidth": 2,
            "linecolor": "white",
            "showbackground": true,
            "ticks": "",
            "zerolinecolor": "white"
           }
          },
          "shapedefaults": {
           "line": {
            "color": "#2a3f5f"
           }
          },
          "ternary": {
           "aaxis": {
            "gridcolor": "white",
            "linecolor": "white",
            "ticks": ""
           },
           "baxis": {
            "gridcolor": "white",
            "linecolor": "white",
            "ticks": ""
           },
           "bgcolor": "#E5ECF6",
           "caxis": {
            "gridcolor": "white",
            "linecolor": "white",
            "ticks": ""
           }
          },
          "title": {
           "x": 0.05
          },
          "xaxis": {
           "automargin": true,
           "gridcolor": "white",
           "linecolor": "white",
           "ticks": "",
           "title": {
            "standoff": 15
           },
           "zerolinecolor": "white",
           "zerolinewidth": 2
          },
          "yaxis": {
           "automargin": true,
           "gridcolor": "white",
           "linecolor": "white",
           "ticks": "",
           "title": {
            "standoff": 15
           },
           "zerolinecolor": "white",
           "zerolinewidth": 2
          }
         }
        },
        "title": {
         "text": "Box Plot do Atributo: PH"
        },
        "xaxis": {
         "anchor": "y",
         "domain": [
          0,
          1
         ]
        },
        "yaxis": {
         "anchor": "x",
         "domain": [
          0,
          1
         ],
         "title": {
          "text": "PH"
         }
        }
       }
      }
     },
     "metadata": {},
     "output_type": "display_data"
    },
    {
     "name": "stdout",
     "output_type": "stream",
     "text": [
      "Outliers encontrados para 'PH': 1 amostra(s).\n"
     ]
    },
    {
     "data": {
      "application/vnd.plotly.v1+json": {
       "config": {
        "plotlyServerURL": "https://plot.ly"
       },
       "data": [
        {
         "alignmentgroup": "True",
         "boxpoints": "all",
         "customdata": [
          [
           "U001",
           11.6,
           3.27,
           1.98,
           557.941,
           88.13370473537603
          ],
          [
           "U002",
           11.3,
           3.49,
           1.91,
           392.806,
           87.79383429672451
          ],
          [
           "U003",
           11.4,
           3.56,
           1.86,
           553.736,
           87.59904912836764
          ],
          [
           "U004",
           11.6,
           3.57,
           1.76,
           564.029,
           87.18606180144644
          ],
          [
           "U005",
           11.3,
           3.57,
           2.06,
           645.933,
           87.5957926371149
          ],
          [
           "U006",
           12,
           3.55,
           1.98,
           675.042,
           87.13245997088792
          ],
          [
           "U007",
           12.7,
           3.607,
           1.62,
           559.38,
           85.98595353862775
          ],
          [
           "U008",
           12.8,
           3.643,
           1.76,
           619.812,
           86.21310295176389
          ],
          [
           "U009",
           13.2,
           3.636,
           2.11,
           720.531,
           87.75914634146336
          ],
          [
           "U010",
           12.9,
           3.388,
           1.57,
           556.06,
           85.82006369426753
          ],
          [
           "U011",
           11,
           3.282,
           2,
           578.085,
           87.629179331307
          ],
          [
           "U012",
           9.4,
           3.318,
           1.014,
           598.008,
           88.21545157780187
          ],
          [
           "U013",
           11.6,
           3.306,
           2.32,
           615.938,
           87.62316335350042
          ],
          [
           "U014",
           12.3,
           3.282,
           2.03,
           613.171,
           87.02087286527511
          ],
          [
           "U015",
           11.9,
           3.39,
           1.83,
           662.756,
           87.4169986719787
          ],
          [
           "U016",
           8,
           3.328,
           2.85,
           774.876,
           90.55322715842414
          ],
          [
           "U017",
           10.9,
           3.407,
           1.71,
           658.107,
           88.54131534569981
          ],
          [
           "U018",
           9.7,
           3.428,
           1.148,
           650.913,
           88.9677419354839
          ],
          [
           "U019",
           10,
           3.396,
           2.15,
           687.216,
           88.59932088285231
          ],
          [
           "U020",
           9.7,
           3.45,
           2.4,
           675.152,
           89.1748675246026
          ],
          [
           "U021",
           11.9,
           3.404,
           1.87,
           592.142,
           87.5317725752509
          ],
          [
           "U022",
           12.7,
           3.482,
           1.69,
           613.835,
           86.37880986937581
          ],
          [
           "U023",
           13.7,
           3.499,
           1.64,
           538.24,
           85.62500000000003
          ],
          [
           "U024",
           11.5,
           3.436,
           1.467,
           658.218,
           87.49999999999997
          ],
          [
           "U025",
           13.1,
           3.462,
           1.84,
           540.897,
           86.13196814562012
          ],
          [
           "U026",
           8.5,
           3.418,
           2.304,
           713.448,
           89.84308131241082
          ],
          [
           "U027",
           10.2,
           3.43,
           2.26,
           593.359,
           87.90336496980156
          ],
          [
           "U028",
           10.5,
           3.43,
           2.29,
           599.115,
           88.62244897959188
          ],
          [
           "U029",
           9.1,
           3.455,
           2.36,
           645.711,
           88.9314391599753
          ],
          [
           "U030",
           10.4,
           3.453,
           2.12,
           673.824,
           87.81450872359956
          ],
          [
           "U031",
           7.2,
           3.248,
           2.72,
           768.567,
           91.5115286080273
          ],
          [
           "U032",
           7.9,
           3.375,
           0.601,
           717.764,
           89.21200750469028
          ],
          [
           "U033",
           10.9,
           3.507,
           2.08,
           490.537,
           88.48965517241385
          ],
          [
           "U034",
           10.7,
           3.379,
           1.818,
           658.55,
           88.6481303930968
          ],
          [
           "U035",
           11.5,
           3.566,
           2.17,
           640.066,
           87.96841349605174
          ],
          [
           "U036",
           9.7,
           3.474,
           2.02,
           653.57,
           89.42540322580648
          ],
          [
           "U037",
           10.4,
           3.46,
           1.8,
           578.417,
           89.23018292682926
          ],
          [
           "U038",
           9.7,
           3.448,
           2.14,
           664.195,
           88.99789029535863
          ],
          [
           "U039",
           10.6,
           3.389,
           1.69,
           711.234,
           88.30431491294469
          ],
          [
           "U040",
           11.6,
           3.454,
           1.88,
           694.189,
           87.90759075907589
          ],
          [
           "U041",
           9.1,
           3.457,
           0.54,
           758.163,
           89.33797909407673
          ],
          [
           "U042",
           12.1,
           3.356,
           2.43,
           830.548,
           93.21316614420058
          ],
          [
           "U043",
           12.6,
           3.465,
           1.773,
           649.032,
           86.81318681318695
          ],
          [
           "U044",
           10.1,
           3.473,
           2.12,
           646.707,
           89.56816257408971
          ],
          [
           "U045",
           8.6,
           3.403,
           2.133,
           639.181,
           89.06097560975614
          ],
          [
           "U046",
           8.2,
           3.481,
           1.818,
           605.202,
           90.91966173361516
          ],
          [
           "U047",
           9.7,
           3.44,
           1.113,
           524.516,
           89.1866028708134
          ],
          [
           "U048",
           9.5,
           3.443,
           0.665,
           603.32,
           89.61837455830384
          ],
          [
           "U049",
           10.2,
           3.472,
           1.809,
           594.687,
           89.24228250701587
          ],
          [
           "U050",
           11.1,
           3.45,
           1.79,
           543,
           87.78368794326244
          ],
          [
           "U051",
           13.6,
           3.485,
           1.29,
           493.857,
           86.00779952336246
          ],
          [
           "U052",
           12.8,
           3.46,
           1.47,
           583.841,
           86.41550387596898
          ],
          [
           "U053",
           12.9,
           3.434,
           1.57,
           508.578,
           85.90077371566869
          ],
          [
           "U054",
           12.1,
           3.534,
           1.017,
           468.511,
           85.63756329599508
          ],
          [
           "U055",
           13.7,
           3.491,
           1.1,
           459.989,
           85.59582558045463
          ],
          [
           "U056",
           12.6,
           3.539,
           0.752,
           500.941,
           86.38251366120218
          ],
          [
           "U057",
           13.5,
           5.263,
           1.15,
           458.439,
           84.4997477719859
          ],
          [
           "U058",
           12.9,
           3.567,
           1.13,
           449.917,
           85.79146291986079
          ],
          [
           "U059",
           14.6,
           3.902,
           1.34,
           482.125,
           84.98097653772989
          ],
          [
           "U060",
           15.9,
           3.598,
           1.33,
           406.862,
           83.52230363799974
          ],
          [
           "U061",
           12.4,
           3.574,
           1.47,
           551.965,
           86.30094043887149
          ],
          [
           "U062",
           13,
           3.591,
           1.37,
           495.185,
           85.60317460317461
          ],
          [
           "U063",
           12.4,
           3.591,
           1.36,
           478.473,
           85.6540213370831
          ],
          [
           "U064",
           13.2,
           3.604,
           1.38,
           563.586,
           85.6106489184692
          ],
          [
           "U065",
           13.2,
           3.642,
           1.35,
           535.363,
           85.63676661656434
          ],
          [
           "U066",
           10.9,
           3.555,
           1.096,
           420.919,
           88.3319321843912
          ],
          [
           "U067",
           10.1,
           3.609,
           0.945,
           597.344,
           88.09644242117683
          ],
          [
           "U068",
           11,
           3.267,
           1.72,
           555.617,
           87.31633065142432
          ],
          [
           "U069",
           11.9,
           3.595,
           1.45,
           464.748,
           87.10915176749124
          ],
          [
           "U070",
           11.4,
           3.625,
           1.73,
           613.392,
           87.40903809698526
          ],
          [
           "U071",
           14.5,
           3.693,
           1.33,
           468.179,
           85.34199772224828
          ],
          [
           "U072",
           14.2,
           3.625,
           1.31,
           453.459,
           85.02920473266435
          ],
          [
           "U073",
           12.7,
           3.609,
           1.39,
           490.537,
           86.08539161732874
          ],
          [
           "U074",
           13.7,
           3.581,
           1.2,
           550.969,
           84.4006154706952
          ],
          [
           "U075",
           14,
           3.689,
           1.2,
           513.337,
           85.31342486481677
          ],
          [
           "U076",
           9.9,
           3.689,
           0.642,
           532.263,
           88.91170431211496
          ],
          [
           "U077",
           12.4,
           3.677,
           1.36,
           582.18,
           86.53680893726727
          ],
          [
           "U078",
           11.4,
           3.668,
           1.33,
           490.537,
           86.96868494101318
          ],
          [
           "U079",
           11.6,
           3.683,
           1.34,
           541.229,
           86.9326360938923
          ],
          [
           "U080",
           12,
           3.61,
           1.41,
           507.582,
           86.13090379651894
          ],
          [
           "U081",
           11,
           3.565,
           1.49,
           535.584,
           88.45017322192786
          ],
          [
           "U082",
           12.5,
           3.641,
           1.36,
           562.369,
           87.17361111111111
          ],
          [
           "U083",
           13.4,
           3.637,
           1.31,
           455.894,
           86.12492195268598
          ],
          [
           "U084",
           13.2,
           3.652,
           1.44,
           502.712,
           85.75189753320683
          ],
          [
           "U085",
           13.3,
           3.679,
           1.37,
           382.623,
           85.69147147820237
          ],
          [
           "U086",
           13.6,
           3.63,
           1.27,
           679.358,
           85.4314225454088
          ],
          [
           "U087",
           12.3,
           3.706,
           1.31,
           610.404,
           85.3664223850766
          ],
          [
           "U088",
           13.9,
           3.724,
           1,
           633.204,
           84.88072830638038
          ],
          [
           "U089",
           13.3,
           3.684,
           1.33,
           608.965,
           85.75465838509318
          ],
          [
           "U090",
           12.3,
           3.685,
           1.27,
           554.51,
           85.72936519571911
          ],
          [
           "U091",
           14.2,
           3.708,
           0.415,
           624.128,
           85.10727955894231
          ],
          [
           "U092",
           13.2,
           3.686,
           0.515,
           663.641,
           84.93422503123392
          ],
          [
           "U093",
           13.2,
           3.717,
           0.896,
           565.689,
           85.22648083623695
          ],
          [
           "U094",
           13.8,
           3.673,
           1.2,
           428.556,
           84.64170973599666
          ],
          [
           "U095",
           14.4,
           3.69,
           1.32,
           521.306,
           85.17945459066671
          ],
          [
           "U096",
           10.6,
           3.672,
           1.19,
           536.359,
           88.25127217714206
          ],
          [
           "U097",
           11,
           3.708,
           1.07,
           545.767,
           87.36419222800545
          ],
          [
           "U098",
           10.1,
           3.665,
           1.33,
           508.356,
           87.76656918476651
          ],
          [
           "U099",
           12.2,
           3.683,
           1.12,
           541.561,
           86.71287420734406
          ],
          [
           "U100",
           11.7,
           3.838,
           1.29,
           463.641,
           86.76320986176766
          ],
          [
           "U101",
           14.5,
           3.479,
           0.82,
           564.914,
           85.41600940717585
          ],
          [
           "U102",
           14.3,
           3.042,
           0.46,
           482.9,
           85.03176691203223
          ],
          [
           "U103",
           14.1,
           3.479,
           1,
           496.846,
           84.9655172413793
          ],
          [
           "U104",
           14.6,
           3.092,
           1.09,
           397.233,
           84.79218950847769
          ],
          [
           "U105",
           14.7,
           2.683,
           0.94,
           433.536,
           84.55086908958306
          ],
          [
           "U106",
           15.1,
           2.97,
           0.74,
           514.001,
           83.60273647409196
          ],
          [
           "U107",
           15.3,
           2.92,
           0.71,
           440.288,
           82.56392985157208
          ],
          [
           "U108",
           13.1,
           3.018,
           0.79,
           417.598,
           85.62651141961486
          ],
          [
           "U109",
           13.5,
           3.055,
           0.74,
           478.251,
           84.71778883032687
          ],
          [
           "U110",
           15.8,
           3.153,
           1.07,
           372.33,
           82.88561233420855
          ],
          [
           "U111",
           14.8,
           2.921,
           0.95,
           372.662,
           84.60687183811127
          ],
          [
           "U112",
           14.3,
           3.094,
           1.02,
           576.425,
           84.35990698229084
          ],
          [
           "U113",
           14.5,
           2.994,
           0.91,
           521.527,
           84.63925744547578
          ],
          [
           "U114",
           15,
           3.17,
           0.99,
           397.565,
           84.15085332378568
          ],
          [
           "U115",
           14.5,
           2.892,
           1.02,
           458.329,
           84.56842412735503
          ],
          [
           "U116",
           11.5,
           2.799,
           1.4,
           595.905,
           87.57229560871116
          ],
          [
           "U117",
           11.2,
           3.1,
           1.09,
           509.463,
           87.24104482782514
          ],
          [
           "U118",
           13.5,
           2.819,
           1.1,
           436.303,
           85.82558051584599
          ],
          [
           "U119",
           10.8,
           2.778,
           1.35,
           476.923,
           86.57922830562758
          ],
          [
           "U120",
           12.7,
           2.841,
           0.98,
           449.696,
           85.58372541718849
          ],
          [
           "U121",
           14.7,
           2.93,
           0.89,
           525.291,
           84.08894687362101
          ],
          [
           "U122",
           13.6,
           2.876,
           1.05,
           484.117,
           85.69196534255006
          ],
          [
           "U123",
           14.9,
           2.962,
           0.93,
           422.8,
           83.95190466056607
          ],
          [
           "U124",
           16.9,
           2.981,
           0.85,
           396.68,
           82.11922587058497
          ],
          [
           "U125",
           14.5,
           2.936,
           0.94,
           456.89,
           84.60946320435187
          ],
          [
           "U126",
           12.9,
           2.907,
           1.1,
           637.299,
           86.33213711174358
          ],
          [
           "U127",
           13.4,
           2.889,
           1.05,
           536.248,
           85.62030918278865
          ],
          [
           "U128",
           13.7,
           2.936,
           0.774,
           399.668,
           85.22182960345506
          ],
          [
           "U129",
           13.4,
           2.837,
           0.97,
           394.023,
           85.12055201187468
          ],
          [
           "U130",
           14,
           2.747,
           1.08,
           574.544,
           83.9715873996294
          ],
          [
           "U131",
           14,
           2.896,
           1.04,
           575.208,
           85.15847041598484
          ],
          [
           "U132",
           12.9,
           2.947,
           0.89,
           617.266,
           85.44221294271007
          ],
          [
           "U133",
           13,
           2.878,
           4.51,
           657.333,
           86.19424740064132
          ],
          [
           "U134",
           15.7,
           3.116,
           0.97,
           474.71,
           84.09050733604383
          ],
          [
           "U135",
           13.2,
           3.174,
           1.91,
           476.812,
           86.02420643982647
          ],
          [
           "U136",
           14.7,
           3.038,
           0.532,
           567.903,
           84.6784213951837
          ],
          [
           "U137",
           13.5,
           2.889,
           1.04,
           603.653,
           85.4442575317327
          ],
          [
           "U138",
           14,
           2.936,
           0.9,
           573.99,
           84.80679258360769
          ],
          [
           "U139",
           14.7,
           2.971,
           0.9,
           528.058,
           84.69019450571487
          ],
          [
           "U140",
           13.9,
           3.014,
           0.89,
           467.183,
           84.2062676998724
          ],
          [
           "U141",
           14.9,
           2.964,
           0.92,
           459.436,
           84.00538992757288
          ],
          [
           "U142",
           16.2,
           2.859,
           0.97,
           496.292,
           82.78107365070181
          ],
          [
           "U143",
           14.4,
           2.94,
           0.99,
           498.285,
           83.50670887984319
          ],
          [
           "U144",
           15.4,
           2.983,
           1.25,
           479.912,
           83.45870809484875
          ],
          [
           "U145",
           15.6,
           4.033,
           1.05,
           539.126,
           83.61918345516136
          ],
          [
           "U146",
           12.5,
           2.949,
           0.78,
           512.341,
           85.67578666392896
          ],
          [
           "U147",
           14.1,
           2.922,
           0.91,
           519.978,
           84.94637719068797
          ],
          [
           "U148",
           12.8,
           3.002,
           0.98,
           516.99,
           85.16343132360285
          ],
          [
           "U149",
           13.1,
           2.896,
           0.94,
           445.822,
           85.26221540035813
          ],
          [
           "U150",
           12.8,
           2.934,
           0.94,
           479.026,
           85.25801952580197
          ],
          [
           "U151",
           17.2,
           3.66,
           0.89,
           433.979,
           81.76690134871491
          ],
          [
           "U152",
           15,
           3.14,
           0.67,
           445.49,
           83.37520801383495
          ],
          [
           "U153",
           14.6,
           3.16,
           1.03,
           430.105,
           83.0942863860804
          ],
          [
           "U154",
           15.9,
           3.15,
           0.41,
           499.17,
           83.09303627108709
          ],
          [
           "U155",
           15.8,
           3.14,
           0.79,
           393.138,
           82.86324046836246
          ],
          [
           "U156",
           17.4,
           3.2,
           0.56,
           325.401,
           81.9332700025203
          ],
          [
           "U157",
           17,
           3.19,
           0.52,
           456.779,
           80.69173244702948
          ],
          [
           "U158",
           16.9,
           3.15,
           0.55,
           297.067,
           81.57872956755637
          ],
          [
           "U159",
           15.9,
           3.16,
           0.58,
           382.18,
           80.56435434484214
          ],
          [
           "U160",
           17.2,
           3.1,
           0.57,
           395.683,
           81.34539485173416
          ],
          [
           "U161",
           16.6,
           3.03,
           0.79,
           445.49,
           82.30389379098195
          ],
          [
           "U162",
           13.7,
           2.98,
           0.76,
           387.493,
           82.46957956453846
          ],
          [
           "U163",
           15.5,
           2.99,
           0.72,
           393.47,
           86.55948553054661
          ],
          [
           "U164",
           17.1,
           3.01,
           0.62,
           500.387,
           81.33143264433357
          ],
          [
           "U165",
           15.4,
           3.02,
           0.71,
           422.247,
           82.4565669665775
          ],
          [
           "U166",
           11.6,
           2.9,
           0.84,
           589.928,
           86.69428682938545
          ],
          [
           "U167",
           13.3,
           2.94,
           0.88,
           455.008,
           85.60340270101406
          ],
          [
           "U168",
           14.5,
           3,
           0.76,
           551.965,
           84.38009100612327
          ],
          [
           "U169",
           14.1,
           2.99,
           0.77,
           430.991,
           85.55779013368034
          ],
          [
           "U170",
           13.8,
           2.97,
           0.85,
           472.717,
           85.31199157814146
          ],
          [
           "U171",
           16.9,
           3.01,
           0.62,
           531.378,
           81.33435408869231
          ],
          [
           "U172",
           16.4,
           3.01,
           0.69,
           600.996,
           82.61250547662267
          ],
          [
           "U173",
           16.1,
           3.08,
           0.8,
           394.577,
           82.87389795348464
          ],
          [
           "U174",
           16.7,
           3.02,
           0.67,
           422.69,
           81.48675084474478
          ],
          [
           "U175",
           15.1,
           3.03,
           0.62,
           376.204,
           83.72381593337259
          ],
          [
           "U176",
           15.1,
           3,
           0.7,
           502.933,
           83.53335818114051
          ],
          [
           "U177",
           15.3,
           3.02,
           0.67,
           564.582,
           83.78310098527824
          ],
          [
           "U178",
           19,
           3.02,
           0.65,
           570.448,
           84.69046346340401
          ],
          [
           "U179",
           15.4,
           3.07,
           0.76,
           425.567,
           83.63496422033617
          ],
          [
           "U180",
           15.9,
           3.03,
           0.82,
           506.586,
           83.0924258693318
          ],
          [
           "U181",
           15.1,
           2.99,
           0.74,
           492.64,
           83.62390254883816
          ],
          [
           "U182",
           15.8,
           3.04,
           0.68,
           535.252,
           82.89153427446121
          ],
          [
           "U183",
           15.6,
           3.04,
           0.82,
           497.399,
           83.17724733367193
          ],
          [
           "U184",
           17,
           3.01,
           0.75,
           449.364,
           81.49680893498204
          ],
          [
           "U185",
           15.5,
           3.17,
           0.55,
           379.745,
           82.59263975550745
          ],
          [
           "U186",
           15.1,
           3.07,
           0.58,
           439.181,
           83.30968428520751
          ],
          [
           "U187",
           13.5,
           3.02,
           0.7,
           541.007,
           83.60967993754878
          ],
          [
           "U188",
           15.4,
           3.05,
           0.53,
           378.749,
           83.1456720619282
          ],
          [
           "U189",
           16.5,
           3.06,
           0.6,
           541.782,
           82.56316389605712
          ],
          [
           "U190",
           14.6,
           3.04,
           0.61,
           485.778,
           83.48244796520656
          ],
          [
           "U191",
           16.2,
           3.04,
           0.7,
           575.318,
           81.4498109315916
          ],
          [
           "U192",
           16.9,
           3.02,
           0.75,
           442.944,
           82.14248297537978
          ],
          [
           "U193",
           15.5,
           3.01,
           0.82,
           535.03,
           80.90634441087616
          ],
          [
           "U194",
           15.3,
           3.01,
           0.74,
           355.285,
           81.77305981925119
          ],
          [
           "U195",
           16.3,
           3.04,
           0.71,
           367.017,
           81.6231221423906
          ],
          [
           "U196",
           13.9,
           3,
           0.79,
           536.801,
           84.6017250126839
          ],
          [
           "U197",
           14.5,
           3.01,
           0.85,
           377.532,
           83.74871342449643
          ],
          [
           "U198",
           14.4,
           3.05,
           0.5,
           515.661,
           83.26991120902596
          ],
          [
           "U199",
           15,
           3.04,
           0.67,
           464.306,
           83.65047152918706
          ],
          [
           "U200",
           16,
           3.09,
           0.66,
           582.18,
           82.45249319239892
          ],
          [
           "U201",
           17.5,
           3.61,
           0.86,
           397.676,
           81.90974297668859
          ],
          [
           "U202",
           17.3,
           3.47,
           0.81,
           386.608,
           81.44940747493163
          ],
          [
           "U203",
           18.3,
           3.45,
           0.78,
           424.793,
           80.60464815174468
          ],
          [
           "U204",
           17.5,
           3.37,
           0.78,
           388.157,
           81.16516028570462
          ],
          [
           "U205",
           17.2,
           3.38,
           0.83,
           450.36,
           81.75927305228663
          ],
          [
           "U206",
           17.8,
           3.4,
           0.64,
           475.263,
           80.68539063108942
          ],
          [
           "U207",
           17.1,
           3.42,
           0.61,
           419.48,
           81.83595739047192
          ],
          [
           "U208",
           17.8,
           3.43,
           0.53,
           436.414,
           80.6989372266475
          ],
          [
           "U209",
           16.5,
           3.38,
           0.67,
           416.934,
           82.0347533632287
          ],
          [
           "U210",
           18.5,
           3.44,
           0.6,
           353.403,
           80.8863089338808
          ],
          [
           "U211",
           17.5,
           3.4,
           0.59,
           486.663,
           80.87322059807013
          ],
          [
           "U212",
           18.6,
           3.36,
           0.68,
           467.183,
           80.74391988555077
          ],
          [
           "U213",
           16.8,
           3.28,
           0.77,
           452.02,
           81.66167482406797
          ],
          [
           "U214",
           17.8,
           3.3,
           0.84,
           578.971,
           81.0488380763017
          ],
          [
           "U215",
           17.4,
           3.28,
           0.81,
           509.353,
           81.0761632440863
          ],
          [
           "U216",
           16.9,
           3.25,
           0.84,
           475.595,
           82.00364952586077
          ],
          [
           "U217",
           14.9,
           3.25,
           0.75,
           377.975,
           84.31972955759149
          ],
          [
           "U218",
           15.1,
           3.26,
           0.83,
           397.786,
           83.67316416571114
          ],
          [
           "U219",
           16.2,
           3.32,
           0.7,
           390.924,
           82.71908746127791
          ],
          [
           "U220",
           14.9,
           3.25,
           0.68,
           493.636,
           83.98611674098095
          ],
          [
           "U221",
           18,
           3.28,
           0.7,
           474.82,
           81.05118180202595
          ],
          [
           "U222",
           19.1,
           3.27,
           0.77,
           478.694,
           79.36845788261363
          ],
          [
           "U223",
           17.9,
           3.28,
           0.72,
           349.419,
           80.71981226329606
          ],
          [
           "U224",
           17,
           3.29,
           0.68,
           458.771,
           81.37265054626418
          ],
          [
           "U225",
           17.5,
           3.29,
           0.74,
           259.989,
           80.91355049700933
          ],
          [
           "U226",
           17.1,
           3.27,
           0.82,
           436.414,
           82.1415626779889
          ],
          [
           "U227",
           15.8,
           3.25,
           0.74,
           432.429,
           82.37816660931254
          ],
          [
           "U228",
           16.7,
           3.26,
           0.75,
           492.64,
           82.44124676359293
          ],
          [
           "U229",
           16.2,
           3.22,
           0.7,
           361.926,
           82.2214965478634
          ],
          [
           "U230",
           15.3,
           3.24,
           0.74,
           425.789,
           81.89335903810053
          ],
          [
           "U231",
           16.8,
           3.23,
           0.71,
           455.451,
           82.14892967694118
          ],
          [
           "U232",
           17.3,
           3.24,
           0.72,
           346.431,
           80.85322624625073
          ],
          [
           "U233",
           19.5,
           3.26,
           0.71,
           500.609,
           79.33734340823226
          ],
          [
           "U234",
           16.6,
           3.24,
           0.72,
           545.434,
           82.00531606611109
          ],
          [
           "U235",
           17.5,
           3.26,
           0.87,
           424.239,
           80.5381849874714
          ],
          [
           "U236",
           15.1,
           3.24,
           0.75,
           461.76,
           82.25111317475056
          ],
          [
           "U237",
           15.9,
           3.2,
           0.77,
           524.627,
           82.59752075514615
          ],
          [
           "U238",
           17.2,
           3.18,
           0.55,
           526.176,
           81.73932634899181
          ],
          [
           "U239",
           17.1,
           3.16,
           0.71,
           539.79,
           81.56166953259341
          ],
          [
           "U240",
           18.2,
           3.16,
           0.75,
           421.14,
           80.93393148450247
          ],
          [
           "U241",
           16.3,
           3.17,
           0.77,
           472.496,
           81.3222805136083
          ],
          [
           "U242",
           15.7,
           3.12,
           0.8,
           484.228,
           81.38325703073906
          ],
          [
           "U243",
           15.9,
           3.17,
           0.79,
           428.777,
           63.964518910927694
          ],
          [
           "U244",
           17.7,
           3.14,
           0.81,
           511.677,
           80.94603597601596
          ],
          [
           "U245",
           15.2,
           3.13,
           0.82,
           436.857,
           83.29667486091347
          ],
          [
           "U246",
           17.2,
           3.19,
           0.68,
           407.748,
           81.28414929186944
          ],
          [
           "U247",
           15.9,
           3.2,
           0.69,
           410.293,
           81.73937360178971
          ],
          [
           "U248",
           16.6,
           3.21,
           0.73,
           353.403,
           82.38555922605002
          ],
          [
           "U249",
           16.2,
           3.2,
           0.63,
           401.771,
           82.0337985332712
          ],
          [
           "U250",
           15.6,
           3.21,
           0.72,
           386.94,
           82.44775739041793
          ]
         ],
         "hovertemplate": "UBS (%)=%{y}<br>Wavelength=%{customdata[0]}<br>SST=%{customdata[1]}<br>PH=%{customdata[2]}<br>AT=%{customdata[3]}<br>FIRMEZA (N)=%{customdata[4]}<br>UBU (%)=%{customdata[5]}<extra></extra>",
         "legendgroup": "",
         "marker": {
          "color": "#636efa"
         },
         "name": "",
         "notched": false,
         "offsetgroup": "",
         "orientation": "v",
         "showlegend": false,
         "type": "box",
         "x0": " ",
         "xaxis": "x",
         "y": {
          "bdata": "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",
          "dtype": "f8"
         },
         "y0": " ",
         "yaxis": "y"
        }
       ],
       "layout": {
        "boxmode": "group",
        "legend": {
         "tracegroupgap": 0
        },
        "template": {
         "data": {
          "bar": [
           {
            "error_x": {
             "color": "#2a3f5f"
            },
            "error_y": {
             "color": "#2a3f5f"
            },
            "marker": {
             "line": {
              "color": "#E5ECF6",
              "width": 0.5
             },
             "pattern": {
              "fillmode": "overlay",
              "size": 10,
              "solidity": 0.2
             }
            },
            "type": "bar"
           }
          ],
          "barpolar": [
           {
            "marker": {
             "line": {
              "color": "#E5ECF6",
              "width": 0.5
             },
             "pattern": {
              "fillmode": "overlay",
              "size": 10,
              "solidity": 0.2
             }
            },
            "type": "barpolar"
           }
          ],
          "carpet": [
           {
            "aaxis": {
             "endlinecolor": "#2a3f5f",
             "gridcolor": "white",
             "linecolor": "white",
             "minorgridcolor": "white",
             "startlinecolor": "#2a3f5f"
            },
            "baxis": {
             "endlinecolor": "#2a3f5f",
             "gridcolor": "white",
             "linecolor": "white",
             "minorgridcolor": "white",
             "startlinecolor": "#2a3f5f"
            },
            "type": "carpet"
           }
          ],
          "choropleth": [
           {
            "colorbar": {
             "outlinewidth": 0,
             "ticks": ""
            },
            "type": "choropleth"
           }
          ],
          "contour": [
           {
            "colorbar": {
             "outlinewidth": 0,
             "ticks": ""
            },
            "colorscale": [
             [
              0,
              "#0d0887"
             ],
             [
              0.1111111111111111,
              "#46039f"
             ],
             [
              0.2222222222222222,
              "#7201a8"
             ],
             [
              0.3333333333333333,
              "#9c179e"
             ],
             [
              0.4444444444444444,
              "#bd3786"
             ],
             [
              0.5555555555555556,
              "#d8576b"
             ],
             [
              0.6666666666666666,
              "#ed7953"
             ],
             [
              0.7777777777777778,
              "#fb9f3a"
             ],
             [
              0.8888888888888888,
              "#fdca26"
             ],
             [
              1,
              "#f0f921"
             ]
            ],
            "type": "contour"
           }
          ],
          "contourcarpet": [
           {
            "colorbar": {
             "outlinewidth": 0,
             "ticks": ""
            },
            "type": "contourcarpet"
           }
          ],
          "heatmap": [
           {
            "colorbar": {
             "outlinewidth": 0,
             "ticks": ""
            },
            "colorscale": [
             [
              0,
              "#0d0887"
             ],
             [
              0.1111111111111111,
              "#46039f"
             ],
             [
              0.2222222222222222,
              "#7201a8"
             ],
             [
              0.3333333333333333,
              "#9c179e"
             ],
             [
              0.4444444444444444,
              "#bd3786"
             ],
             [
              0.5555555555555556,
              "#d8576b"
             ],
             [
              0.6666666666666666,
              "#ed7953"
             ],
             [
              0.7777777777777778,
              "#fb9f3a"
             ],
             [
              0.8888888888888888,
              "#fdca26"
             ],
             [
              1,
              "#f0f921"
             ]
            ],
            "type": "heatmap"
           }
          ],
          "histogram": [
           {
            "marker": {
             "pattern": {
              "fillmode": "overlay",
              "size": 10,
              "solidity": 0.2
             }
            },
            "type": "histogram"
           }
          ],
          "histogram2d": [
           {
            "colorbar": {
             "outlinewidth": 0,
             "ticks": ""
            },
            "colorscale": [
             [
              0,
              "#0d0887"
             ],
             [
              0.1111111111111111,
              "#46039f"
             ],
             [
              0.2222222222222222,
              "#7201a8"
             ],
             [
              0.3333333333333333,
              "#9c179e"
             ],
             [
              0.4444444444444444,
              "#bd3786"
             ],
             [
              0.5555555555555556,
              "#d8576b"
             ],
             [
              0.6666666666666666,
              "#ed7953"
             ],
             [
              0.7777777777777778,
              "#fb9f3a"
             ],
             [
              0.8888888888888888,
              "#fdca26"
             ],
             [
              1,
              "#f0f921"
             ]
            ],
            "type": "histogram2d"
           }
          ],
          "histogram2dcontour": [
           {
            "colorbar": {
             "outlinewidth": 0,
             "ticks": ""
            },
            "colorscale": [
             [
              0,
              "#0d0887"
             ],
             [
              0.1111111111111111,
              "#46039f"
             ],
             [
              0.2222222222222222,
              "#7201a8"
             ],
             [
              0.3333333333333333,
              "#9c179e"
             ],
             [
              0.4444444444444444,
              "#bd3786"
             ],
             [
              0.5555555555555556,
              "#d8576b"
             ],
             [
              0.6666666666666666,
              "#ed7953"
             ],
             [
              0.7777777777777778,
              "#fb9f3a"
             ],
             [
              0.8888888888888888,
              "#fdca26"
             ],
             [
              1,
              "#f0f921"
             ]
            ],
            "type": "histogram2dcontour"
           }
          ],
          "mesh3d": [
           {
            "colorbar": {
             "outlinewidth": 0,
             "ticks": ""
            },
            "type": "mesh3d"
           }
          ],
          "parcoords": [
           {
            "line": {
             "colorbar": {
              "outlinewidth": 0,
              "ticks": ""
             }
            },
            "type": "parcoords"
           }
          ],
          "pie": [
           {
            "automargin": true,
            "type": "pie"
           }
          ],
          "scatter": [
           {
            "fillpattern": {
             "fillmode": "overlay",
             "size": 10,
             "solidity": 0.2
            },
            "type": "scatter"
           }
          ],
          "scatter3d": [
           {
            "line": {
             "colorbar": {
              "outlinewidth": 0,
              "ticks": ""
             }
            },
            "marker": {
             "colorbar": {
              "outlinewidth": 0,
              "ticks": ""
             }
            },
            "type": "scatter3d"
           }
          ],
          "scattercarpet": [
           {
            "marker": {
             "colorbar": {
              "outlinewidth": 0,
              "ticks": ""
             }
            },
            "type": "scattercarpet"
           }
          ],
          "scattergeo": [
           {
            "marker": {
             "colorbar": {
              "outlinewidth": 0,
              "ticks": ""
             }
            },
            "type": "scattergeo"
           }
          ],
          "scattergl": [
           {
            "marker": {
             "colorbar": {
              "outlinewidth": 0,
              "ticks": ""
             }
            },
            "type": "scattergl"
           }
          ],
          "scattermap": [
           {
            "marker": {
             "colorbar": {
              "outlinewidth": 0,
              "ticks": ""
             }
            },
            "type": "scattermap"
           }
          ],
          "scattermapbox": [
           {
            "marker": {
             "colorbar": {
              "outlinewidth": 0,
              "ticks": ""
             }
            },
            "type": "scattermapbox"
           }
          ],
          "scatterpolar": [
           {
            "marker": {
             "colorbar": {
              "outlinewidth": 0,
              "ticks": ""
             }
            },
            "type": "scatterpolar"
           }
          ],
          "scatterpolargl": [
           {
            "marker": {
             "colorbar": {
              "outlinewidth": 0,
              "ticks": ""
             }
            },
            "type": "scatterpolargl"
           }
          ],
          "scatterternary": [
           {
            "marker": {
             "colorbar": {
              "outlinewidth": 0,
              "ticks": ""
             }
            },
            "type": "scatterternary"
           }
          ],
          "surface": [
           {
            "colorbar": {
             "outlinewidth": 0,
             "ticks": ""
            },
            "colorscale": [
             [
              0,
              "#0d0887"
             ],
             [
              0.1111111111111111,
              "#46039f"
             ],
             [
              0.2222222222222222,
              "#7201a8"
             ],
             [
              0.3333333333333333,
              "#9c179e"
             ],
             [
              0.4444444444444444,
              "#bd3786"
             ],
             [
              0.5555555555555556,
              "#d8576b"
             ],
             [
              0.6666666666666666,
              "#ed7953"
             ],
             [
              0.7777777777777778,
              "#fb9f3a"
             ],
             [
              0.8888888888888888,
              "#fdca26"
             ],
             [
              1,
              "#f0f921"
             ]
            ],
            "type": "surface"
           }
          ],
          "table": [
           {
            "cells": {
             "fill": {
              "color": "#EBF0F8"
             },
             "line": {
              "color": "white"
             }
            },
            "header": {
             "fill": {
              "color": "#C8D4E3"
             },
             "line": {
              "color": "white"
             }
            },
            "type": "table"
           }
          ]
         },
         "layout": {
          "annotationdefaults": {
           "arrowcolor": "#2a3f5f",
           "arrowhead": 0,
           "arrowwidth": 1
          },
          "autotypenumbers": "strict",
          "coloraxis": {
           "colorbar": {
            "outlinewidth": 0,
            "ticks": ""
           }
          },
          "colorscale": {
           "diverging": [
            [
             0,
             "#8e0152"
            ],
            [
             0.1,
             "#c51b7d"
            ],
            [
             0.2,
             "#de77ae"
            ],
            [
             0.3,
             "#f1b6da"
            ],
            [
             0.4,
             "#fde0ef"
            ],
            [
             0.5,
             "#f7f7f7"
            ],
            [
             0.6,
             "#e6f5d0"
            ],
            [
             0.7,
             "#b8e186"
            ],
            [
             0.8,
             "#7fbc41"
            ],
            [
             0.9,
             "#4d9221"
            ],
            [
             1,
             "#276419"
            ]
           ],
           "sequential": [
            [
             0,
             "#0d0887"
            ],
            [
             0.1111111111111111,
             "#46039f"
            ],
            [
             0.2222222222222222,
             "#7201a8"
            ],
            [
             0.3333333333333333,
             "#9c179e"
            ],
            [
             0.4444444444444444,
             "#bd3786"
            ],
            [
             0.5555555555555556,
             "#d8576b"
            ],
            [
             0.6666666666666666,
             "#ed7953"
            ],
            [
             0.7777777777777778,
             "#fb9f3a"
            ],
            [
             0.8888888888888888,
             "#fdca26"
            ],
            [
             1,
             "#f0f921"
            ]
           ],
           "sequentialminus": [
            [
             0,
             "#0d0887"
            ],
            [
             0.1111111111111111,
             "#46039f"
            ],
            [
             0.2222222222222222,
             "#7201a8"
            ],
            [
             0.3333333333333333,
             "#9c179e"
            ],
            [
             0.4444444444444444,
             "#bd3786"
            ],
            [
             0.5555555555555556,
             "#d8576b"
            ],
            [
             0.6666666666666666,
             "#ed7953"
            ],
            [
             0.7777777777777778,
             "#fb9f3a"
            ],
            [
             0.8888888888888888,
             "#fdca26"
            ],
            [
             1,
             "#f0f921"
            ]
           ]
          },
          "colorway": [
           "#636efa",
           "#EF553B",
           "#00cc96",
           "#ab63fa",
           "#FFA15A",
           "#19d3f3",
           "#FF6692",
           "#B6E880",
           "#FF97FF",
           "#FECB52"
          ],
          "font": {
           "color": "#2a3f5f"
          },
          "geo": {
           "bgcolor": "white",
           "lakecolor": "white",
           "landcolor": "#E5ECF6",
           "showlakes": true,
           "showland": true,
           "subunitcolor": "white"
          },
          "hoverlabel": {
           "align": "left"
          },
          "hovermode": "closest",
          "mapbox": {
           "style": "light"
          },
          "paper_bgcolor": "white",
          "plot_bgcolor": "#E5ECF6",
          "polar": {
           "angularaxis": {
            "gridcolor": "white",
            "linecolor": "white",
            "ticks": ""
           },
           "bgcolor": "#E5ECF6",
           "radialaxis": {
            "gridcolor": "white",
            "linecolor": "white",
            "ticks": ""
           }
          },
          "scene": {
           "xaxis": {
            "backgroundcolor": "#E5ECF6",
            "gridcolor": "white",
            "gridwidth": 2,
            "linecolor": "white",
            "showbackground": true,
            "ticks": "",
            "zerolinecolor": "white"
           },
           "yaxis": {
            "backgroundcolor": "#E5ECF6",
            "gridcolor": "white",
            "gridwidth": 2,
            "linecolor": "white",
            "showbackground": true,
            "ticks": "",
            "zerolinecolor": "white"
           },
           "zaxis": {
            "backgroundcolor": "#E5ECF6",
            "gridcolor": "white",
            "gridwidth": 2,
            "linecolor": "white",
            "showbackground": true,
            "ticks": "",
            "zerolinecolor": "white"
           }
          },
          "shapedefaults": {
           "line": {
            "color": "#2a3f5f"
           }
          },
          "ternary": {
           "aaxis": {
            "gridcolor": "white",
            "linecolor": "white",
            "ticks": ""
           },
           "baxis": {
            "gridcolor": "white",
            "linecolor": "white",
            "ticks": ""
           },
           "bgcolor": "#E5ECF6",
           "caxis": {
            "gridcolor": "white",
            "linecolor": "white",
            "ticks": ""
           }
          },
          "title": {
           "x": 0.05
          },
          "xaxis": {
           "automargin": true,
           "gridcolor": "white",
           "linecolor": "white",
           "ticks": "",
           "title": {
            "standoff": 15
           },
           "zerolinecolor": "white",
           "zerolinewidth": 2
          },
          "yaxis": {
           "automargin": true,
           "gridcolor": "white",
           "linecolor": "white",
           "ticks": "",
           "title": {
            "standoff": 15
           },
           "zerolinecolor": "white",
           "zerolinewidth": 2
          }
         }
        },
        "title": {
         "text": "Box Plot do Atributo: UBS (%)"
        },
        "xaxis": {
         "anchor": "y",
         "domain": [
          0,
          1
         ]
        },
        "yaxis": {
         "anchor": "x",
         "domain": [
          0,
          1
         ],
         "title": {
          "text": "UBS (%)"
         }
        }
       }
      }
     },
     "metadata": {},
     "output_type": "display_data"
    },
    {
     "name": "stdout",
     "output_type": "stream",
     "text": [
      "Outliers encontrados para 'UBS (%)': 2 amostra(s).\n"
     ]
    },
    {
     "data": {
      "application/vnd.plotly.v1+json": {
       "config": {
        "plotlyServerURL": "https://plot.ly"
       },
       "data": [
        {
         "alignmentgroup": "True",
         "boxpoints": "all",
         "customdata": [
          [
           "U001",
           11.6,
           3.27,
           1.98,
           88.13370473537603
          ],
          [
           "U002",
           11.3,
           3.49,
           1.91,
           87.79383429672451
          ],
          [
           "U003",
           11.4,
           3.56,
           1.86,
           87.59904912836764
          ],
          [
           "U004",
           11.6,
           3.57,
           1.76,
           87.18606180144644
          ],
          [
           "U005",
           11.3,
           3.57,
           2.06,
           87.5957926371149
          ],
          [
           "U006",
           12,
           3.55,
           1.98,
           87.13245997088792
          ],
          [
           "U007",
           12.7,
           3.607,
           1.62,
           85.98595353862775
          ],
          [
           "U008",
           12.8,
           3.643,
           1.76,
           86.21310295176389
          ],
          [
           "U009",
           13.2,
           3.636,
           2.11,
           87.75914634146336
          ],
          [
           "U010",
           12.9,
           3.388,
           1.57,
           85.82006369426753
          ],
          [
           "U011",
           11,
           3.282,
           2,
           87.629179331307
          ],
          [
           "U012",
           9.4,
           3.318,
           1.014,
           88.21545157780187
          ],
          [
           "U013",
           11.6,
           3.306,
           2.32,
           87.62316335350042
          ],
          [
           "U014",
           12.3,
           3.282,
           2.03,
           87.02087286527511
          ],
          [
           "U015",
           11.9,
           3.39,
           1.83,
           87.4169986719787
          ],
          [
           "U016",
           8,
           3.328,
           2.85,
           90.55322715842414
          ],
          [
           "U017",
           10.9,
           3.407,
           1.71,
           88.54131534569981
          ],
          [
           "U018",
           9.7,
           3.428,
           1.148,
           88.9677419354839
          ],
          [
           "U019",
           10,
           3.396,
           2.15,
           88.59932088285231
          ],
          [
           "U020",
           9.7,
           3.45,
           2.4,
           89.1748675246026
          ],
          [
           "U021",
           11.9,
           3.404,
           1.87,
           87.5317725752509
          ],
          [
           "U022",
           12.7,
           3.482,
           1.69,
           86.37880986937581
          ],
          [
           "U023",
           13.7,
           3.499,
           1.64,
           85.62500000000003
          ],
          [
           "U024",
           11.5,
           3.436,
           1.467,
           87.49999999999997
          ],
          [
           "U025",
           13.1,
           3.462,
           1.84,
           86.13196814562012
          ],
          [
           "U026",
           8.5,
           3.418,
           2.304,
           89.84308131241082
          ],
          [
           "U027",
           10.2,
           3.43,
           2.26,
           87.90336496980156
          ],
          [
           "U028",
           10.5,
           3.43,
           2.29,
           88.62244897959188
          ],
          [
           "U029",
           9.1,
           3.455,
           2.36,
           88.9314391599753
          ],
          [
           "U030",
           10.4,
           3.453,
           2.12,
           87.81450872359956
          ],
          [
           "U031",
           7.2,
           3.248,
           2.72,
           91.5115286080273
          ],
          [
           "U032",
           7.9,
           3.375,
           0.601,
           89.21200750469028
          ],
          [
           "U033",
           10.9,
           3.507,
           2.08,
           88.48965517241385
          ],
          [
           "U034",
           10.7,
           3.379,
           1.818,
           88.6481303930968
          ],
          [
           "U035",
           11.5,
           3.566,
           2.17,
           87.96841349605174
          ],
          [
           "U036",
           9.7,
           3.474,
           2.02,
           89.42540322580648
          ],
          [
           "U037",
           10.4,
           3.46,
           1.8,
           89.23018292682926
          ],
          [
           "U038",
           9.7,
           3.448,
           2.14,
           88.99789029535863
          ],
          [
           "U039",
           10.6,
           3.389,
           1.69,
           88.30431491294469
          ],
          [
           "U040",
           11.6,
           3.454,
           1.88,
           87.90759075907589
          ],
          [
           "U041",
           9.1,
           3.457,
           0.54,
           89.33797909407673
          ],
          [
           "U042",
           12.1,
           3.356,
           2.43,
           93.21316614420058
          ],
          [
           "U043",
           12.6,
           3.465,
           1.773,
           86.81318681318695
          ],
          [
           "U044",
           10.1,
           3.473,
           2.12,
           89.56816257408971
          ],
          [
           "U045",
           8.6,
           3.403,
           2.133,
           89.06097560975614
          ],
          [
           "U046",
           8.2,
           3.481,
           1.818,
           90.91966173361516
          ],
          [
           "U047",
           9.7,
           3.44,
           1.113,
           89.1866028708134
          ],
          [
           "U048",
           9.5,
           3.443,
           0.665,
           89.61837455830384
          ],
          [
           "U049",
           10.2,
           3.472,
           1.809,
           89.24228250701587
          ],
          [
           "U050",
           11.1,
           3.45,
           1.79,
           87.78368794326244
          ],
          [
           "U051",
           13.6,
           3.485,
           1.29,
           86.00779952336246
          ],
          [
           "U052",
           12.8,
           3.46,
           1.47,
           86.41550387596898
          ],
          [
           "U053",
           12.9,
           3.434,
           1.57,
           85.90077371566869
          ],
          [
           "U054",
           12.1,
           3.534,
           1.017,
           85.63756329599508
          ],
          [
           "U055",
           13.7,
           3.491,
           1.1,
           85.59582558045463
          ],
          [
           "U056",
           12.6,
           3.539,
           0.752,
           86.38251366120218
          ],
          [
           "U057",
           13.5,
           5.263,
           1.15,
           84.4997477719859
          ],
          [
           "U058",
           12.9,
           3.567,
           1.13,
           85.79146291986079
          ],
          [
           "U059",
           14.6,
           3.902,
           1.34,
           84.98097653772989
          ],
          [
           "U060",
           15.9,
           3.598,
           1.33,
           83.52230363799974
          ],
          [
           "U061",
           12.4,
           3.574,
           1.47,
           86.30094043887149
          ],
          [
           "U062",
           13,
           3.591,
           1.37,
           85.60317460317461
          ],
          [
           "U063",
           12.4,
           3.591,
           1.36,
           85.6540213370831
          ],
          [
           "U064",
           13.2,
           3.604,
           1.38,
           85.6106489184692
          ],
          [
           "U065",
           13.2,
           3.642,
           1.35,
           85.63676661656434
          ],
          [
           "U066",
           10.9,
           3.555,
           1.096,
           88.3319321843912
          ],
          [
           "U067",
           10.1,
           3.609,
           0.945,
           88.09644242117683
          ],
          [
           "U068",
           11,
           3.267,
           1.72,
           87.31633065142432
          ],
          [
           "U069",
           11.9,
           3.595,
           1.45,
           87.10915176749124
          ],
          [
           "U070",
           11.4,
           3.625,
           1.73,
           87.40903809698526
          ],
          [
           "U071",
           14.5,
           3.693,
           1.33,
           85.34199772224828
          ],
          [
           "U072",
           14.2,
           3.625,
           1.31,
           85.02920473266435
          ],
          [
           "U073",
           12.7,
           3.609,
           1.39,
           86.08539161732874
          ],
          [
           "U074",
           13.7,
           3.581,
           1.2,
           84.4006154706952
          ],
          [
           "U075",
           14,
           3.689,
           1.2,
           85.31342486481677
          ],
          [
           "U076",
           9.9,
           3.689,
           0.642,
           88.91170431211496
          ],
          [
           "U077",
           12.4,
           3.677,
           1.36,
           86.53680893726727
          ],
          [
           "U078",
           11.4,
           3.668,
           1.33,
           86.96868494101318
          ],
          [
           "U079",
           11.6,
           3.683,
           1.34,
           86.9326360938923
          ],
          [
           "U080",
           12,
           3.61,
           1.41,
           86.13090379651894
          ],
          [
           "U081",
           11,
           3.565,
           1.49,
           88.45017322192786
          ],
          [
           "U082",
           12.5,
           3.641,
           1.36,
           87.17361111111111
          ],
          [
           "U083",
           13.4,
           3.637,
           1.31,
           86.12492195268598
          ],
          [
           "U084",
           13.2,
           3.652,
           1.44,
           85.75189753320683
          ],
          [
           "U085",
           13.3,
           3.679,
           1.37,
           85.69147147820237
          ],
          [
           "U086",
           13.6,
           3.63,
           1.27,
           85.4314225454088
          ],
          [
           "U087",
           12.3,
           3.706,
           1.31,
           85.3664223850766
          ],
          [
           "U088",
           13.9,
           3.724,
           1,
           84.88072830638038
          ],
          [
           "U089",
           13.3,
           3.684,
           1.33,
           85.75465838509318
          ],
          [
           "U090",
           12.3,
           3.685,
           1.27,
           85.72936519571911
          ],
          [
           "U091",
           14.2,
           3.708,
           0.415,
           85.10727955894231
          ],
          [
           "U092",
           13.2,
           3.686,
           0.515,
           84.93422503123392
          ],
          [
           "U093",
           13.2,
           3.717,
           0.896,
           85.22648083623695
          ],
          [
           "U094",
           13.8,
           3.673,
           1.2,
           84.64170973599666
          ],
          [
           "U095",
           14.4,
           3.69,
           1.32,
           85.17945459066671
          ],
          [
           "U096",
           10.6,
           3.672,
           1.19,
           88.25127217714206
          ],
          [
           "U097",
           11,
           3.708,
           1.07,
           87.36419222800545
          ],
          [
           "U098",
           10.1,
           3.665,
           1.33,
           87.76656918476651
          ],
          [
           "U099",
           12.2,
           3.683,
           1.12,
           86.71287420734406
          ],
          [
           "U100",
           11.7,
           3.838,
           1.29,
           86.76320986176766
          ],
          [
           "U101",
           14.5,
           3.479,
           0.82,
           85.41600940717585
          ],
          [
           "U102",
           14.3,
           3.042,
           0.46,
           85.03176691203223
          ],
          [
           "U103",
           14.1,
           3.479,
           1,
           84.9655172413793
          ],
          [
           "U104",
           14.6,
           3.092,
           1.09,
           84.79218950847769
          ],
          [
           "U105",
           14.7,
           2.683,
           0.94,
           84.55086908958306
          ],
          [
           "U106",
           15.1,
           2.97,
           0.74,
           83.60273647409196
          ],
          [
           "U107",
           15.3,
           2.92,
           0.71,
           82.56392985157208
          ],
          [
           "U108",
           13.1,
           3.018,
           0.79,
           85.62651141961486
          ],
          [
           "U109",
           13.5,
           3.055,
           0.74,
           84.71778883032687
          ],
          [
           "U110",
           15.8,
           3.153,
           1.07,
           82.88561233420855
          ],
          [
           "U111",
           14.8,
           2.921,
           0.95,
           84.60687183811127
          ],
          [
           "U112",
           14.3,
           3.094,
           1.02,
           84.35990698229084
          ],
          [
           "U113",
           14.5,
           2.994,
           0.91,
           84.63925744547578
          ],
          [
           "U114",
           15,
           3.17,
           0.99,
           84.15085332378568
          ],
          [
           "U115",
           14.5,
           2.892,
           1.02,
           84.56842412735503
          ],
          [
           "U116",
           11.5,
           2.799,
           1.4,
           87.57229560871116
          ],
          [
           "U117",
           11.2,
           3.1,
           1.09,
           87.24104482782514
          ],
          [
           "U118",
           13.5,
           2.819,
           1.1,
           85.82558051584599
          ],
          [
           "U119",
           10.8,
           2.778,
           1.35,
           86.57922830562758
          ],
          [
           "U120",
           12.7,
           2.841,
           0.98,
           85.58372541718849
          ],
          [
           "U121",
           14.7,
           2.93,
           0.89,
           84.08894687362101
          ],
          [
           "U122",
           13.6,
           2.876,
           1.05,
           85.69196534255006
          ],
          [
           "U123",
           14.9,
           2.962,
           0.93,
           83.95190466056607
          ],
          [
           "U124",
           16.9,
           2.981,
           0.85,
           82.11922587058497
          ],
          [
           "U125",
           14.5,
           2.936,
           0.94,
           84.60946320435187
          ],
          [
           "U126",
           12.9,
           2.907,
           1.1,
           86.33213711174358
          ],
          [
           "U127",
           13.4,
           2.889,
           1.05,
           85.62030918278865
          ],
          [
           "U128",
           13.7,
           2.936,
           0.774,
           85.22182960345506
          ],
          [
           "U129",
           13.4,
           2.837,
           0.97,
           85.12055201187468
          ],
          [
           "U130",
           14,
           2.747,
           1.08,
           83.9715873996294
          ],
          [
           "U131",
           14,
           2.896,
           1.04,
           85.15847041598484
          ],
          [
           "U132",
           12.9,
           2.947,
           0.89,
           85.44221294271007
          ],
          [
           "U133",
           13,
           2.878,
           4.51,
           86.19424740064132
          ],
          [
           "U134",
           15.7,
           3.116,
           0.97,
           84.09050733604383
          ],
          [
           "U135",
           13.2,
           3.174,
           1.91,
           86.02420643982647
          ],
          [
           "U136",
           14.7,
           3.038,
           0.532,
           84.6784213951837
          ],
          [
           "U137",
           13.5,
           2.889,
           1.04,
           85.4442575317327
          ],
          [
           "U138",
           14,
           2.936,
           0.9,
           84.80679258360769
          ],
          [
           "U139",
           14.7,
           2.971,
           0.9,
           84.69019450571487
          ],
          [
           "U140",
           13.9,
           3.014,
           0.89,
           84.2062676998724
          ],
          [
           "U141",
           14.9,
           2.964,
           0.92,
           84.00538992757288
          ],
          [
           "U142",
           16.2,
           2.859,
           0.97,
           82.78107365070181
          ],
          [
           "U143",
           14.4,
           2.94,
           0.99,
           83.50670887984319
          ],
          [
           "U144",
           15.4,
           2.983,
           1.25,
           83.45870809484875
          ],
          [
           "U145",
           15.6,
           4.033,
           1.05,
           83.61918345516136
          ],
          [
           "U146",
           12.5,
           2.949,
           0.78,
           85.67578666392896
          ],
          [
           "U147",
           14.1,
           2.922,
           0.91,
           84.94637719068797
          ],
          [
           "U148",
           12.8,
           3.002,
           0.98,
           85.16343132360285
          ],
          [
           "U149",
           13.1,
           2.896,
           0.94,
           85.26221540035813
          ],
          [
           "U150",
           12.8,
           2.934,
           0.94,
           85.25801952580197
          ],
          [
           "U151",
           17.2,
           3.66,
           0.89,
           81.76690134871491
          ],
          [
           "U152",
           15,
           3.14,
           0.67,
           83.37520801383495
          ],
          [
           "U153",
           14.6,
           3.16,
           1.03,
           83.0942863860804
          ],
          [
           "U154",
           15.9,
           3.15,
           0.41,
           83.09303627108709
          ],
          [
           "U155",
           15.8,
           3.14,
           0.79,
           82.86324046836246
          ],
          [
           "U156",
           17.4,
           3.2,
           0.56,
           81.9332700025203
          ],
          [
           "U157",
           17,
           3.19,
           0.52,
           80.69173244702948
          ],
          [
           "U158",
           16.9,
           3.15,
           0.55,
           81.57872956755637
          ],
          [
           "U159",
           15.9,
           3.16,
           0.58,
           80.56435434484214
          ],
          [
           "U160",
           17.2,
           3.1,
           0.57,
           81.34539485173416
          ],
          [
           "U161",
           16.6,
           3.03,
           0.79,
           82.30389379098195
          ],
          [
           "U162",
           13.7,
           2.98,
           0.76,
           82.46957956453846
          ],
          [
           "U163",
           15.5,
           2.99,
           0.72,
           86.55948553054661
          ],
          [
           "U164",
           17.1,
           3.01,
           0.62,
           81.33143264433357
          ],
          [
           "U165",
           15.4,
           3.02,
           0.71,
           82.4565669665775
          ],
          [
           "U166",
           11.6,
           2.9,
           0.84,
           86.69428682938545
          ],
          [
           "U167",
           13.3,
           2.94,
           0.88,
           85.60340270101406
          ],
          [
           "U168",
           14.5,
           3,
           0.76,
           84.38009100612327
          ],
          [
           "U169",
           14.1,
           2.99,
           0.77,
           85.55779013368034
          ],
          [
           "U170",
           13.8,
           2.97,
           0.85,
           85.31199157814146
          ],
          [
           "U171",
           16.9,
           3.01,
           0.62,
           81.33435408869231
          ],
          [
           "U172",
           16.4,
           3.01,
           0.69,
           82.61250547662267
          ],
          [
           "U173",
           16.1,
           3.08,
           0.8,
           82.87389795348464
          ],
          [
           "U174",
           16.7,
           3.02,
           0.67,
           81.48675084474478
          ],
          [
           "U175",
           15.1,
           3.03,
           0.62,
           83.72381593337259
          ],
          [
           "U176",
           15.1,
           3,
           0.7,
           83.53335818114051
          ],
          [
           "U177",
           15.3,
           3.02,
           0.67,
           83.78310098527824
          ],
          [
           "U178",
           19,
           3.02,
           0.65,
           84.69046346340401
          ],
          [
           "U179",
           15.4,
           3.07,
           0.76,
           83.63496422033617
          ],
          [
           "U180",
           15.9,
           3.03,
           0.82,
           83.0924258693318
          ],
          [
           "U181",
           15.1,
           2.99,
           0.74,
           83.62390254883816
          ],
          [
           "U182",
           15.8,
           3.04,
           0.68,
           82.89153427446121
          ],
          [
           "U183",
           15.6,
           3.04,
           0.82,
           83.17724733367193
          ],
          [
           "U184",
           17,
           3.01,
           0.75,
           81.49680893498204
          ],
          [
           "U185",
           15.5,
           3.17,
           0.55,
           82.59263975550745
          ],
          [
           "U186",
           15.1,
           3.07,
           0.58,
           83.30968428520751
          ],
          [
           "U187",
           13.5,
           3.02,
           0.7,
           83.60967993754878
          ],
          [
           "U188",
           15.4,
           3.05,
           0.53,
           83.1456720619282
          ],
          [
           "U189",
           16.5,
           3.06,
           0.6,
           82.56316389605712
          ],
          [
           "U190",
           14.6,
           3.04,
           0.61,
           83.48244796520656
          ],
          [
           "U191",
           16.2,
           3.04,
           0.7,
           81.4498109315916
          ],
          [
           "U192",
           16.9,
           3.02,
           0.75,
           82.14248297537978
          ],
          [
           "U193",
           15.5,
           3.01,
           0.82,
           80.90634441087616
          ],
          [
           "U194",
           15.3,
           3.01,
           0.74,
           81.77305981925119
          ],
          [
           "U195",
           16.3,
           3.04,
           0.71,
           81.6231221423906
          ],
          [
           "U196",
           13.9,
           3,
           0.79,
           84.6017250126839
          ],
          [
           "U197",
           14.5,
           3.01,
           0.85,
           83.74871342449643
          ],
          [
           "U198",
           14.4,
           3.05,
           0.5,
           83.26991120902596
          ],
          [
           "U199",
           15,
           3.04,
           0.67,
           83.65047152918706
          ],
          [
           "U200",
           16,
           3.09,
           0.66,
           82.45249319239892
          ],
          [
           "U201",
           17.5,
           3.61,
           0.86,
           81.90974297668859
          ],
          [
           "U202",
           17.3,
           3.47,
           0.81,
           81.44940747493163
          ],
          [
           "U203",
           18.3,
           3.45,
           0.78,
           80.60464815174468
          ],
          [
           "U204",
           17.5,
           3.37,
           0.78,
           81.16516028570462
          ],
          [
           "U205",
           17.2,
           3.38,
           0.83,
           81.75927305228663
          ],
          [
           "U206",
           17.8,
           3.4,
           0.64,
           80.68539063108942
          ],
          [
           "U207",
           17.1,
           3.42,
           0.61,
           81.83595739047192
          ],
          [
           "U208",
           17.8,
           3.43,
           0.53,
           80.6989372266475
          ],
          [
           "U209",
           16.5,
           3.38,
           0.67,
           82.0347533632287
          ],
          [
           "U210",
           18.5,
           3.44,
           0.6,
           80.8863089338808
          ],
          [
           "U211",
           17.5,
           3.4,
           0.59,
           80.87322059807013
          ],
          [
           "U212",
           18.6,
           3.36,
           0.68,
           80.74391988555077
          ],
          [
           "U213",
           16.8,
           3.28,
           0.77,
           81.66167482406797
          ],
          [
           "U214",
           17.8,
           3.3,
           0.84,
           81.0488380763017
          ],
          [
           "U215",
           17.4,
           3.28,
           0.81,
           81.0761632440863
          ],
          [
           "U216",
           16.9,
           3.25,
           0.84,
           82.00364952586077
          ],
          [
           "U217",
           14.9,
           3.25,
           0.75,
           84.31972955759149
          ],
          [
           "U218",
           15.1,
           3.26,
           0.83,
           83.67316416571114
          ],
          [
           "U219",
           16.2,
           3.32,
           0.7,
           82.71908746127791
          ],
          [
           "U220",
           14.9,
           3.25,
           0.68,
           83.98611674098095
          ],
          [
           "U221",
           18,
           3.28,
           0.7,
           81.05118180202595
          ],
          [
           "U222",
           19.1,
           3.27,
           0.77,
           79.36845788261363
          ],
          [
           "U223",
           17.9,
           3.28,
           0.72,
           80.71981226329606
          ],
          [
           "U224",
           17,
           3.29,
           0.68,
           81.37265054626418
          ],
          [
           "U225",
           17.5,
           3.29,
           0.74,
           80.91355049700933
          ],
          [
           "U226",
           17.1,
           3.27,
           0.82,
           82.1415626779889
          ],
          [
           "U227",
           15.8,
           3.25,
           0.74,
           82.37816660931254
          ],
          [
           "U228",
           16.7,
           3.26,
           0.75,
           82.44124676359293
          ],
          [
           "U229",
           16.2,
           3.22,
           0.7,
           82.2214965478634
          ],
          [
           "U230",
           15.3,
           3.24,
           0.74,
           81.89335903810053
          ],
          [
           "U231",
           16.8,
           3.23,
           0.71,
           82.14892967694118
          ],
          [
           "U232",
           17.3,
           3.24,
           0.72,
           80.85322624625073
          ],
          [
           "U233",
           19.5,
           3.26,
           0.71,
           79.33734340823226
          ],
          [
           "U234",
           16.6,
           3.24,
           0.72,
           82.00531606611109
          ],
          [
           "U235",
           17.5,
           3.26,
           0.87,
           80.5381849874714
          ],
          [
           "U236",
           15.1,
           3.24,
           0.75,
           82.25111317475056
          ],
          [
           "U237",
           15.9,
           3.2,
           0.77,
           82.59752075514615
          ],
          [
           "U238",
           17.2,
           3.18,
           0.55,
           81.73932634899181
          ],
          [
           "U239",
           17.1,
           3.16,
           0.71,
           81.56166953259341
          ],
          [
           "U240",
           18.2,
           3.16,
           0.75,
           80.93393148450247
          ],
          [
           "U241",
           16.3,
           3.17,
           0.77,
           81.3222805136083
          ],
          [
           "U242",
           15.7,
           3.12,
           0.8,
           81.38325703073906
          ],
          [
           "U243",
           15.9,
           3.17,
           0.79,
           63.964518910927694
          ],
          [
           "U244",
           17.7,
           3.14,
           0.81,
           80.94603597601596
          ],
          [
           "U245",
           15.2,
           3.13,
           0.82,
           83.29667486091347
          ],
          [
           "U246",
           17.2,
           3.19,
           0.68,
           81.28414929186944
          ],
          [
           "U247",
           15.9,
           3.2,
           0.69,
           81.73937360178971
          ],
          [
           "U248",
           16.6,
           3.21,
           0.73,
           82.38555922605002
          ],
          [
           "U249",
           16.2,
           3.2,
           0.63,
           82.0337985332712
          ],
          [
           "U250",
           15.6,
           3.21,
           0.72,
           82.44775739041793
          ]
         ],
         "hovertemplate": "FIRMEZA (N)=%{y}<br>Wavelength=%{customdata[0]}<br>SST=%{customdata[1]}<br>PH=%{customdata[2]}<br>AT=%{customdata[3]}<br>UBU (%)=%{customdata[4]}<extra></extra>",
         "legendgroup": "",
         "marker": {
          "color": "#636efa"
         },
         "name": "",
         "notched": false,
         "offsetgroup": "",
         "orientation": "v",
         "showlegend": false,
         "type": "box",
         "x0": " ",
         "xaxis": "x",
         "y": {
          "bdata": "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",
          "dtype": "f8"
         },
         "y0": " ",
         "yaxis": "y"
        }
       ],
       "layout": {
        "boxmode": "group",
        "legend": {
         "tracegroupgap": 0
        },
        "template": {
         "data": {
          "bar": [
           {
            "error_x": {
             "color": "#2a3f5f"
            },
            "error_y": {
             "color": "#2a3f5f"
            },
            "marker": {
             "line": {
              "color": "#E5ECF6",
              "width": 0.5
             },
             "pattern": {
              "fillmode": "overlay",
              "size": 10,
              "solidity": 0.2
             }
            },
            "type": "bar"
           }
          ],
          "barpolar": [
           {
            "marker": {
             "line": {
              "color": "#E5ECF6",
              "width": 0.5
             },
             "pattern": {
              "fillmode": "overlay",
              "size": 10,
              "solidity": 0.2
             }
            },
            "type": "barpolar"
           }
          ],
          "carpet": [
           {
            "aaxis": {
             "endlinecolor": "#2a3f5f",
             "gridcolor": "white",
             "linecolor": "white",
             "minorgridcolor": "white",
             "startlinecolor": "#2a3f5f"
            },
            "baxis": {
             "endlinecolor": "#2a3f5f",
             "gridcolor": "white",
             "linecolor": "white",
             "minorgridcolor": "white",
             "startlinecolor": "#2a3f5f"
            },
            "type": "carpet"
           }
          ],
          "choropleth": [
           {
            "colorbar": {
             "outlinewidth": 0,
             "ticks": ""
            },
            "type": "choropleth"
           }
          ],
          "contour": [
           {
            "colorbar": {
             "outlinewidth": 0,
             "ticks": ""
            },
            "colorscale": [
             [
              0,
              "#0d0887"
             ],
             [
              0.1111111111111111,
              "#46039f"
             ],
             [
              0.2222222222222222,
              "#7201a8"
             ],
             [
              0.3333333333333333,
              "#9c179e"
             ],
             [
              0.4444444444444444,
              "#bd3786"
             ],
             [
              0.5555555555555556,
              "#d8576b"
             ],
             [
              0.6666666666666666,
              "#ed7953"
             ],
             [
              0.7777777777777778,
              "#fb9f3a"
             ],
             [
              0.8888888888888888,
              "#fdca26"
             ],
             [
              1,
              "#f0f921"
             ]
            ],
            "type": "contour"
           }
          ],
          "contourcarpet": [
           {
            "colorbar": {
             "outlinewidth": 0,
             "ticks": ""
            },
            "type": "contourcarpet"
           }
          ],
          "heatmap": [
           {
            "colorbar": {
             "outlinewidth": 0,
             "ticks": ""
            },
            "colorscale": [
             [
              0,
              "#0d0887"
             ],
             [
              0.1111111111111111,
              "#46039f"
             ],
             [
              0.2222222222222222,
              "#7201a8"
             ],
             [
              0.3333333333333333,
              "#9c179e"
             ],
             [
              0.4444444444444444,
              "#bd3786"
             ],
             [
              0.5555555555555556,
              "#d8576b"
             ],
             [
              0.6666666666666666,
              "#ed7953"
             ],
             [
              0.7777777777777778,
              "#fb9f3a"
             ],
             [
              0.8888888888888888,
              "#fdca26"
             ],
             [
              1,
              "#f0f921"
             ]
            ],
            "type": "heatmap"
           }
          ],
          "histogram": [
           {
            "marker": {
             "pattern": {
              "fillmode": "overlay",
              "size": 10,
              "solidity": 0.2
             }
            },
            "type": "histogram"
           }
          ],
          "histogram2d": [
           {
            "colorbar": {
             "outlinewidth": 0,
             "ticks": ""
            },
            "colorscale": [
             [
              0,
              "#0d0887"
             ],
             [
              0.1111111111111111,
              "#46039f"
             ],
             [
              0.2222222222222222,
              "#7201a8"
             ],
             [
              0.3333333333333333,
              "#9c179e"
             ],
             [
              0.4444444444444444,
              "#bd3786"
             ],
             [
              0.5555555555555556,
              "#d8576b"
             ],
             [
              0.6666666666666666,
              "#ed7953"
             ],
             [
              0.7777777777777778,
              "#fb9f3a"
             ],
             [
              0.8888888888888888,
              "#fdca26"
             ],
             [
              1,
              "#f0f921"
             ]
            ],
            "type": "histogram2d"
           }
          ],
          "histogram2dcontour": [
           {
            "colorbar": {
             "outlinewidth": 0,
             "ticks": ""
            },
            "colorscale": [
             [
              0,
              "#0d0887"
             ],
             [
              0.1111111111111111,
              "#46039f"
             ],
             [
              0.2222222222222222,
              "#7201a8"
             ],
             [
              0.3333333333333333,
              "#9c179e"
             ],
             [
              0.4444444444444444,
              "#bd3786"
             ],
             [
              0.5555555555555556,
              "#d8576b"
             ],
             [
              0.6666666666666666,
              "#ed7953"
             ],
             [
              0.7777777777777778,
              "#fb9f3a"
             ],
             [
              0.8888888888888888,
              "#fdca26"
             ],
             [
              1,
              "#f0f921"
             ]
            ],
            "type": "histogram2dcontour"
           }
          ],
          "mesh3d": [
           {
            "colorbar": {
             "outlinewidth": 0,
             "ticks": ""
            },
            "type": "mesh3d"
           }
          ],
          "parcoords": [
           {
            "line": {
             "colorbar": {
              "outlinewidth": 0,
              "ticks": ""
             }
            },
            "type": "parcoords"
           }
          ],
          "pie": [
           {
            "automargin": true,
            "type": "pie"
           }
          ],
          "scatter": [
           {
            "fillpattern": {
             "fillmode": "overlay",
             "size": 10,
             "solidity": 0.2
            },
            "type": "scatter"
           }
          ],
          "scatter3d": [
           {
            "line": {
             "colorbar": {
              "outlinewidth": 0,
              "ticks": ""
             }
            },
            "marker": {
             "colorbar": {
              "outlinewidth": 0,
              "ticks": ""
             }
            },
            "type": "scatter3d"
           }
          ],
          "scattercarpet": [
           {
            "marker": {
             "colorbar": {
              "outlinewidth": 0,
              "ticks": ""
             }
            },
            "type": "scattercarpet"
           }
          ],
          "scattergeo": [
           {
            "marker": {
             "colorbar": {
              "outlinewidth": 0,
              "ticks": ""
             }
            },
            "type": "scattergeo"
           }
          ],
          "scattergl": [
           {
            "marker": {
             "colorbar": {
              "outlinewidth": 0,
              "ticks": ""
             }
            },
            "type": "scattergl"
           }
          ],
          "scattermap": [
           {
            "marker": {
             "colorbar": {
              "outlinewidth": 0,
              "ticks": ""
             }
            },
            "type": "scattermap"
           }
          ],
          "scattermapbox": [
           {
            "marker": {
             "colorbar": {
              "outlinewidth": 0,
              "ticks": ""
             }
            },
            "type": "scattermapbox"
           }
          ],
          "scatterpolar": [
           {
            "marker": {
             "colorbar": {
              "outlinewidth": 0,
              "ticks": ""
             }
            },
            "type": "scatterpolar"
           }
          ],
          "scatterpolargl": [
           {
            "marker": {
             "colorbar": {
              "outlinewidth": 0,
              "ticks": ""
             }
            },
            "type": "scatterpolargl"
           }
          ],
          "scatterternary": [
           {
            "marker": {
             "colorbar": {
              "outlinewidth": 0,
              "ticks": ""
             }
            },
            "type": "scatterternary"
           }
          ],
          "surface": [
           {
            "colorbar": {
             "outlinewidth": 0,
             "ticks": ""
            },
            "colorscale": [
             [
              0,
              "#0d0887"
             ],
             [
              0.1111111111111111,
              "#46039f"
             ],
             [
              0.2222222222222222,
              "#7201a8"
             ],
             [
              0.3333333333333333,
              "#9c179e"
             ],
             [
              0.4444444444444444,
              "#bd3786"
             ],
             [
              0.5555555555555556,
              "#d8576b"
             ],
             [
              0.6666666666666666,
              "#ed7953"
             ],
             [
              0.7777777777777778,
              "#fb9f3a"
             ],
             [
              0.8888888888888888,
              "#fdca26"
             ],
             [
              1,
              "#f0f921"
             ]
            ],
            "type": "surface"
           }
          ],
          "table": [
           {
            "cells": {
             "fill": {
              "color": "#EBF0F8"
             },
             "line": {
              "color": "white"
             }
            },
            "header": {
             "fill": {
              "color": "#C8D4E3"
             },
             "line": {
              "color": "white"
             }
            },
            "type": "table"
           }
          ]
         },
         "layout": {
          "annotationdefaults": {
           "arrowcolor": "#2a3f5f",
           "arrowhead": 0,
           "arrowwidth": 1
          },
          "autotypenumbers": "strict",
          "coloraxis": {
           "colorbar": {
            "outlinewidth": 0,
            "ticks": ""
           }
          },
          "colorscale": {
           "diverging": [
            [
             0,
             "#8e0152"
            ],
            [
             0.1,
             "#c51b7d"
            ],
            [
             0.2,
             "#de77ae"
            ],
            [
             0.3,
             "#f1b6da"
            ],
            [
             0.4,
             "#fde0ef"
            ],
            [
             0.5,
             "#f7f7f7"
            ],
            [
             0.6,
             "#e6f5d0"
            ],
            [
             0.7,
             "#b8e186"
            ],
            [
             0.8,
             "#7fbc41"
            ],
            [
             0.9,
             "#4d9221"
            ],
            [
             1,
             "#276419"
            ]
           ],
           "sequential": [
            [
             0,
             "#0d0887"
            ],
            [
             0.1111111111111111,
             "#46039f"
            ],
            [
             0.2222222222222222,
             "#7201a8"
            ],
            [
             0.3333333333333333,
             "#9c179e"
            ],
            [
             0.4444444444444444,
             "#bd3786"
            ],
            [
             0.5555555555555556,
             "#d8576b"
            ],
            [
             0.6666666666666666,
             "#ed7953"
            ],
            [
             0.7777777777777778,
             "#fb9f3a"
            ],
            [
             0.8888888888888888,
             "#fdca26"
            ],
            [
             1,
             "#f0f921"
            ]
           ],
           "sequentialminus": [
            [
             0,
             "#0d0887"
            ],
            [
             0.1111111111111111,
             "#46039f"
            ],
            [
             0.2222222222222222,
             "#7201a8"
            ],
            [
             0.3333333333333333,
             "#9c179e"
            ],
            [
             0.4444444444444444,
             "#bd3786"
            ],
            [
             0.5555555555555556,
             "#d8576b"
            ],
            [
             0.6666666666666666,
             "#ed7953"
            ],
            [
             0.7777777777777778,
             "#fb9f3a"
            ],
            [
             0.8888888888888888,
             "#fdca26"
            ],
            [
             1,
             "#f0f921"
            ]
           ]
          },
          "colorway": [
           "#636efa",
           "#EF553B",
           "#00cc96",
           "#ab63fa",
           "#FFA15A",
           "#19d3f3",
           "#FF6692",
           "#B6E880",
           "#FF97FF",
           "#FECB52"
          ],
          "font": {
           "color": "#2a3f5f"
          },
          "geo": {
           "bgcolor": "white",
           "lakecolor": "white",
           "landcolor": "#E5ECF6",
           "showlakes": true,
           "showland": true,
           "subunitcolor": "white"
          },
          "hoverlabel": {
           "align": "left"
          },
          "hovermode": "closest",
          "mapbox": {
           "style": "light"
          },
          "paper_bgcolor": "white",
          "plot_bgcolor": "#E5ECF6",
          "polar": {
           "angularaxis": {
            "gridcolor": "white",
            "linecolor": "white",
            "ticks": ""
           },
           "bgcolor": "#E5ECF6",
           "radialaxis": {
            "gridcolor": "white",
            "linecolor": "white",
            "ticks": ""
           }
          },
          "scene": {
           "xaxis": {
            "backgroundcolor": "#E5ECF6",
            "gridcolor": "white",
            "gridwidth": 2,
            "linecolor": "white",
            "showbackground": true,
            "ticks": "",
            "zerolinecolor": "white"
           },
           "yaxis": {
            "backgroundcolor": "#E5ECF6",
            "gridcolor": "white",
            "gridwidth": 2,
            "linecolor": "white",
            "showbackground": true,
            "ticks": "",
            "zerolinecolor": "white"
           },
           "zaxis": {
            "backgroundcolor": "#E5ECF6",
            "gridcolor": "white",
            "gridwidth": 2,
            "linecolor": "white",
            "showbackground": true,
            "ticks": "",
            "zerolinecolor": "white"
           }
          },
          "shapedefaults": {
           "line": {
            "color": "#2a3f5f"
           }
          },
          "ternary": {
           "aaxis": {
            "gridcolor": "white",
            "linecolor": "white",
            "ticks": ""
           },
           "baxis": {
            "gridcolor": "white",
            "linecolor": "white",
            "ticks": ""
           },
           "bgcolor": "#E5ECF6",
           "caxis": {
            "gridcolor": "white",
            "linecolor": "white",
            "ticks": ""
           }
          },
          "title": {
           "x": 0.05
          },
          "xaxis": {
           "automargin": true,
           "gridcolor": "white",
           "linecolor": "white",
           "ticks": "",
           "title": {
            "standoff": 15
           },
           "zerolinecolor": "white",
           "zerolinewidth": 2
          },
          "yaxis": {
           "automargin": true,
           "gridcolor": "white",
           "linecolor": "white",
           "ticks": "",
           "title": {
            "standoff": 15
           },
           "zerolinecolor": "white",
           "zerolinewidth": 2
          }
         }
        },
        "title": {
         "text": "Box Plot do Atributo: FIRMEZA (N)"
        },
        "xaxis": {
         "anchor": "y",
         "domain": [
          0,
          1
         ]
        },
        "yaxis": {
         "anchor": "x",
         "domain": [
          0,
          1
         ],
         "title": {
          "text": "FIRMEZA (N)"
         }
        }
       }
      }
     },
     "metadata": {},
     "output_type": "display_data"
    },
    {
     "name": "stdout",
     "output_type": "stream",
     "text": [
      "Outliers encontrados para 'FIRMEZA (N)': 1 amostra(s).\n"
     ]
    },
    {
     "data": {
      "application/vnd.plotly.v1+json": {
       "config": {
        "plotlyServerURL": "https://plot.ly"
       },
       "data": [
        {
         "alignmentgroup": "True",
         "boxpoints": "all",
         "customdata": [
          [
           "U001",
           11.6,
           3.27,
           557.941,
           88.13370473537603
          ],
          [
           "U002",
           11.3,
           3.49,
           392.806,
           87.79383429672451
          ],
          [
           "U003",
           11.4,
           3.56,
           553.736,
           87.59904912836764
          ],
          [
           "U004",
           11.6,
           3.57,
           564.029,
           87.18606180144644
          ],
          [
           "U005",
           11.3,
           3.57,
           645.933,
           87.5957926371149
          ],
          [
           "U006",
           12,
           3.55,
           675.042,
           87.13245997088792
          ],
          [
           "U007",
           12.7,
           3.607,
           559.38,
           85.98595353862775
          ],
          [
           "U008",
           12.8,
           3.643,
           619.812,
           86.21310295176389
          ],
          [
           "U009",
           13.2,
           3.636,
           720.531,
           87.75914634146336
          ],
          [
           "U010",
           12.9,
           3.388,
           556.06,
           85.82006369426753
          ],
          [
           "U011",
           11,
           3.282,
           578.085,
           87.629179331307
          ],
          [
           "U012",
           9.4,
           3.318,
           598.008,
           88.21545157780187
          ],
          [
           "U013",
           11.6,
           3.306,
           615.938,
           87.62316335350042
          ],
          [
           "U014",
           12.3,
           3.282,
           613.171,
           87.02087286527511
          ],
          [
           "U015",
           11.9,
           3.39,
           662.756,
           87.4169986719787
          ],
          [
           "U016",
           8,
           3.328,
           774.876,
           90.55322715842414
          ],
          [
           "U017",
           10.9,
           3.407,
           658.107,
           88.54131534569981
          ],
          [
           "U018",
           9.7,
           3.428,
           650.913,
           88.9677419354839
          ],
          [
           "U019",
           10,
           3.396,
           687.216,
           88.59932088285231
          ],
          [
           "U020",
           9.7,
           3.45,
           675.152,
           89.1748675246026
          ],
          [
           "U021",
           11.9,
           3.404,
           592.142,
           87.5317725752509
          ],
          [
           "U022",
           12.7,
           3.482,
           613.835,
           86.37880986937581
          ],
          [
           "U023",
           13.7,
           3.499,
           538.24,
           85.62500000000003
          ],
          [
           "U024",
           11.5,
           3.436,
           658.218,
           87.49999999999997
          ],
          [
           "U025",
           13.1,
           3.462,
           540.897,
           86.13196814562012
          ],
          [
           "U026",
           8.5,
           3.418,
           713.448,
           89.84308131241082
          ],
          [
           "U027",
           10.2,
           3.43,
           593.359,
           87.90336496980156
          ],
          [
           "U028",
           10.5,
           3.43,
           599.115,
           88.62244897959188
          ],
          [
           "U029",
           9.1,
           3.455,
           645.711,
           88.9314391599753
          ],
          [
           "U030",
           10.4,
           3.453,
           673.824,
           87.81450872359956
          ],
          [
           "U031",
           7.2,
           3.248,
           768.567,
           91.5115286080273
          ],
          [
           "U032",
           7.9,
           3.375,
           717.764,
           89.21200750469028
          ],
          [
           "U033",
           10.9,
           3.507,
           490.537,
           88.48965517241385
          ],
          [
           "U034",
           10.7,
           3.379,
           658.55,
           88.6481303930968
          ],
          [
           "U035",
           11.5,
           3.566,
           640.066,
           87.96841349605174
          ],
          [
           "U036",
           9.7,
           3.474,
           653.57,
           89.42540322580648
          ],
          [
           "U037",
           10.4,
           3.46,
           578.417,
           89.23018292682926
          ],
          [
           "U038",
           9.7,
           3.448,
           664.195,
           88.99789029535863
          ],
          [
           "U039",
           10.6,
           3.389,
           711.234,
           88.30431491294469
          ],
          [
           "U040",
           11.6,
           3.454,
           694.189,
           87.90759075907589
          ],
          [
           "U041",
           9.1,
           3.457,
           758.163,
           89.33797909407673
          ],
          [
           "U042",
           12.1,
           3.356,
           830.548,
           93.21316614420058
          ],
          [
           "U043",
           12.6,
           3.465,
           649.032,
           86.81318681318695
          ],
          [
           "U044",
           10.1,
           3.473,
           646.707,
           89.56816257408971
          ],
          [
           "U045",
           8.6,
           3.403,
           639.181,
           89.06097560975614
          ],
          [
           "U046",
           8.2,
           3.481,
           605.202,
           90.91966173361516
          ],
          [
           "U047",
           9.7,
           3.44,
           524.516,
           89.1866028708134
          ],
          [
           "U048",
           9.5,
           3.443,
           603.32,
           89.61837455830384
          ],
          [
           "U049",
           10.2,
           3.472,
           594.687,
           89.24228250701587
          ],
          [
           "U050",
           11.1,
           3.45,
           543,
           87.78368794326244
          ],
          [
           "U051",
           13.6,
           3.485,
           493.857,
           86.00779952336246
          ],
          [
           "U052",
           12.8,
           3.46,
           583.841,
           86.41550387596898
          ],
          [
           "U053",
           12.9,
           3.434,
           508.578,
           85.90077371566869
          ],
          [
           "U054",
           12.1,
           3.534,
           468.511,
           85.63756329599508
          ],
          [
           "U055",
           13.7,
           3.491,
           459.989,
           85.59582558045463
          ],
          [
           "U056",
           12.6,
           3.539,
           500.941,
           86.38251366120218
          ],
          [
           "U057",
           13.5,
           5.263,
           458.439,
           84.4997477719859
          ],
          [
           "U058",
           12.9,
           3.567,
           449.917,
           85.79146291986079
          ],
          [
           "U059",
           14.6,
           3.902,
           482.125,
           84.98097653772989
          ],
          [
           "U060",
           15.9,
           3.598,
           406.862,
           83.52230363799974
          ],
          [
           "U061",
           12.4,
           3.574,
           551.965,
           86.30094043887149
          ],
          [
           "U062",
           13,
           3.591,
           495.185,
           85.60317460317461
          ],
          [
           "U063",
           12.4,
           3.591,
           478.473,
           85.6540213370831
          ],
          [
           "U064",
           13.2,
           3.604,
           563.586,
           85.6106489184692
          ],
          [
           "U065",
           13.2,
           3.642,
           535.363,
           85.63676661656434
          ],
          [
           "U066",
           10.9,
           3.555,
           420.919,
           88.3319321843912
          ],
          [
           "U067",
           10.1,
           3.609,
           597.344,
           88.09644242117683
          ],
          [
           "U068",
           11,
           3.267,
           555.617,
           87.31633065142432
          ],
          [
           "U069",
           11.9,
           3.595,
           464.748,
           87.10915176749124
          ],
          [
           "U070",
           11.4,
           3.625,
           613.392,
           87.40903809698526
          ],
          [
           "U071",
           14.5,
           3.693,
           468.179,
           85.34199772224828
          ],
          [
           "U072",
           14.2,
           3.625,
           453.459,
           85.02920473266435
          ],
          [
           "U073",
           12.7,
           3.609,
           490.537,
           86.08539161732874
          ],
          [
           "U074",
           13.7,
           3.581,
           550.969,
           84.4006154706952
          ],
          [
           "U075",
           14,
           3.689,
           513.337,
           85.31342486481677
          ],
          [
           "U076",
           9.9,
           3.689,
           532.263,
           88.91170431211496
          ],
          [
           "U077",
           12.4,
           3.677,
           582.18,
           86.53680893726727
          ],
          [
           "U078",
           11.4,
           3.668,
           490.537,
           86.96868494101318
          ],
          [
           "U079",
           11.6,
           3.683,
           541.229,
           86.9326360938923
          ],
          [
           "U080",
           12,
           3.61,
           507.582,
           86.13090379651894
          ],
          [
           "U081",
           11,
           3.565,
           535.584,
           88.45017322192786
          ],
          [
           "U082",
           12.5,
           3.641,
           562.369,
           87.17361111111111
          ],
          [
           "U083",
           13.4,
           3.637,
           455.894,
           86.12492195268598
          ],
          [
           "U084",
           13.2,
           3.652,
           502.712,
           85.75189753320683
          ],
          [
           "U085",
           13.3,
           3.679,
           382.623,
           85.69147147820237
          ],
          [
           "U086",
           13.6,
           3.63,
           679.358,
           85.4314225454088
          ],
          [
           "U087",
           12.3,
           3.706,
           610.404,
           85.3664223850766
          ],
          [
           "U088",
           13.9,
           3.724,
           633.204,
           84.88072830638038
          ],
          [
           "U089",
           13.3,
           3.684,
           608.965,
           85.75465838509318
          ],
          [
           "U090",
           12.3,
           3.685,
           554.51,
           85.72936519571911
          ],
          [
           "U091",
           14.2,
           3.708,
           624.128,
           85.10727955894231
          ],
          [
           "U092",
           13.2,
           3.686,
           663.641,
           84.93422503123392
          ],
          [
           "U093",
           13.2,
           3.717,
           565.689,
           85.22648083623695
          ],
          [
           "U094",
           13.8,
           3.673,
           428.556,
           84.64170973599666
          ],
          [
           "U095",
           14.4,
           3.69,
           521.306,
           85.17945459066671
          ],
          [
           "U096",
           10.6,
           3.672,
           536.359,
           88.25127217714206
          ],
          [
           "U097",
           11,
           3.708,
           545.767,
           87.36419222800545
          ],
          [
           "U098",
           10.1,
           3.665,
           508.356,
           87.76656918476651
          ],
          [
           "U099",
           12.2,
           3.683,
           541.561,
           86.71287420734406
          ],
          [
           "U100",
           11.7,
           3.838,
           463.641,
           86.76320986176766
          ],
          [
           "U101",
           14.5,
           3.479,
           564.914,
           85.41600940717585
          ],
          [
           "U102",
           14.3,
           3.042,
           482.9,
           85.03176691203223
          ],
          [
           "U103",
           14.1,
           3.479,
           496.846,
           84.9655172413793
          ],
          [
           "U104",
           14.6,
           3.092,
           397.233,
           84.79218950847769
          ],
          [
           "U105",
           14.7,
           2.683,
           433.536,
           84.55086908958306
          ],
          [
           "U106",
           15.1,
           2.97,
           514.001,
           83.60273647409196
          ],
          [
           "U107",
           15.3,
           2.92,
           440.288,
           82.56392985157208
          ],
          [
           "U108",
           13.1,
           3.018,
           417.598,
           85.62651141961486
          ],
          [
           "U109",
           13.5,
           3.055,
           478.251,
           84.71778883032687
          ],
          [
           "U110",
           15.8,
           3.153,
           372.33,
           82.88561233420855
          ],
          [
           "U111",
           14.8,
           2.921,
           372.662,
           84.60687183811127
          ],
          [
           "U112",
           14.3,
           3.094,
           576.425,
           84.35990698229084
          ],
          [
           "U113",
           14.5,
           2.994,
           521.527,
           84.63925744547578
          ],
          [
           "U114",
           15,
           3.17,
           397.565,
           84.15085332378568
          ],
          [
           "U115",
           14.5,
           2.892,
           458.329,
           84.56842412735503
          ],
          [
           "U116",
           11.5,
           2.799,
           595.905,
           87.57229560871116
          ],
          [
           "U117",
           11.2,
           3.1,
           509.463,
           87.24104482782514
          ],
          [
           "U118",
           13.5,
           2.819,
           436.303,
           85.82558051584599
          ],
          [
           "U119",
           10.8,
           2.778,
           476.923,
           86.57922830562758
          ],
          [
           "U120",
           12.7,
           2.841,
           449.696,
           85.58372541718849
          ],
          [
           "U121",
           14.7,
           2.93,
           525.291,
           84.08894687362101
          ],
          [
           "U122",
           13.6,
           2.876,
           484.117,
           85.69196534255006
          ],
          [
           "U123",
           14.9,
           2.962,
           422.8,
           83.95190466056607
          ],
          [
           "U124",
           16.9,
           2.981,
           396.68,
           82.11922587058497
          ],
          [
           "U125",
           14.5,
           2.936,
           456.89,
           84.60946320435187
          ],
          [
           "U126",
           12.9,
           2.907,
           637.299,
           86.33213711174358
          ],
          [
           "U127",
           13.4,
           2.889,
           536.248,
           85.62030918278865
          ],
          [
           "U128",
           13.7,
           2.936,
           399.668,
           85.22182960345506
          ],
          [
           "U129",
           13.4,
           2.837,
           394.023,
           85.12055201187468
          ],
          [
           "U130",
           14,
           2.747,
           574.544,
           83.9715873996294
          ],
          [
           "U131",
           14,
           2.896,
           575.208,
           85.15847041598484
          ],
          [
           "U132",
           12.9,
           2.947,
           617.266,
           85.44221294271007
          ],
          [
           "U133",
           13,
           2.878,
           657.333,
           86.19424740064132
          ],
          [
           "U134",
           15.7,
           3.116,
           474.71,
           84.09050733604383
          ],
          [
           "U135",
           13.2,
           3.174,
           476.812,
           86.02420643982647
          ],
          [
           "U136",
           14.7,
           3.038,
           567.903,
           84.6784213951837
          ],
          [
           "U137",
           13.5,
           2.889,
           603.653,
           85.4442575317327
          ],
          [
           "U138",
           14,
           2.936,
           573.99,
           84.80679258360769
          ],
          [
           "U139",
           14.7,
           2.971,
           528.058,
           84.69019450571487
          ],
          [
           "U140",
           13.9,
           3.014,
           467.183,
           84.2062676998724
          ],
          [
           "U141",
           14.9,
           2.964,
           459.436,
           84.00538992757288
          ],
          [
           "U142",
           16.2,
           2.859,
           496.292,
           82.78107365070181
          ],
          [
           "U143",
           14.4,
           2.94,
           498.285,
           83.50670887984319
          ],
          [
           "U144",
           15.4,
           2.983,
           479.912,
           83.45870809484875
          ],
          [
           "U145",
           15.6,
           4.033,
           539.126,
           83.61918345516136
          ],
          [
           "U146",
           12.5,
           2.949,
           512.341,
           85.67578666392896
          ],
          [
           "U147",
           14.1,
           2.922,
           519.978,
           84.94637719068797
          ],
          [
           "U148",
           12.8,
           3.002,
           516.99,
           85.16343132360285
          ],
          [
           "U149",
           13.1,
           2.896,
           445.822,
           85.26221540035813
          ],
          [
           "U150",
           12.8,
           2.934,
           479.026,
           85.25801952580197
          ],
          [
           "U151",
           17.2,
           3.66,
           433.979,
           81.76690134871491
          ],
          [
           "U152",
           15,
           3.14,
           445.49,
           83.37520801383495
          ],
          [
           "U153",
           14.6,
           3.16,
           430.105,
           83.0942863860804
          ],
          [
           "U154",
           15.9,
           3.15,
           499.17,
           83.09303627108709
          ],
          [
           "U155",
           15.8,
           3.14,
           393.138,
           82.86324046836246
          ],
          [
           "U156",
           17.4,
           3.2,
           325.401,
           81.9332700025203
          ],
          [
           "U157",
           17,
           3.19,
           456.779,
           80.69173244702948
          ],
          [
           "U158",
           16.9,
           3.15,
           297.067,
           81.57872956755637
          ],
          [
           "U159",
           15.9,
           3.16,
           382.18,
           80.56435434484214
          ],
          [
           "U160",
           17.2,
           3.1,
           395.683,
           81.34539485173416
          ],
          [
           "U161",
           16.6,
           3.03,
           445.49,
           82.30389379098195
          ],
          [
           "U162",
           13.7,
           2.98,
           387.493,
           82.46957956453846
          ],
          [
           "U163",
           15.5,
           2.99,
           393.47,
           86.55948553054661
          ],
          [
           "U164",
           17.1,
           3.01,
           500.387,
           81.33143264433357
          ],
          [
           "U165",
           15.4,
           3.02,
           422.247,
           82.4565669665775
          ],
          [
           "U166",
           11.6,
           2.9,
           589.928,
           86.69428682938545
          ],
          [
           "U167",
           13.3,
           2.94,
           455.008,
           85.60340270101406
          ],
          [
           "U168",
           14.5,
           3,
           551.965,
           84.38009100612327
          ],
          [
           "U169",
           14.1,
           2.99,
           430.991,
           85.55779013368034
          ],
          [
           "U170",
           13.8,
           2.97,
           472.717,
           85.31199157814146
          ],
          [
           "U171",
           16.9,
           3.01,
           531.378,
           81.33435408869231
          ],
          [
           "U172",
           16.4,
           3.01,
           600.996,
           82.61250547662267
          ],
          [
           "U173",
           16.1,
           3.08,
           394.577,
           82.87389795348464
          ],
          [
           "U174",
           16.7,
           3.02,
           422.69,
           81.48675084474478
          ],
          [
           "U175",
           15.1,
           3.03,
           376.204,
           83.72381593337259
          ],
          [
           "U176",
           15.1,
           3,
           502.933,
           83.53335818114051
          ],
          [
           "U177",
           15.3,
           3.02,
           564.582,
           83.78310098527824
          ],
          [
           "U178",
           19,
           3.02,
           570.448,
           84.69046346340401
          ],
          [
           "U179",
           15.4,
           3.07,
           425.567,
           83.63496422033617
          ],
          [
           "U180",
           15.9,
           3.03,
           506.586,
           83.0924258693318
          ],
          [
           "U181",
           15.1,
           2.99,
           492.64,
           83.62390254883816
          ],
          [
           "U182",
           15.8,
           3.04,
           535.252,
           82.89153427446121
          ],
          [
           "U183",
           15.6,
           3.04,
           497.399,
           83.17724733367193
          ],
          [
           "U184",
           17,
           3.01,
           449.364,
           81.49680893498204
          ],
          [
           "U185",
           15.5,
           3.17,
           379.745,
           82.59263975550745
          ],
          [
           "U186",
           15.1,
           3.07,
           439.181,
           83.30968428520751
          ],
          [
           "U187",
           13.5,
           3.02,
           541.007,
           83.60967993754878
          ],
          [
           "U188",
           15.4,
           3.05,
           378.749,
           83.1456720619282
          ],
          [
           "U189",
           16.5,
           3.06,
           541.782,
           82.56316389605712
          ],
          [
           "U190",
           14.6,
           3.04,
           485.778,
           83.48244796520656
          ],
          [
           "U191",
           16.2,
           3.04,
           575.318,
           81.4498109315916
          ],
          [
           "U192",
           16.9,
           3.02,
           442.944,
           82.14248297537978
          ],
          [
           "U193",
           15.5,
           3.01,
           535.03,
           80.90634441087616
          ],
          [
           "U194",
           15.3,
           3.01,
           355.285,
           81.77305981925119
          ],
          [
           "U195",
           16.3,
           3.04,
           367.017,
           81.6231221423906
          ],
          [
           "U196",
           13.9,
           3,
           536.801,
           84.6017250126839
          ],
          [
           "U197",
           14.5,
           3.01,
           377.532,
           83.74871342449643
          ],
          [
           "U198",
           14.4,
           3.05,
           515.661,
           83.26991120902596
          ],
          [
           "U199",
           15,
           3.04,
           464.306,
           83.65047152918706
          ],
          [
           "U200",
           16,
           3.09,
           582.18,
           82.45249319239892
          ],
          [
           "U201",
           17.5,
           3.61,
           397.676,
           81.90974297668859
          ],
          [
           "U202",
           17.3,
           3.47,
           386.608,
           81.44940747493163
          ],
          [
           "U203",
           18.3,
           3.45,
           424.793,
           80.60464815174468
          ],
          [
           "U204",
           17.5,
           3.37,
           388.157,
           81.16516028570462
          ],
          [
           "U205",
           17.2,
           3.38,
           450.36,
           81.75927305228663
          ],
          [
           "U206",
           17.8,
           3.4,
           475.263,
           80.68539063108942
          ],
          [
           "U207",
           17.1,
           3.42,
           419.48,
           81.83595739047192
          ],
          [
           "U208",
           17.8,
           3.43,
           436.414,
           80.6989372266475
          ],
          [
           "U209",
           16.5,
           3.38,
           416.934,
           82.0347533632287
          ],
          [
           "U210",
           18.5,
           3.44,
           353.403,
           80.8863089338808
          ],
          [
           "U211",
           17.5,
           3.4,
           486.663,
           80.87322059807013
          ],
          [
           "U212",
           18.6,
           3.36,
           467.183,
           80.74391988555077
          ],
          [
           "U213",
           16.8,
           3.28,
           452.02,
           81.66167482406797
          ],
          [
           "U214",
           17.8,
           3.3,
           578.971,
           81.0488380763017
          ],
          [
           "U215",
           17.4,
           3.28,
           509.353,
           81.0761632440863
          ],
          [
           "U216",
           16.9,
           3.25,
           475.595,
           82.00364952586077
          ],
          [
           "U217",
           14.9,
           3.25,
           377.975,
           84.31972955759149
          ],
          [
           "U218",
           15.1,
           3.26,
           397.786,
           83.67316416571114
          ],
          [
           "U219",
           16.2,
           3.32,
           390.924,
           82.71908746127791
          ],
          [
           "U220",
           14.9,
           3.25,
           493.636,
           83.98611674098095
          ],
          [
           "U221",
           18,
           3.28,
           474.82,
           81.05118180202595
          ],
          [
           "U222",
           19.1,
           3.27,
           478.694,
           79.36845788261363
          ],
          [
           "U223",
           17.9,
           3.28,
           349.419,
           80.71981226329606
          ],
          [
           "U224",
           17,
           3.29,
           458.771,
           81.37265054626418
          ],
          [
           "U225",
           17.5,
           3.29,
           259.989,
           80.91355049700933
          ],
          [
           "U226",
           17.1,
           3.27,
           436.414,
           82.1415626779889
          ],
          [
           "U227",
           15.8,
           3.25,
           432.429,
           82.37816660931254
          ],
          [
           "U228",
           16.7,
           3.26,
           492.64,
           82.44124676359293
          ],
          [
           "U229",
           16.2,
           3.22,
           361.926,
           82.2214965478634
          ],
          [
           "U230",
           15.3,
           3.24,
           425.789,
           81.89335903810053
          ],
          [
           "U231",
           16.8,
           3.23,
           455.451,
           82.14892967694118
          ],
          [
           "U232",
           17.3,
           3.24,
           346.431,
           80.85322624625073
          ],
          [
           "U233",
           19.5,
           3.26,
           500.609,
           79.33734340823226
          ],
          [
           "U234",
           16.6,
           3.24,
           545.434,
           82.00531606611109
          ],
          [
           "U235",
           17.5,
           3.26,
           424.239,
           80.5381849874714
          ],
          [
           "U236",
           15.1,
           3.24,
           461.76,
           82.25111317475056
          ],
          [
           "U237",
           15.9,
           3.2,
           524.627,
           82.59752075514615
          ],
          [
           "U238",
           17.2,
           3.18,
           526.176,
           81.73932634899181
          ],
          [
           "U239",
           17.1,
           3.16,
           539.79,
           81.56166953259341
          ],
          [
           "U240",
           18.2,
           3.16,
           421.14,
           80.93393148450247
          ],
          [
           "U241",
           16.3,
           3.17,
           472.496,
           81.3222805136083
          ],
          [
           "U242",
           15.7,
           3.12,
           484.228,
           81.38325703073906
          ],
          [
           "U243",
           15.9,
           3.17,
           428.777,
           63.964518910927694
          ],
          [
           "U244",
           17.7,
           3.14,
           511.677,
           80.94603597601596
          ],
          [
           "U245",
           15.2,
           3.13,
           436.857,
           83.29667486091347
          ],
          [
           "U246",
           17.2,
           3.19,
           407.748,
           81.28414929186944
          ],
          [
           "U247",
           15.9,
           3.2,
           410.293,
           81.73937360178971
          ],
          [
           "U248",
           16.6,
           3.21,
           353.403,
           82.38555922605002
          ],
          [
           "U249",
           16.2,
           3.2,
           401.771,
           82.0337985332712
          ],
          [
           "U250",
           15.6,
           3.21,
           386.94,
           82.44775739041793
          ]
         ],
         "hovertemplate": "AT=%{y}<br>Wavelength=%{customdata[0]}<br>SST=%{customdata[1]}<br>PH=%{customdata[2]}<br>FIRMEZA (N)=%{customdata[3]}<br>UBU (%)=%{customdata[4]}<extra></extra>",
         "legendgroup": "",
         "marker": {
          "color": "#636efa"
         },
         "name": "",
         "notched": false,
         "offsetgroup": "",
         "orientation": "v",
         "showlegend": false,
         "type": "box",
         "x0": " ",
         "xaxis": "x",
         "y": {
          "bdata": "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",
          "dtype": "f8"
         },
         "y0": " ",
         "yaxis": "y"
        }
       ],
       "layout": {
        "boxmode": "group",
        "legend": {
         "tracegroupgap": 0
        },
        "template": {
         "data": {
          "bar": [
           {
            "error_x": {
             "color": "#2a3f5f"
            },
            "error_y": {
             "color": "#2a3f5f"
            },
            "marker": {
             "line": {
              "color": "#E5ECF6",
              "width": 0.5
             },
             "pattern": {
              "fillmode": "overlay",
              "size": 10,
              "solidity": 0.2
             }
            },
            "type": "bar"
           }
          ],
          "barpolar": [
           {
            "marker": {
             "line": {
              "color": "#E5ECF6",
              "width": 0.5
             },
             "pattern": {
              "fillmode": "overlay",
              "size": 10,
              "solidity": 0.2
             }
            },
            "type": "barpolar"
           }
          ],
          "carpet": [
           {
            "aaxis": {
             "endlinecolor": "#2a3f5f",
             "gridcolor": "white",
             "linecolor": "white",
             "minorgridcolor": "white",
             "startlinecolor": "#2a3f5f"
            },
            "baxis": {
             "endlinecolor": "#2a3f5f",
             "gridcolor": "white",
             "linecolor": "white",
             "minorgridcolor": "white",
             "startlinecolor": "#2a3f5f"
            },
            "type": "carpet"
           }
          ],
          "choropleth": [
           {
            "colorbar": {
             "outlinewidth": 0,
             "ticks": ""
            },
            "type": "choropleth"
           }
          ],
          "contour": [
           {
            "colorbar": {
             "outlinewidth": 0,
             "ticks": ""
            },
            "colorscale": [
             [
              0,
              "#0d0887"
             ],
             [
              0.1111111111111111,
              "#46039f"
             ],
             [
              0.2222222222222222,
              "#7201a8"
             ],
             [
              0.3333333333333333,
              "#9c179e"
             ],
             [
              0.4444444444444444,
              "#bd3786"
             ],
             [
              0.5555555555555556,
              "#d8576b"
             ],
             [
              0.6666666666666666,
              "#ed7953"
             ],
             [
              0.7777777777777778,
              "#fb9f3a"
             ],
             [
              0.8888888888888888,
              "#fdca26"
             ],
             [
              1,
              "#f0f921"
             ]
            ],
            "type": "contour"
           }
          ],
          "contourcarpet": [
           {
            "colorbar": {
             "outlinewidth": 0,
             "ticks": ""
            },
            "type": "contourcarpet"
           }
          ],
          "heatmap": [
           {
            "colorbar": {
             "outlinewidth": 0,
             "ticks": ""
            },
            "colorscale": [
             [
              0,
              "#0d0887"
             ],
             [
              0.1111111111111111,
              "#46039f"
             ],
             [
              0.2222222222222222,
              "#7201a8"
             ],
             [
              0.3333333333333333,
              "#9c179e"
             ],
             [
              0.4444444444444444,
              "#bd3786"
             ],
             [
              0.5555555555555556,
              "#d8576b"
             ],
             [
              0.6666666666666666,
              "#ed7953"
             ],
             [
              0.7777777777777778,
              "#fb9f3a"
             ],
             [
              0.8888888888888888,
              "#fdca26"
             ],
             [
              1,
              "#f0f921"
             ]
            ],
            "type": "heatmap"
           }
          ],
          "histogram": [
           {
            "marker": {
             "pattern": {
              "fillmode": "overlay",
              "size": 10,
              "solidity": 0.2
             }
            },
            "type": "histogram"
           }
          ],
          "histogram2d": [
           {
            "colorbar": {
             "outlinewidth": 0,
             "ticks": ""
            },
            "colorscale": [
             [
              0,
              "#0d0887"
             ],
             [
              0.1111111111111111,
              "#46039f"
             ],
             [
              0.2222222222222222,
              "#7201a8"
             ],
             [
              0.3333333333333333,
              "#9c179e"
             ],
             [
              0.4444444444444444,
              "#bd3786"
             ],
             [
              0.5555555555555556,
              "#d8576b"
             ],
             [
              0.6666666666666666,
              "#ed7953"
             ],
             [
              0.7777777777777778,
              "#fb9f3a"
             ],
             [
              0.8888888888888888,
              "#fdca26"
             ],
             [
              1,
              "#f0f921"
             ]
            ],
            "type": "histogram2d"
           }
          ],
          "histogram2dcontour": [
           {
            "colorbar": {
             "outlinewidth": 0,
             "ticks": ""
            },
            "colorscale": [
             [
              0,
              "#0d0887"
             ],
             [
              0.1111111111111111,
              "#46039f"
             ],
             [
              0.2222222222222222,
              "#7201a8"
             ],
             [
              0.3333333333333333,
              "#9c179e"
             ],
             [
              0.4444444444444444,
              "#bd3786"
             ],
             [
              0.5555555555555556,
              "#d8576b"
             ],
             [
              0.6666666666666666,
              "#ed7953"
             ],
             [
              0.7777777777777778,
              "#fb9f3a"
             ],
             [
              0.8888888888888888,
              "#fdca26"
             ],
             [
              1,
              "#f0f921"
             ]
            ],
            "type": "histogram2dcontour"
           }
          ],
          "mesh3d": [
           {
            "colorbar": {
             "outlinewidth": 0,
             "ticks": ""
            },
            "type": "mesh3d"
           }
          ],
          "parcoords": [
           {
            "line": {
             "colorbar": {
              "outlinewidth": 0,
              "ticks": ""
             }
            },
            "type": "parcoords"
           }
          ],
          "pie": [
           {
            "automargin": true,
            "type": "pie"
           }
          ],
          "scatter": [
           {
            "fillpattern": {
             "fillmode": "overlay",
             "size": 10,
             "solidity": 0.2
            },
            "type": "scatter"
           }
          ],
          "scatter3d": [
           {
            "line": {
             "colorbar": {
              "outlinewidth": 0,
              "ticks": ""
             }
            },
            "marker": {
             "colorbar": {
              "outlinewidth": 0,
              "ticks": ""
             }
            },
            "type": "scatter3d"
           }
          ],
          "scattercarpet": [
           {
            "marker": {
             "colorbar": {
              "outlinewidth": 0,
              "ticks": ""
             }
            },
            "type": "scattercarpet"
           }
          ],
          "scattergeo": [
           {
            "marker": {
             "colorbar": {
              "outlinewidth": 0,
              "ticks": ""
             }
            },
            "type": "scattergeo"
           }
          ],
          "scattergl": [
           {
            "marker": {
             "colorbar": {
              "outlinewidth": 0,
              "ticks": ""
             }
            },
            "type": "scattergl"
           }
          ],
          "scattermap": [
           {
            "marker": {
             "colorbar": {
              "outlinewidth": 0,
              "ticks": ""
             }
            },
            "type": "scattermap"
           }
          ],
          "scattermapbox": [
           {
            "marker": {
             "colorbar": {
              "outlinewidth": 0,
              "ticks": ""
             }
            },
            "type": "scattermapbox"
           }
          ],
          "scatterpolar": [
           {
            "marker": {
             "colorbar": {
              "outlinewidth": 0,
              "ticks": ""
             }
            },
            "type": "scatterpolar"
           }
          ],
          "scatterpolargl": [
           {
            "marker": {
             "colorbar": {
              "outlinewidth": 0,
              "ticks": ""
             }
            },
            "type": "scatterpolargl"
           }
          ],
          "scatterternary": [
           {
            "marker": {
             "colorbar": {
              "outlinewidth": 0,
              "ticks": ""
             }
            },
            "type": "scatterternary"
           }
          ],
          "surface": [
           {
            "colorbar": {
             "outlinewidth": 0,
             "ticks": ""
            },
            "colorscale": [
             [
              0,
              "#0d0887"
             ],
             [
              0.1111111111111111,
              "#46039f"
             ],
             [
              0.2222222222222222,
              "#7201a8"
             ],
             [
              0.3333333333333333,
              "#9c179e"
             ],
             [
              0.4444444444444444,
              "#bd3786"
             ],
             [
              0.5555555555555556,
              "#d8576b"
             ],
             [
              0.6666666666666666,
              "#ed7953"
             ],
             [
              0.7777777777777778,
              "#fb9f3a"
             ],
             [
              0.8888888888888888,
              "#fdca26"
             ],
             [
              1,
              "#f0f921"
             ]
            ],
            "type": "surface"
           }
          ],
          "table": [
           {
            "cells": {
             "fill": {
              "color": "#EBF0F8"
             },
             "line": {
              "color": "white"
             }
            },
            "header": {
             "fill": {
              "color": "#C8D4E3"
             },
             "line": {
              "color": "white"
             }
            },
            "type": "table"
           }
          ]
         },
         "layout": {
          "annotationdefaults": {
           "arrowcolor": "#2a3f5f",
           "arrowhead": 0,
           "arrowwidth": 1
          },
          "autotypenumbers": "strict",
          "coloraxis": {
           "colorbar": {
            "outlinewidth": 0,
            "ticks": ""
           }
          },
          "colorscale": {
           "diverging": [
            [
             0,
             "#8e0152"
            ],
            [
             0.1,
             "#c51b7d"
            ],
            [
             0.2,
             "#de77ae"
            ],
            [
             0.3,
             "#f1b6da"
            ],
            [
             0.4,
             "#fde0ef"
            ],
            [
             0.5,
             "#f7f7f7"
            ],
            [
             0.6,
             "#e6f5d0"
            ],
            [
             0.7,
             "#b8e186"
            ],
            [
             0.8,
             "#7fbc41"
            ],
            [
             0.9,
             "#4d9221"
            ],
            [
             1,
             "#276419"
            ]
           ],
           "sequential": [
            [
             0,
             "#0d0887"
            ],
            [
             0.1111111111111111,
             "#46039f"
            ],
            [
             0.2222222222222222,
             "#7201a8"
            ],
            [
             0.3333333333333333,
             "#9c179e"
            ],
            [
             0.4444444444444444,
             "#bd3786"
            ],
            [
             0.5555555555555556,
             "#d8576b"
            ],
            [
             0.6666666666666666,
             "#ed7953"
            ],
            [
             0.7777777777777778,
             "#fb9f3a"
            ],
            [
             0.8888888888888888,
             "#fdca26"
            ],
            [
             1,
             "#f0f921"
            ]
           ],
           "sequentialminus": [
            [
             0,
             "#0d0887"
            ],
            [
             0.1111111111111111,
             "#46039f"
            ],
            [
             0.2222222222222222,
             "#7201a8"
            ],
            [
             0.3333333333333333,
             "#9c179e"
            ],
            [
             0.4444444444444444,
             "#bd3786"
            ],
            [
             0.5555555555555556,
             "#d8576b"
            ],
            [
             0.6666666666666666,
             "#ed7953"
            ],
            [
             0.7777777777777778,
             "#fb9f3a"
            ],
            [
             0.8888888888888888,
             "#fdca26"
            ],
            [
             1,
             "#f0f921"
            ]
           ]
          },
          "colorway": [
           "#636efa",
           "#EF553B",
           "#00cc96",
           "#ab63fa",
           "#FFA15A",
           "#19d3f3",
           "#FF6692",
           "#B6E880",
           "#FF97FF",
           "#FECB52"
          ],
          "font": {
           "color": "#2a3f5f"
          },
          "geo": {
           "bgcolor": "white",
           "lakecolor": "white",
           "landcolor": "#E5ECF6",
           "showlakes": true,
           "showland": true,
           "subunitcolor": "white"
          },
          "hoverlabel": {
           "align": "left"
          },
          "hovermode": "closest",
          "mapbox": {
           "style": "light"
          },
          "paper_bgcolor": "white",
          "plot_bgcolor": "#E5ECF6",
          "polar": {
           "angularaxis": {
            "gridcolor": "white",
            "linecolor": "white",
            "ticks": ""
           },
           "bgcolor": "#E5ECF6",
           "radialaxis": {
            "gridcolor": "white",
            "linecolor": "white",
            "ticks": ""
           }
          },
          "scene": {
           "xaxis": {
            "backgroundcolor": "#E5ECF6",
            "gridcolor": "white",
            "gridwidth": 2,
            "linecolor": "white",
            "showbackground": true,
            "ticks": "",
            "zerolinecolor": "white"
           },
           "yaxis": {
            "backgroundcolor": "#E5ECF6",
            "gridcolor": "white",
            "gridwidth": 2,
            "linecolor": "white",
            "showbackground": true,
            "ticks": "",
            "zerolinecolor": "white"
           },
           "zaxis": {
            "backgroundcolor": "#E5ECF6",
            "gridcolor": "white",
            "gridwidth": 2,
            "linecolor": "white",
            "showbackground": true,
            "ticks": "",
            "zerolinecolor": "white"
           }
          },
          "shapedefaults": {
           "line": {
            "color": "#2a3f5f"
           }
          },
          "ternary": {
           "aaxis": {
            "gridcolor": "white",
            "linecolor": "white",
            "ticks": ""
           },
           "baxis": {
            "gridcolor": "white",
            "linecolor": "white",
            "ticks": ""
           },
           "bgcolor": "#E5ECF6",
           "caxis": {
            "gridcolor": "white",
            "linecolor": "white",
            "ticks": ""
           }
          },
          "title": {
           "x": 0.05
          },
          "xaxis": {
           "automargin": true,
           "gridcolor": "white",
           "linecolor": "white",
           "ticks": "",
           "title": {
            "standoff": 15
           },
           "zerolinecolor": "white",
           "zerolinewidth": 2
          },
          "yaxis": {
           "automargin": true,
           "gridcolor": "white",
           "linecolor": "white",
           "ticks": "",
           "title": {
            "standoff": 15
           },
           "zerolinecolor": "white",
           "zerolinewidth": 2
          }
         }
        },
        "title": {
         "text": "Box Plot do Atributo: AT"
        },
        "xaxis": {
         "anchor": "y",
         "domain": [
          0,
          1
         ]
        },
        "yaxis": {
         "anchor": "x",
         "domain": [
          0,
          1
         ],
         "title": {
          "text": "AT"
         }
        }
       }
      }
     },
     "metadata": {},
     "output_type": "display_data"
    },
    {
     "name": "stdout",
     "output_type": "stream",
     "text": [
      "Outliers encontrados para 'AT': 9 amostra(s).\n",
      "\n",
      "Total de 11 amostra(s) únicas identificadas como outliers em pelo menos um atributo.\n",
      "Arquivo com outliers de Y salvo em: C:\\Users\\luyza\\Documents\\ML-spectroscopy-analysis\\Data\\dataset_cotton_fruit_Y_outliers.xlsx\n",
      "Arquivo com dados limpos (sem outliers de Y) salvo em: C:\\Users\\luyza\\Documents\\ML-spectroscopy-analysis\\Data\\dataset_cotton_fruit_Y_clean.xlsx\n",
      "\n"
     ]
    }
   ],
   "source": [
    "# --- CONFIGURAÇÃO ---\n",
    "# Caminho base: aponta para a pasta do projeto\n",
    "base_dir = Path().resolve().parent\n",
    "\n",
    "# Define os diretórios de interesse\n",
    "dataset_origin_dir = base_dir / \"Data\" / \"Original\"\n",
    "\n",
    "# Diretório para salvar os dados limpos e os outliers do Y\n",
    "dataset_save_dir = base_dir / \"Data\"\n",
    "\n",
    "# Lista de variáveis alvo\n",
    "target_variables = [\"SST\", \"PH\", \"UBS (%)\", \"FIRMEZA (N)\", \"AT\"]\n",
    "\n",
    "# Verifica se o diretório de origem existe\n",
    "if not dataset_origin_dir.exists():\n",
    "    raise FileNotFoundError(f\"Pasta de origem não encontrada: {dataset_origin_dir}\")\n",
    "\n",
    "# --- LOOP PRINCIPAL ---\n",
    "# Iterar sobre os arquivos na pasta de origem\n",
    "for filename in os.listdir(dataset_origin_dir):\n",
    "    if filename.endswith(\".xlsx\") and not filename.startswith('~'):\n",
    "        print(f\"--- Analisando arquivo: {filename} ---\")\n",
    "        dataset_path = dataset_origin_dir / filename\n",
    "        df_original = pd.read_excel(dataset_path)\n",
    "\n",
    "        # Guarda o nome base do arquivo\n",
    "        base_name = os.path.splitext(filename)[0]\n",
    "        \n",
    "        # DataFrame para guardar todos os outliers encontrados\n",
    "        all_outlier_indices = set()\n",
    "\n",
    "        # 1. LOOP PARA IDENTIFICAR OUTLIERS EM CADA ATRIBUTO\n",
    "        for attribute in target_variables:\n",
    "            if attribute not in df_original.columns:\n",
    "                print(f\"Aviso: A coluna '{attribute}' não foi encontrada no arquivo {filename}. Pulando.\")\n",
    "                continue\n",
    "\n",
    "            # --- Visualização com Box Plot Interativo ---\n",
    "            fig = px.box(\n",
    "                df_original, \n",
    "                y=attribute, \n",
    "                points=\"all\", # Mostra todos os pontos\n",
    "                hover_data=df_original.columns[:6], # Mostra os identificadores no hover\n",
    "                title=f\"Box Plot do Atributo: {attribute}\"\n",
    "            )\n",
    "            fig.show()\n",
    "\n",
    "            # --- Identificação Numérica via IQR ---\n",
    "            Q1 = df_original[attribute].quantile(0.25)\n",
    "            Q3 = df_original[attribute].quantile(0.75)\n",
    "            IQR = Q3 - Q1\n",
    "\n",
    "            # Define os limites para ser um outlier\n",
    "            limite_inferior = Q1 - 1.5 * IQR\n",
    "            limite_superior = Q3 + 1.5 * IQR\n",
    "\n",
    "            # Encontra os outliers\n",
    "            outliers_mask = (df_original[attribute] < limite_inferior) | (df_original[attribute] > limite_superior)\n",
    "            outlier_indices = df_original[outliers_mask].index\n",
    "\n",
    "            if not outlier_indices.empty:\n",
    "                print(f\"Outliers encontrados para '{attribute}': {len(outlier_indices)} amostra(s).\")\n",
    "                # Adiciona os índices encontrados ao nosso conjunto geral\n",
    "                all_outlier_indices.update(outlier_indices)\n",
    "            else:\n",
    "                print(f\"Nenhum outlier encontrado para '{attribute}'.\")\n",
    "\n",
    "        # 2. SEPARAR E SALVAR OS ARQUIVOS\n",
    "        if all_outlier_indices:\n",
    "            print(f\"\\nTotal de {len(all_outlier_indices)} amostra(s) únicas identificadas como outliers em pelo menos um atributo.\")\n",
    "            \n",
    "            # Converte o conjunto de índices para uma lista para poder usar no .iloc\n",
    "            outlier_indices_list = sorted(list(all_outlier_indices))\n",
    "\n",
    "            # DataFrame contendo APENAS as linhas que são outliers em Y\n",
    "            df_outliers_y = df_original.iloc[outlier_indices_list]\n",
    "            \n",
    "            # DataFrame contendo os dados LIMPOS (sem os outliers de Y)\n",
    "            df_clean_y = df_original.drop(index=outlier_indices_list)\n",
    "\n",
    "            # Salvar o arquivo com os outliers para documentação\n",
    "            outlier_path = dataset_save_dir / f\"{base_name}_Y_outliers.xlsx\"\n",
    "            df_outliers_y.to_excel(outlier_path, index=False)\n",
    "            print(f\"Arquivo com outliers de Y salvo em: {outlier_path}\")\n",
    "\n",
    "        else:\n",
    "            print(\"\\nNenhum outlier encontrado em nenhum atributo. O arquivo de dados limpos é igual ao original.\")\n",
    "            df_clean_y = df_original.copy() # Se não há outliers, o df limpo é uma cópia do original\n",
    "\n",
    "        # Salvar o arquivo de dados limpos, que será usado na próxima etapa (PCA)\n",
    "        clean_path = dataset_save_dir / f\"{base_name}_Y_clean.xlsx\"\n",
    "        df_clean_y.to_excel(clean_path, index=False)\n",
    "        print(f\"Arquivo com dados limpos (sem outliers de Y) salvo em: {clean_path}\\n\")"
   ]
  },
  {
   "cell_type": "markdown",
   "metadata": {},
   "source": [
    "# Main"
   ]
  },
  {
   "cell_type": "code",
   "execution_count": null,
   "metadata": {},
   "outputs": [
    {
     "name": "stdout",
     "output_type": "stream",
     "text": [
      "\n",
      "=======================================================\n",
      "PROCESSANDO PASTA DE FILTRO: continuum_removal\n",
      "=======================================================\n",
      "\n",
      "--- Processando arquivo: continuum_removal.xlsx ---\n",
      "Nenhuma variável alvo específica encontrada. Processando como filtro independente.\n",
      "Resultados serão salvos em: C:\\Users\\luyza\\Documents\\ML-spectroscopy-analysis\\PCA_Results\\continuum_removal\\continuum_removal\n",
      "Removendo amostras com base no arquivo: dataset_cotton_fruit_Y_outliers.xlsx.\n",
      "0 amostra(s) removida(s). DataFrame agora com 239 amostras.\n",
      "Número de outliers de PCA (T²/Q) identificados: 9\n",
      "Arquivo com 9 outliers de PCA salvo em: C:\\Users\\luyza\\Documents\\ML-spectroscopy-analysis\\PCA_Results\\continuum_removal\\continuum_removal\\Outliers_Identificados\\continuum_removal_PCA_outliers.xlsx\n",
      "\n",
      "Iniciando Kennard-Stone no conjunto de dados limpo de 230 amostras...\n",
      "Número de amostras na calibração (limpa): 161\n",
      "Número de amostras na validação (limpa): 69\n",
      "Arquivo continuum_removal.xlsx processado com sucesso.\n",
      "\n",
      "\n",
      "=======================================================\n",
      "PROCESSANDO PASTA DE FILTRO: emsc\n",
      "=======================================================\n",
      "\n",
      "--- Processando arquivo: emsc.xlsx ---\n",
      "Nenhuma variável alvo específica encontrada. Processando como filtro independente.\n",
      "Resultados serão salvos em: C:\\Users\\luyza\\Documents\\ML-spectroscopy-analysis\\PCA_Results\\emsc\\emsc\n",
      "Removendo amostras com base no arquivo: dataset_cotton_fruit_Y_outliers.xlsx.\n",
      "0 amostra(s) removida(s). DataFrame agora com 239 amostras.\n",
      "Número de outliers de PCA (T²/Q) identificados: 9\n",
      "Arquivo com 9 outliers de PCA salvo em: C:\\Users\\luyza\\Documents\\ML-spectroscopy-analysis\\PCA_Results\\emsc\\emsc\\Outliers_Identificados\\emsc_PCA_outliers.xlsx\n",
      "\n",
      "Iniciando Kennard-Stone no conjunto de dados limpo de 230 amostras...\n",
      "Número de amostras na calibração (limpa): 161\n",
      "Número de amostras na validação (limpa): 69\n",
      "Arquivo emsc.xlsx processado com sucesso.\n",
      "\n",
      "\n",
      "=======================================================\n",
      "PROCESSANDO PASTA DE FILTRO: msc\n",
      "=======================================================\n",
      "\n",
      "--- Processando arquivo: msc.xlsx ---\n",
      "Nenhuma variável alvo específica encontrada. Processando como filtro independente.\n",
      "Resultados serão salvos em: C:\\Users\\luyza\\Documents\\ML-spectroscopy-analysis\\PCA_Results\\msc\\msc\n",
      "Removendo amostras com base no arquivo: dataset_cotton_fruit_Y_outliers.xlsx.\n",
      "0 amostra(s) removida(s). DataFrame agora com 239 amostras.\n",
      "Número de outliers de PCA (T²/Q) identificados: 9\n",
      "Arquivo com 9 outliers de PCA salvo em: C:\\Users\\luyza\\Documents\\ML-spectroscopy-analysis\\PCA_Results\\msc\\msc\\Outliers_Identificados\\msc_PCA_outliers.xlsx\n",
      "\n",
      "Iniciando Kennard-Stone no conjunto de dados limpo de 230 amostras...\n",
      "Número de amostras na calibração (limpa): 161\n",
      "Número de amostras na validação (limpa): 69\n",
      "Arquivo msc.xlsx processado com sucesso.\n",
      "\n",
      "\n",
      "=======================================================\n",
      "PROCESSANDO PASTA DE FILTRO: msc_sg_osc\n",
      "=======================================================\n",
      "\n",
      "--- Processando arquivo: msc_sg_osc_AT.xlsx ---\n",
      "Variável alvo identificada: 'AT'\n",
      "Resultados serão salvos em: C:\\Users\\luyza\\Documents\\ML-spectroscopy-analysis\\PCA_Results\\msc_sg_osc\\msc_sg_osc_AT\n",
      "Removendo amostras com base no arquivo: dataset_cotton_fruit_Y_outliers.xlsx.\n",
      "0 amostra(s) removida(s). DataFrame agora com 239 amostras.\n",
      "Número de outliers de PCA (T²/Q) identificados: 5\n",
      "Arquivo com 5 outliers de PCA salvo em: C:\\Users\\luyza\\Documents\\ML-spectroscopy-analysis\\PCA_Results\\msc_sg_osc\\msc_sg_osc_AT\\Outliers_Identificados\\msc_sg_osc_AT_PCA_outliers.xlsx\n",
      "\n",
      "Iniciando Kennard-Stone no conjunto de dados limpo de 234 amostras...\n",
      "Número de amostras na calibração (limpa): 163\n",
      "Número de amostras na validação (limpa): 71\n",
      "Arquivo msc_sg_osc_AT.xlsx processado com sucesso.\n",
      "\n",
      "\n",
      "--- Processando arquivo: msc_sg_osc_FIRMEZA.xlsx ---\n",
      "Variável alvo identificada: 'FIRMEZA (N)'\n",
      "Resultados serão salvos em: C:\\Users\\luyza\\Documents\\ML-spectroscopy-analysis\\PCA_Results\\msc_sg_osc\\msc_sg_osc_FIRMEZA\n",
      "Removendo amostras com base no arquivo: dataset_cotton_fruit_Y_outliers.xlsx.\n",
      "0 amostra(s) removida(s). DataFrame agora com 239 amostras.\n",
      "Número de outliers de PCA (T²/Q) identificados: 9\n",
      "Arquivo com 9 outliers de PCA salvo em: C:\\Users\\luyza\\Documents\\ML-spectroscopy-analysis\\PCA_Results\\msc_sg_osc\\msc_sg_osc_FIRMEZA\\Outliers_Identificados\\msc_sg_osc_FIRMEZA_PCA_outliers.xlsx\n",
      "\n",
      "Iniciando Kennard-Stone no conjunto de dados limpo de 230 amostras...\n",
      "Número de amostras na calibração (limpa): 161\n",
      "Número de amostras na validação (limpa): 69\n",
      "Arquivo msc_sg_osc_FIRMEZA.xlsx processado com sucesso.\n",
      "\n",
      "\n",
      "--- Processando arquivo: msc_sg_osc_PH.xlsx ---\n",
      "Variável alvo identificada: 'PH'\n",
      "Resultados serão salvos em: C:\\Users\\luyza\\Documents\\ML-spectroscopy-analysis\\PCA_Results\\msc_sg_osc\\msc_sg_osc_PH\n",
      "Removendo amostras com base no arquivo: dataset_cotton_fruit_Y_outliers.xlsx.\n",
      "0 amostra(s) removida(s). DataFrame agora com 239 amostras.\n",
      "Número de outliers de PCA (T²/Q) identificados: 5\n",
      "Arquivo com 5 outliers de PCA salvo em: C:\\Users\\luyza\\Documents\\ML-spectroscopy-analysis\\PCA_Results\\msc_sg_osc\\msc_sg_osc_PH\\Outliers_Identificados\\msc_sg_osc_PH_PCA_outliers.xlsx\n",
      "\n",
      "Iniciando Kennard-Stone no conjunto de dados limpo de 234 amostras...\n",
      "Número de amostras na calibração (limpa): 163\n",
      "Número de amostras na validação (limpa): 71\n",
      "Arquivo msc_sg_osc_PH.xlsx processado com sucesso.\n",
      "\n",
      "\n",
      "--- Processando arquivo: msc_sg_osc_SST.xlsx ---\n",
      "Variável alvo identificada: 'SST'\n",
      "Resultados serão salvos em: C:\\Users\\luyza\\Documents\\ML-spectroscopy-analysis\\PCA_Results\\msc_sg_osc\\msc_sg_osc_SST\n",
      "Removendo amostras com base no arquivo: dataset_cotton_fruit_Y_outliers.xlsx.\n",
      "0 amostra(s) removida(s). DataFrame agora com 239 amostras.\n",
      "Número de outliers de PCA (T²/Q) identificados: 7\n",
      "Arquivo com 7 outliers de PCA salvo em: C:\\Users\\luyza\\Documents\\ML-spectroscopy-analysis\\PCA_Results\\msc_sg_osc\\msc_sg_osc_SST\\Outliers_Identificados\\msc_sg_osc_SST_PCA_outliers.xlsx\n",
      "\n",
      "Iniciando Kennard-Stone no conjunto de dados limpo de 232 amostras...\n",
      "Número de amostras na calibração (limpa): 162\n",
      "Número de amostras na validação (limpa): 70\n",
      "Arquivo msc_sg_osc_SST.xlsx processado com sucesso.\n",
      "\n",
      "\n",
      "--- Processando arquivo: msc_sg_osc_UBS.xlsx ---\n",
      "Variável alvo identificada: 'UBS (%)'\n",
      "Resultados serão salvos em: C:\\Users\\luyza\\Documents\\ML-spectroscopy-analysis\\PCA_Results\\msc_sg_osc\\msc_sg_osc_UBS\n",
      "Removendo amostras com base no arquivo: dataset_cotton_fruit_Y_outliers.xlsx.\n",
      "0 amostra(s) removida(s). DataFrame agora com 239 amostras.\n",
      "Número de outliers de PCA (T²/Q) identificados: 6\n",
      "Arquivo com 6 outliers de PCA salvo em: C:\\Users\\luyza\\Documents\\ML-spectroscopy-analysis\\PCA_Results\\msc_sg_osc\\msc_sg_osc_UBS\\Outliers_Identificados\\msc_sg_osc_UBS_PCA_outliers.xlsx\n",
      "\n",
      "Iniciando Kennard-Stone no conjunto de dados limpo de 233 amostras...\n",
      "Número de amostras na calibração (limpa): 163\n",
      "Número de amostras na validação (limpa): 70\n",
      "Arquivo msc_sg_osc_UBS.xlsx processado com sucesso.\n",
      "\n",
      "\n",
      "=======================================================\n",
      "PROCESSANDO PASTA DE FILTRO: opls1_snv_sg_d1\n",
      "=======================================================\n",
      "\n",
      "--- Processando arquivo: opls1_snv_sg_d1_AT.xlsx ---\n",
      "Variável alvo identificada: 'AT'\n",
      "Resultados serão salvos em: C:\\Users\\luyza\\Documents\\ML-spectroscopy-analysis\\PCA_Results\\opls1_snv_sg_d1\\opls1_snv_sg_d1_AT\n",
      "Removendo amostras com base no arquivo: dataset_cotton_fruit_Y_outliers.xlsx.\n",
      "0 amostra(s) removida(s). DataFrame agora com 239 amostras.\n",
      "Número de outliers de PCA (T²/Q) identificados: 5\n",
      "Arquivo com 5 outliers de PCA salvo em: C:\\Users\\luyza\\Documents\\ML-spectroscopy-analysis\\PCA_Results\\opls1_snv_sg_d1\\opls1_snv_sg_d1_AT\\Outliers_Identificados\\opls1_snv_sg_d1_AT_PCA_outliers.xlsx\n",
      "\n",
      "Iniciando Kennard-Stone no conjunto de dados limpo de 234 amostras...\n",
      "Número de amostras na calibração (limpa): 163\n",
      "Número de amostras na validação (limpa): 71\n",
      "Arquivo opls1_snv_sg_d1_AT.xlsx processado com sucesso.\n",
      "\n",
      "\n",
      "--- Processando arquivo: opls1_snv_sg_d1_FIRMEZA.xlsx ---\n",
      "Variável alvo identificada: 'FIRMEZA (N)'\n",
      "Resultados serão salvos em: C:\\Users\\luyza\\Documents\\ML-spectroscopy-analysis\\PCA_Results\\opls1_snv_sg_d1\\opls1_snv_sg_d1_FIRMEZA\n",
      "Removendo amostras com base no arquivo: dataset_cotton_fruit_Y_outliers.xlsx.\n",
      "0 amostra(s) removida(s). DataFrame agora com 239 amostras.\n",
      "Número de outliers de PCA (T²/Q) identificados: 6\n",
      "Arquivo com 6 outliers de PCA salvo em: C:\\Users\\luyza\\Documents\\ML-spectroscopy-analysis\\PCA_Results\\opls1_snv_sg_d1\\opls1_snv_sg_d1_FIRMEZA\\Outliers_Identificados\\opls1_snv_sg_d1_FIRMEZA_PCA_outliers.xlsx\n",
      "\n",
      "Iniciando Kennard-Stone no conjunto de dados limpo de 233 amostras...\n",
      "Número de amostras na calibração (limpa): 163\n",
      "Número de amostras na validação (limpa): 70\n",
      "Arquivo opls1_snv_sg_d1_FIRMEZA.xlsx processado com sucesso.\n",
      "\n",
      "\n",
      "--- Processando arquivo: opls1_snv_sg_d1_PH.xlsx ---\n",
      "Variável alvo identificada: 'PH'\n",
      "Resultados serão salvos em: C:\\Users\\luyza\\Documents\\ML-spectroscopy-analysis\\PCA_Results\\opls1_snv_sg_d1\\opls1_snv_sg_d1_PH\n",
      "Removendo amostras com base no arquivo: dataset_cotton_fruit_Y_outliers.xlsx.\n",
      "0 amostra(s) removida(s). DataFrame agora com 239 amostras.\n",
      "Número de outliers de PCA (T²/Q) identificados: 5\n",
      "Arquivo com 5 outliers de PCA salvo em: C:\\Users\\luyza\\Documents\\ML-spectroscopy-analysis\\PCA_Results\\opls1_snv_sg_d1\\opls1_snv_sg_d1_PH\\Outliers_Identificados\\opls1_snv_sg_d1_PH_PCA_outliers.xlsx\n",
      "\n",
      "Iniciando Kennard-Stone no conjunto de dados limpo de 234 amostras...\n",
      "Número de amostras na calibração (limpa): 163\n",
      "Número de amostras na validação (limpa): 71\n",
      "Arquivo opls1_snv_sg_d1_PH.xlsx processado com sucesso.\n",
      "\n",
      "\n",
      "--- Processando arquivo: opls1_snv_sg_d1_SST.xlsx ---\n",
      "Variável alvo identificada: 'SST'\n",
      "Resultados serão salvos em: C:\\Users\\luyza\\Documents\\ML-spectroscopy-analysis\\PCA_Results\\opls1_snv_sg_d1\\opls1_snv_sg_d1_SST\n",
      "Removendo amostras com base no arquivo: dataset_cotton_fruit_Y_outliers.xlsx.\n",
      "0 amostra(s) removida(s). DataFrame agora com 239 amostras.\n",
      "Número de outliers de PCA (T²/Q) identificados: 6\n",
      "Arquivo com 6 outliers de PCA salvo em: C:\\Users\\luyza\\Documents\\ML-spectroscopy-analysis\\PCA_Results\\opls1_snv_sg_d1\\opls1_snv_sg_d1_SST\\Outliers_Identificados\\opls1_snv_sg_d1_SST_PCA_outliers.xlsx\n",
      "\n",
      "Iniciando Kennard-Stone no conjunto de dados limpo de 233 amostras...\n",
      "Número de amostras na calibração (limpa): 163\n",
      "Número de amostras na validação (limpa): 70\n",
      "Arquivo opls1_snv_sg_d1_SST.xlsx processado com sucesso.\n",
      "\n",
      "\n",
      "--- Processando arquivo: opls1_snv_sg_d1_UBS.xlsx ---\n",
      "Variável alvo identificada: 'UBS (%)'\n",
      "Resultados serão salvos em: C:\\Users\\luyza\\Documents\\ML-spectroscopy-analysis\\PCA_Results\\opls1_snv_sg_d1\\opls1_snv_sg_d1_UBS\n",
      "Removendo amostras com base no arquivo: dataset_cotton_fruit_Y_outliers.xlsx.\n",
      "0 amostra(s) removida(s). DataFrame agora com 239 amostras.\n",
      "Número de outliers de PCA (T²/Q) identificados: 6\n",
      "Arquivo com 6 outliers de PCA salvo em: C:\\Users\\luyza\\Documents\\ML-spectroscopy-analysis\\PCA_Results\\opls1_snv_sg_d1\\opls1_snv_sg_d1_UBS\\Outliers_Identificados\\opls1_snv_sg_d1_UBS_PCA_outliers.xlsx\n",
      "\n",
      "Iniciando Kennard-Stone no conjunto de dados limpo de 233 amostras...\n",
      "Número de amostras na calibração (limpa): 163\n",
      "Número de amostras na validação (limpa): 70\n",
      "Arquivo opls1_snv_sg_d1_UBS.xlsx processado com sucesso.\n",
      "\n",
      "\n",
      "=======================================================\n",
      "PROCESSANDO PASTA DE FILTRO: opls2_snv_sg_d1\n",
      "=======================================================\n",
      "\n",
      "--- Processando arquivo: opls2_snv_sg_d1_AT.xlsx ---\n",
      "Variável alvo identificada: 'AT'\n",
      "Resultados serão salvos em: C:\\Users\\luyza\\Documents\\ML-spectroscopy-analysis\\PCA_Results\\opls2_snv_sg_d1\\opls2_snv_sg_d1_AT\n",
      "Removendo amostras com base no arquivo: dataset_cotton_fruit_Y_outliers.xlsx.\n",
      "0 amostra(s) removida(s). DataFrame agora com 239 amostras.\n",
      "Número de outliers de PCA (T²/Q) identificados: 7\n",
      "Arquivo com 7 outliers de PCA salvo em: C:\\Users\\luyza\\Documents\\ML-spectroscopy-analysis\\PCA_Results\\opls2_snv_sg_d1\\opls2_snv_sg_d1_AT\\Outliers_Identificados\\opls2_snv_sg_d1_AT_PCA_outliers.xlsx\n",
      "\n",
      "Iniciando Kennard-Stone no conjunto de dados limpo de 232 amostras...\n",
      "Número de amostras na calibração (limpa): 162\n",
      "Número de amostras na validação (limpa): 70\n",
      "Arquivo opls2_snv_sg_d1_AT.xlsx processado com sucesso.\n",
      "\n",
      "\n",
      "--- Processando arquivo: opls2_snv_sg_d1_FIRMEZA.xlsx ---\n",
      "Variável alvo identificada: 'FIRMEZA (N)'\n",
      "Resultados serão salvos em: C:\\Users\\luyza\\Documents\\ML-spectroscopy-analysis\\PCA_Results\\opls2_snv_sg_d1\\opls2_snv_sg_d1_FIRMEZA\n",
      "Removendo amostras com base no arquivo: dataset_cotton_fruit_Y_outliers.xlsx.\n",
      "0 amostra(s) removida(s). DataFrame agora com 239 amostras.\n",
      "Número de outliers de PCA (T²/Q) identificados: 6\n",
      "Arquivo com 6 outliers de PCA salvo em: C:\\Users\\luyza\\Documents\\ML-spectroscopy-analysis\\PCA_Results\\opls2_snv_sg_d1\\opls2_snv_sg_d1_FIRMEZA\\Outliers_Identificados\\opls2_snv_sg_d1_FIRMEZA_PCA_outliers.xlsx\n",
      "\n",
      "Iniciando Kennard-Stone no conjunto de dados limpo de 233 amostras...\n",
      "Número de amostras na calibração (limpa): 163\n",
      "Número de amostras na validação (limpa): 70\n",
      "Arquivo opls2_snv_sg_d1_FIRMEZA.xlsx processado com sucesso.\n",
      "\n",
      "\n",
      "--- Processando arquivo: opls2_snv_sg_d1_PH.xlsx ---\n",
      "Variável alvo identificada: 'PH'\n",
      "Resultados serão salvos em: C:\\Users\\luyza\\Documents\\ML-spectroscopy-analysis\\PCA_Results\\opls2_snv_sg_d1\\opls2_snv_sg_d1_PH\n",
      "Removendo amostras com base no arquivo: dataset_cotton_fruit_Y_outliers.xlsx.\n",
      "0 amostra(s) removida(s). DataFrame agora com 239 amostras.\n",
      "Número de outliers de PCA (T²/Q) identificados: 7\n",
      "Arquivo com 7 outliers de PCA salvo em: C:\\Users\\luyza\\Documents\\ML-spectroscopy-analysis\\PCA_Results\\opls2_snv_sg_d1\\opls2_snv_sg_d1_PH\\Outliers_Identificados\\opls2_snv_sg_d1_PH_PCA_outliers.xlsx\n",
      "\n",
      "Iniciando Kennard-Stone no conjunto de dados limpo de 232 amostras...\n",
      "Número de amostras na calibração (limpa): 162\n",
      "Número de amostras na validação (limpa): 70\n",
      "Arquivo opls2_snv_sg_d1_PH.xlsx processado com sucesso.\n",
      "\n",
      "\n",
      "--- Processando arquivo: opls2_snv_sg_d1_SST.xlsx ---\n",
      "Variável alvo identificada: 'SST'\n",
      "Resultados serão salvos em: C:\\Users\\luyza\\Documents\\ML-spectroscopy-analysis\\PCA_Results\\opls2_snv_sg_d1\\opls2_snv_sg_d1_SST\n",
      "Removendo amostras com base no arquivo: dataset_cotton_fruit_Y_outliers.xlsx.\n",
      "0 amostra(s) removida(s). DataFrame agora com 239 amostras.\n",
      "Número de outliers de PCA (T²/Q) identificados: 6\n",
      "Arquivo com 6 outliers de PCA salvo em: C:\\Users\\luyza\\Documents\\ML-spectroscopy-analysis\\PCA_Results\\opls2_snv_sg_d1\\opls2_snv_sg_d1_SST\\Outliers_Identificados\\opls2_snv_sg_d1_SST_PCA_outliers.xlsx\n",
      "\n",
      "Iniciando Kennard-Stone no conjunto de dados limpo de 233 amostras...\n",
      "Número de amostras na calibração (limpa): 163\n",
      "Número de amostras na validação (limpa): 70\n",
      "Arquivo opls2_snv_sg_d1_SST.xlsx processado com sucesso.\n",
      "\n",
      "\n",
      "--- Processando arquivo: opls2_snv_sg_d1_UBS.xlsx ---\n",
      "Variável alvo identificada: 'UBS (%)'\n",
      "Resultados serão salvos em: C:\\Users\\luyza\\Documents\\ML-spectroscopy-analysis\\PCA_Results\\opls2_snv_sg_d1\\opls2_snv_sg_d1_UBS\n",
      "Removendo amostras com base no arquivo: dataset_cotton_fruit_Y_outliers.xlsx.\n",
      "0 amostra(s) removida(s). DataFrame agora com 239 amostras.\n",
      "Número de outliers de PCA (T²/Q) identificados: 6\n",
      "Arquivo com 6 outliers de PCA salvo em: C:\\Users\\luyza\\Documents\\ML-spectroscopy-analysis\\PCA_Results\\opls2_snv_sg_d1\\opls2_snv_sg_d1_UBS\\Outliers_Identificados\\opls2_snv_sg_d1_UBS_PCA_outliers.xlsx\n",
      "\n",
      "Iniciando Kennard-Stone no conjunto de dados limpo de 233 amostras...\n",
      "Número de amostras na calibração (limpa): 163\n",
      "Número de amostras na validação (limpa): 70\n",
      "Arquivo opls2_snv_sg_d1_UBS.xlsx processado com sucesso.\n",
      "\n",
      "\n",
      "=======================================================\n",
      "PROCESSANDO PASTA DE FILTRO: osc_pure\n",
      "=======================================================\n",
      "\n",
      "--- Processando arquivo: osc_pure_AT.xlsx ---\n",
      "Variável alvo identificada: 'AT'\n",
      "Resultados serão salvos em: C:\\Users\\luyza\\Documents\\ML-spectroscopy-analysis\\PCA_Results\\osc_pure\\osc_pure_AT\n",
      "Removendo amostras com base no arquivo: dataset_cotton_fruit_Y_outliers.xlsx.\n",
      "0 amostra(s) removida(s). DataFrame agora com 239 amostras.\n",
      "Número de outliers de PCA (T²/Q) identificados: 9\n",
      "Arquivo com 9 outliers de PCA salvo em: C:\\Users\\luyza\\Documents\\ML-spectroscopy-analysis\\PCA_Results\\osc_pure\\osc_pure_AT\\Outliers_Identificados\\osc_pure_AT_PCA_outliers.xlsx\n",
      "\n",
      "Iniciando Kennard-Stone no conjunto de dados limpo de 230 amostras...\n",
      "Número de amostras na calibração (limpa): 161\n",
      "Número de amostras na validação (limpa): 69\n",
      "Arquivo osc_pure_AT.xlsx processado com sucesso.\n",
      "\n",
      "\n",
      "--- Processando arquivo: osc_pure_FIRMEZA.xlsx ---\n",
      "Variável alvo identificada: 'FIRMEZA (N)'\n",
      "Resultados serão salvos em: C:\\Users\\luyza\\Documents\\ML-spectroscopy-analysis\\PCA_Results\\osc_pure\\osc_pure_FIRMEZA\n",
      "Removendo amostras com base no arquivo: dataset_cotton_fruit_Y_outliers.xlsx.\n",
      "0 amostra(s) removida(s). DataFrame agora com 239 amostras.\n",
      "Número de outliers de PCA (T²/Q) identificados: 9\n",
      "Arquivo com 9 outliers de PCA salvo em: C:\\Users\\luyza\\Documents\\ML-spectroscopy-analysis\\PCA_Results\\osc_pure\\osc_pure_FIRMEZA\\Outliers_Identificados\\osc_pure_FIRMEZA_PCA_outliers.xlsx\n",
      "\n",
      "Iniciando Kennard-Stone no conjunto de dados limpo de 230 amostras...\n",
      "Número de amostras na calibração (limpa): 161\n",
      "Número de amostras na validação (limpa): 69\n",
      "Arquivo osc_pure_FIRMEZA.xlsx processado com sucesso.\n",
      "\n",
      "\n",
      "--- Processando arquivo: osc_pure_PH.xlsx ---\n",
      "Variável alvo identificada: 'PH'\n",
      "Resultados serão salvos em: C:\\Users\\luyza\\Documents\\ML-spectroscopy-analysis\\PCA_Results\\osc_pure\\osc_pure_PH\n",
      "Removendo amostras com base no arquivo: dataset_cotton_fruit_Y_outliers.xlsx.\n",
      "0 amostra(s) removida(s). DataFrame agora com 239 amostras.\n",
      "Número de outliers de PCA (T²/Q) identificados: 9\n",
      "Arquivo com 9 outliers de PCA salvo em: C:\\Users\\luyza\\Documents\\ML-spectroscopy-analysis\\PCA_Results\\osc_pure\\osc_pure_PH\\Outliers_Identificados\\osc_pure_PH_PCA_outliers.xlsx\n",
      "\n",
      "Iniciando Kennard-Stone no conjunto de dados limpo de 230 amostras...\n",
      "Número de amostras na calibração (limpa): 161\n",
      "Número de amostras na validação (limpa): 69\n",
      "Arquivo osc_pure_PH.xlsx processado com sucesso.\n",
      "\n",
      "\n",
      "--- Processando arquivo: osc_pure_SST.xlsx ---\n",
      "Variável alvo identificada: 'SST'\n",
      "Resultados serão salvos em: C:\\Users\\luyza\\Documents\\ML-spectroscopy-analysis\\PCA_Results\\osc_pure\\osc_pure_SST\n",
      "Removendo amostras com base no arquivo: dataset_cotton_fruit_Y_outliers.xlsx.\n",
      "0 amostra(s) removida(s). DataFrame agora com 239 amostras.\n",
      "Número de outliers de PCA (T²/Q) identificados: 9\n",
      "Arquivo com 9 outliers de PCA salvo em: C:\\Users\\luyza\\Documents\\ML-spectroscopy-analysis\\PCA_Results\\osc_pure\\osc_pure_SST\\Outliers_Identificados\\osc_pure_SST_PCA_outliers.xlsx\n",
      "\n",
      "Iniciando Kennard-Stone no conjunto de dados limpo de 230 amostras...\n",
      "Número de amostras na calibração (limpa): 161\n",
      "Número de amostras na validação (limpa): 69\n",
      "Arquivo osc_pure_SST.xlsx processado com sucesso.\n",
      "\n",
      "\n",
      "--- Processando arquivo: osc_pure_UBS.xlsx ---\n",
      "Variável alvo identificada: 'UBS (%)'\n",
      "Resultados serão salvos em: C:\\Users\\luyza\\Documents\\ML-spectroscopy-analysis\\PCA_Results\\osc_pure\\osc_pure_UBS\n",
      "Removendo amostras com base no arquivo: dataset_cotton_fruit_Y_outliers.xlsx.\n",
      "0 amostra(s) removida(s). DataFrame agora com 239 amostras.\n",
      "Número de outliers de PCA (T²/Q) identificados: 9\n",
      "Arquivo com 9 outliers de PCA salvo em: C:\\Users\\luyza\\Documents\\ML-spectroscopy-analysis\\PCA_Results\\osc_pure\\osc_pure_UBS\\Outliers_Identificados\\osc_pure_UBS_PCA_outliers.xlsx\n",
      "\n",
      "Iniciando Kennard-Stone no conjunto de dados limpo de 230 amostras...\n",
      "Número de amostras na calibração (limpa): 161\n",
      "Número de amostras na validação (limpa): 69\n",
      "Arquivo osc_pure_UBS.xlsx processado com sucesso.\n",
      "\n",
      "\n",
      "=======================================================\n",
      "PROCESSANDO PASTA DE FILTRO: sg_d1\n",
      "=======================================================\n",
      "\n",
      "--- Processando arquivo: sg_d1.xlsx ---\n",
      "Nenhuma variável alvo específica encontrada. Processando como filtro independente.\n",
      "Resultados serão salvos em: C:\\Users\\luyza\\Documents\\ML-spectroscopy-analysis\\PCA_Results\\sg_d1\\sg_d1\n",
      "Removendo amostras com base no arquivo: dataset_cotton_fruit_Y_outliers.xlsx.\n",
      "0 amostra(s) removida(s). DataFrame agora com 239 amostras.\n"
     ]
    },
    {
     "ename": "KeyboardInterrupt",
     "evalue": "",
     "output_type": "error",
     "traceback": [
      "\u001b[1;31m---------------------------------------------------------------------------\u001b[0m",
      "\u001b[1;31mKeyboardInterrupt\u001b[0m                         Traceback (most recent call last)",
      "Cell \u001b[1;32mIn[19], line 108\u001b[0m\n\u001b[0;32m    105\u001b[0m scaler \u001b[38;5;241m=\u001b[39m StandardScaler()\n\u001b[0;32m    106\u001b[0m data_scaled \u001b[38;5;241m=\u001b[39m scaler\u001b[38;5;241m.\u001b[39mfit_transform(data)\n\u001b[1;32m--> 108\u001b[0m n_components \u001b[38;5;241m=\u001b[39m \u001b[43mjackknife_pca\u001b[49m\u001b[43m(\u001b[49m\u001b[43mdata_scaled\u001b[49m\u001b[43m)\u001b[49m\n\u001b[0;32m    109\u001b[0m pca \u001b[38;5;241m=\u001b[39m PCA(n_components\u001b[38;5;241m=\u001b[39mn_components)\u001b[38;5;241m.\u001b[39mfit(data_scaled)\n\u001b[0;32m    110\u001b[0m data_pca \u001b[38;5;241m=\u001b[39m pca\u001b[38;5;241m.\u001b[39mtransform(data_scaled)\n",
      "Cell \u001b[1;32mIn[10], line 7\u001b[0m, in \u001b[0;36mjackknife_pca\u001b[1;34m(X, threshold)\u001b[0m\n\u001b[0;32m      5\u001b[0m \u001b[38;5;28;01mfor\u001b[39;00m i \u001b[38;5;129;01min\u001b[39;00m \u001b[38;5;28mrange\u001b[39m(n_samples):\n\u001b[0;32m      6\u001b[0m     X_jack \u001b[38;5;241m=\u001b[39m np\u001b[38;5;241m.\u001b[39mdelete(X, i, axis\u001b[38;5;241m=\u001b[39m\u001b[38;5;241m0\u001b[39m)\n\u001b[1;32m----> 7\u001b[0m     pca \u001b[38;5;241m=\u001b[39m \u001b[43mPCA\u001b[49m\u001b[43m(\u001b[49m\u001b[43m)\u001b[49m\u001b[38;5;241;43m.\u001b[39;49m\u001b[43mfit\u001b[49m\u001b[43m(\u001b[49m\u001b[43mX_jack\u001b[49m\u001b[43m)\u001b[49m\n\u001b[0;32m      8\u001b[0m     variances\u001b[38;5;241m.\u001b[39mappend(pca\u001b[38;5;241m.\u001b[39mexplained_variance_ratio_)\n\u001b[0;32m     10\u001b[0m variances \u001b[38;5;241m=\u001b[39m np\u001b[38;5;241m.\u001b[39mmean(variances, axis\u001b[38;5;241m=\u001b[39m\u001b[38;5;241m0\u001b[39m)\n",
      "File \u001b[1;32mc:\\Users\\luyza\\Documents\\ML-spectroscopy-analysis\\.venv\\Lib\\site-packages\\sklearn\\base.py:1389\u001b[0m, in \u001b[0;36m_fit_context.<locals>.decorator.<locals>.wrapper\u001b[1;34m(estimator, *args, **kwargs)\u001b[0m\n\u001b[0;32m   1382\u001b[0m     estimator\u001b[38;5;241m.\u001b[39m_validate_params()\n\u001b[0;32m   1384\u001b[0m \u001b[38;5;28;01mwith\u001b[39;00m config_context(\n\u001b[0;32m   1385\u001b[0m     skip_parameter_validation\u001b[38;5;241m=\u001b[39m(\n\u001b[0;32m   1386\u001b[0m         prefer_skip_nested_validation \u001b[38;5;129;01mor\u001b[39;00m global_skip_validation\n\u001b[0;32m   1387\u001b[0m     )\n\u001b[0;32m   1388\u001b[0m ):\n\u001b[1;32m-> 1389\u001b[0m     \u001b[38;5;28;01mreturn\u001b[39;00m \u001b[43mfit_method\u001b[49m\u001b[43m(\u001b[49m\u001b[43mestimator\u001b[49m\u001b[43m,\u001b[49m\u001b[43m \u001b[49m\u001b[38;5;241;43m*\u001b[39;49m\u001b[43margs\u001b[49m\u001b[43m,\u001b[49m\u001b[43m \u001b[49m\u001b[38;5;241;43m*\u001b[39;49m\u001b[38;5;241;43m*\u001b[39;49m\u001b[43mkwargs\u001b[49m\u001b[43m)\u001b[49m\n",
      "File \u001b[1;32mc:\\Users\\luyza\\Documents\\ML-spectroscopy-analysis\\.venv\\Lib\\site-packages\\sklearn\\decomposition\\_pca.py:442\u001b[0m, in \u001b[0;36mPCA.fit\u001b[1;34m(self, X, y)\u001b[0m\n\u001b[0;32m    424\u001b[0m \u001b[38;5;129m@_fit_context\u001b[39m(prefer_skip_nested_validation\u001b[38;5;241m=\u001b[39m\u001b[38;5;28;01mTrue\u001b[39;00m)\n\u001b[0;32m    425\u001b[0m \u001b[38;5;28;01mdef\u001b[39;00m\u001b[38;5;250m \u001b[39m\u001b[38;5;21mfit\u001b[39m(\u001b[38;5;28mself\u001b[39m, X, y\u001b[38;5;241m=\u001b[39m\u001b[38;5;28;01mNone\u001b[39;00m):\n\u001b[0;32m    426\u001b[0m \u001b[38;5;250m    \u001b[39m\u001b[38;5;124;03m\"\"\"Fit the model with X.\u001b[39;00m\n\u001b[0;32m    427\u001b[0m \n\u001b[0;32m    428\u001b[0m \u001b[38;5;124;03m    Parameters\u001b[39;00m\n\u001b[1;32m   (...)\u001b[0m\n\u001b[0;32m    440\u001b[0m \u001b[38;5;124;03m        Returns the instance itself.\u001b[39;00m\n\u001b[0;32m    441\u001b[0m \u001b[38;5;124;03m    \"\"\"\u001b[39;00m\n\u001b[1;32m--> 442\u001b[0m     \u001b[38;5;28;43mself\u001b[39;49m\u001b[38;5;241;43m.\u001b[39;49m\u001b[43m_fit\u001b[49m\u001b[43m(\u001b[49m\u001b[43mX\u001b[49m\u001b[43m)\u001b[49m\n\u001b[0;32m    443\u001b[0m     \u001b[38;5;28;01mreturn\u001b[39;00m \u001b[38;5;28mself\u001b[39m\n",
      "File \u001b[1;32mc:\\Users\\luyza\\Documents\\ML-spectroscopy-analysis\\.venv\\Lib\\site-packages\\sklearn\\decomposition\\_pca.py:542\u001b[0m, in \u001b[0;36mPCA._fit\u001b[1;34m(self, X)\u001b[0m\n\u001b[0;32m    540\u001b[0m \u001b[38;5;66;03m# Call different fits for either full or truncated SVD\u001b[39;00m\n\u001b[0;32m    541\u001b[0m \u001b[38;5;28;01mif\u001b[39;00m \u001b[38;5;28mself\u001b[39m\u001b[38;5;241m.\u001b[39m_fit_svd_solver \u001b[38;5;129;01min\u001b[39;00m (\u001b[38;5;124m\"\u001b[39m\u001b[38;5;124mfull\u001b[39m\u001b[38;5;124m\"\u001b[39m, \u001b[38;5;124m\"\u001b[39m\u001b[38;5;124mcovariance_eigh\u001b[39m\u001b[38;5;124m\"\u001b[39m):\n\u001b[1;32m--> 542\u001b[0m     \u001b[38;5;28;01mreturn\u001b[39;00m \u001b[38;5;28;43mself\u001b[39;49m\u001b[38;5;241;43m.\u001b[39;49m\u001b[43m_fit_full\u001b[49m\u001b[43m(\u001b[49m\u001b[43mX\u001b[49m\u001b[43m,\u001b[49m\u001b[43m \u001b[49m\u001b[43mn_components\u001b[49m\u001b[43m,\u001b[49m\u001b[43m \u001b[49m\u001b[43mxp\u001b[49m\u001b[43m,\u001b[49m\u001b[43m \u001b[49m\u001b[43mis_array_api_compliant\u001b[49m\u001b[43m)\u001b[49m\n\u001b[0;32m    543\u001b[0m \u001b[38;5;28;01melif\u001b[39;00m \u001b[38;5;28mself\u001b[39m\u001b[38;5;241m.\u001b[39m_fit_svd_solver \u001b[38;5;129;01min\u001b[39;00m [\u001b[38;5;124m\"\u001b[39m\u001b[38;5;124marpack\u001b[39m\u001b[38;5;124m\"\u001b[39m, \u001b[38;5;124m\"\u001b[39m\u001b[38;5;124mrandomized\u001b[39m\u001b[38;5;124m\"\u001b[39m]:\n\u001b[0;32m    544\u001b[0m     \u001b[38;5;28;01mreturn\u001b[39;00m \u001b[38;5;28mself\u001b[39m\u001b[38;5;241m.\u001b[39m_fit_truncated(X, n_components, xp)\n",
      "File \u001b[1;32mc:\\Users\\luyza\\Documents\\ML-spectroscopy-analysis\\.venv\\Lib\\site-packages\\sklearn\\decomposition\\_pca.py:642\u001b[0m, in \u001b[0;36mPCA._fit_full\u001b[1;34m(self, X, n_components, xp, is_array_api_compliant)\u001b[0m\n\u001b[0;32m    639\u001b[0m     U \u001b[38;5;241m=\u001b[39m \u001b[38;5;28;01mNone\u001b[39;00m\n\u001b[0;32m    641\u001b[0m \u001b[38;5;66;03m# flip eigenvectors' sign to enforce deterministic output\u001b[39;00m\n\u001b[1;32m--> 642\u001b[0m U, Vt \u001b[38;5;241m=\u001b[39m \u001b[43msvd_flip\u001b[49m\u001b[43m(\u001b[49m\u001b[43mU\u001b[49m\u001b[43m,\u001b[49m\u001b[43m \u001b[49m\u001b[43mVt\u001b[49m\u001b[43m,\u001b[49m\u001b[43m \u001b[49m\u001b[43mu_based_decision\u001b[49m\u001b[38;5;241;43m=\u001b[39;49m\u001b[38;5;28;43;01mFalse\u001b[39;49;00m\u001b[43m)\u001b[49m\n\u001b[0;32m    644\u001b[0m components_ \u001b[38;5;241m=\u001b[39m Vt\n\u001b[0;32m    646\u001b[0m \u001b[38;5;66;03m# Get variance explained by singular values\u001b[39;00m\n",
      "File \u001b[1;32mc:\\Users\\luyza\\Documents\\ML-spectroscopy-analysis\\.venv\\Lib\\site-packages\\sklearn\\utils\\extmath.py:852\u001b[0m, in \u001b[0;36msvd_flip\u001b[1;34m(u, v, u_based_decision)\u001b[0m\n\u001b[0;32m    847\u001b[0m         out[:, n] \u001b[38;5;241m=\u001b[39m arrays[n][ix[:, n]]\n\u001b[0;32m    849\u001b[0m     \u001b[38;5;28;01mreturn\u001b[39;00m out\n\u001b[1;32m--> 852\u001b[0m \u001b[38;5;28;01mdef\u001b[39;00m\u001b[38;5;250m \u001b[39m\u001b[38;5;21msvd_flip\u001b[39m(u, v, u_based_decision\u001b[38;5;241m=\u001b[39m\u001b[38;5;28;01mTrue\u001b[39;00m):\n\u001b[0;32m    853\u001b[0m \u001b[38;5;250m    \u001b[39m\u001b[38;5;124;03m\"\"\"Sign correction to ensure deterministic output from SVD.\u001b[39;00m\n\u001b[0;32m    854\u001b[0m \n\u001b[0;32m    855\u001b[0m \u001b[38;5;124;03m    Adjusts the columns of u and the rows of v such that the loadings in the\u001b[39;00m\n\u001b[1;32m   (...)\u001b[0m\n\u001b[0;32m    888\u001b[0m \u001b[38;5;124;03m        Array v with adjusted rows and the same dimensions as v.\u001b[39;00m\n\u001b[0;32m    889\u001b[0m \u001b[38;5;124;03m    \"\"\"\u001b[39;00m\n\u001b[0;32m    890\u001b[0m     xp, _ \u001b[38;5;241m=\u001b[39m get_namespace(\u001b[38;5;241m*\u001b[39m[a \u001b[38;5;28;01mfor\u001b[39;00m a \u001b[38;5;129;01min\u001b[39;00m [u, v] \u001b[38;5;28;01mif\u001b[39;00m a \u001b[38;5;129;01mis\u001b[39;00m \u001b[38;5;129;01mnot\u001b[39;00m \u001b[38;5;28;01mNone\u001b[39;00m])\n",
      "\u001b[1;31mKeyboardInterrupt\u001b[0m: "
     ]
    }
   ],
   "source": [
    "base_dir = Path(r\"C:\\Users\\luyza\\Documents\\ML-spectroscopy-analysis\")\n",
    "dataset_dir = base_dir / \"Processed\" / \"snv_sg_osc_processed\" # Pasta com os múltiplos arquivos do OSC\n",
    "outliers_y_dir = base_dir / \"Data\"\n",
    "dataset_save_pca = base_dir / \"Processed\" / \"PCA\"\n",
    "dataset_save_outliers = dataset_save_pca / \"Outliers_Identificados\"\n",
    "\n",
    "# Verifica se o diretório existe\n",
    "if not dataset_dir.exists():\n",
    "    raise FileNotFoundError(f\"Pasta não encontrada: {dataset_dir}\")\n",
    "\n",
    "# Iterar sobre os arquivos na pasta\n",
    "for filename in os.listdir(dataset_dir):\n",
    "    if filename.endswith(\".xlsx\") and not filename.startswith('~'): # Ignora arquivos temporários do Excel\n",
    "        print(f\"--- Processando arquivo: {filename} ---\")\n",
    "        dataset_path = dataset_dir / filename\n",
    "        df = pd.read_excel(dataset_path)\n",
    "\n",
    "        try:\n",
    "            target_y_name = filename.split('_for_')[1].split('.')[0]\n",
    "            print(f\"Variável alvo identificada: {target_y_name}\")\n",
    "        except IndexError:\n",
    "            print(f\"AVISO: Não foi possível identificar a variável alvo para o arquivo {filename}. Pulando este arquivo.\")\n",
    "            continue\n",
    "\n",
    "        # Guarda o nome base do arquivo para usar depois\n",
    "        base_name = os.path.splitext(filename)[0].replace(\"_processed\", \"\")\n",
    "\n",
    "        # montar o nome do arquivo de outliers do Y\n",
    "        outlier_y_filename = f\"dataset_cotton_fruit_Y_outliers.xlsx\"\n",
    "        outlier_y_path = outliers_y_dir / outlier_y_filename\n",
    "\n",
    "        # verificar se o arquivo de outliers existe e removê-los\n",
    "        if outlier_y_path.exists():\n",
    "            print(f\"Encontrado arquivo de outliers do Y: {outlier_y_filename}. Removendo amostras...\")\n",
    "            df_outliers_y = pd.read_excel(outlier_y_path)\n",
    "            \n",
    "            id_column_name = df.columns[0] \n",
    "            \n",
    "            # Pega a lista de IDs dos outliers\n",
    "            ids_to_remove = df_outliers_y[id_column_name].tolist()\n",
    "            \n",
    "            # Filtra o DataFrame principal 'df', mantendo apenas as linhas cujo ID NÃO ESTÁ na lista de remoção.\n",
    "            initial_rows = len(df)\n",
    "            df = df[~df[id_column_name].isin(ids_to_remove)]\n",
    "            final_rows = len(df)\n",
    "            \n",
    "            print(f\"{initial_rows - final_rows} amostra(s) removida(s) com base nos outliers do Y.\")\n",
    "            print(f\"Tamanho do DataFrame após limpeza: {df.shape}\")\n",
    "        else:\n",
    "            print(f\"Aviso: Arquivo de outliers do Y '{outlier_y_filename}' não encontrado. Prosseguindo sem remover outliers do Y.\")\n",
    "        \n",
    "        identifiers = df.iloc[:, :6]\n",
    "        data = df.iloc[:, 6:].values\n",
    "\n",
    "        # Isso será usado para colorir os gráficos\n",
    "        if target_y_name in df.columns:\n",
    "            y_target_values = df[target_y_name]\n",
    "        else:\n",
    "            print(f\"AVISO: A coluna '{target_y_name}' não foi encontrada no DataFrame. Os gráficos não serão coloridos por ela.\")\n",
    "            # Cria uma série vazia para não quebrar o código\n",
    "            y_target_values = pd.Series([None] * len(df), name=target_y_name)\n",
    "\n",
    "        scaler = StandardScaler()\n",
    "        data_scaled = scaler.fit_transform(data)\n",
    "        \n",
    "        # print(\"Shape dos dados normalizados:\", data_scaled.shape)\n",
    "\n",
    "        n_components = jackknife_pca(data_scaled)\n",
    "        pca = PCA(n_components=n_components).fit(data_scaled)\n",
    "        data_pca = pca.transform(data_scaled)\n",
    "\n",
    "        # Para utilizar o Kennard_Stone antes de tirar os outlier é so descomentar\n",
    "        # selected_indices = kennard_stone(data_pca)\n",
    "        # print(f\"Número de amostras na calibração: {len(selected_indices)}\")  # Deve ser ~70% do total\n",
    "        # calibration_set = df.iloc[selected_indices].sort_values(by=df.columns[0], ascending=True)\n",
    "        # validation_set = df.drop(df.index[selected_indices])  # Em vez de usar a máscara negada\n",
    "  \n",
    "        T2 = np.sum((data_pca / np.std(data_pca, axis=0)) ** 2, axis=1)\n",
    "        Q = np.sum((data_scaled - pca.inverse_transform(data_pca)) ** 2, axis=1)\n",
    "        \n",
    "        # Definição dos limites e identificação de outliers (seu código original)\n",
    "        # Nota: Usar 3 desvios padrão é mais comum que 2 para pegar outliers mais extremos\n",
    "        T2_limit = np.mean(T2) + 3 * np.std(T2)\n",
    "        Q_limit = np.mean(Q) + 3 * np.std(Q)\n",
    "        # Array booleano que define quem é outlier\n",
    "        outliers = (T2 > T2_limit) | (Q > Q_limit)\n",
    "\n",
    "        print(f\"Número de outliers identificados por T²/Q: {np.sum(outliers)}\")\n",
    "\n",
    "        # Chamada para sua função de plot original\n",
    "        cumulative_variance = np.cumsum(pca.explained_variance_ratio_)\n",
    "        #plot_data(outliers, T2, Q, T2_limit, Q_limit, cumulative_variance, n_components)\n",
    "\n",
    "        plot_interactive_scores_com_y(data_pca, identifiers, outliers, target_y_name, y_target_values)\n",
    "        \n",
    "        # Chamar a nova função de plot interativo\n",
    "        # Passamos os scores, os identificadores e a lista de outliers que já calculamos\n",
    "        plot_interactive_scores(data_pca, identifiers, outliers)\n",
    "        \n",
    "        # Separação com Kennard-Stone e salvamento\n",
    "        # (O ideal é remover os outliers ANTES de rodar o Kennard-Stone)\n",
    "        df_outliers = df[outliers]\n",
    "        df_clean = df[~outliers]\n",
    "        if not df_outliers.empty:\n",
    "            outlier_path = dataset_save_outliers / f\"{base_name}_outliers.xlsx\"\n",
    "            df_outliers.to_excel(outlier_path, index=False)\n",
    "            print(f\"Arquivo com {len(df_outliers)} outliers salvo em: {outlier_path}\")\n",
    "        \n",
    "        # selected_indices = kennard_stone(data_pca)\n",
    "        # calibration_set = df.iloc[selected_indices].sort_values(by=df.columns[0], ascending=True)\n",
    "        # validation_set = df.drop(df.index[selected_indices])\n",
    "        # save_datasets(calibration_set, validation_set, dataset_path, dataset_save)\n",
    "        # print(f\"Arquivo {filename} processado com {n_components} componentes principais do PCA.\\n\")\n",
    "\n",
    "        print(f\"\\nIniciando Kennard-Stone no conjunto de dados limpo de {len(df_clean)} amostras...\")\n",
    "        \n",
    "        # Precisamos recalcular a PCA apenas com os dados limpos para o KS\n",
    "        clean_data = df_clean.iloc[:, 6:].values\n",
    "        clean_data_scaled = scaler.fit_transform(clean_data)\n",
    "        \n",
    "        # Usamos o mesmo número de componentes de antes para consistência\n",
    "        pca_clean = PCA(n_components=n_components).fit(clean_data_scaled)\n",
    "        clean_data_pca = pca_clean.transform(clean_data_scaled)\n",
    "        \n",
    "        # Roda o Kennard-Stone nos scores PCA dos dados LIMPOS\n",
    "        selected_indices_clean = kennard_stone(clean_data_pca)\n",
    "        \n",
    "        # Os índices retornados pelo KS são baseados no df_clean, então usamos o .iloc\n",
    "        calibration_set = df_clean.iloc[selected_indices_clean].sort_values(by=df.columns[0], ascending=True)\n",
    "        validation_set = df_clean.drop(df_clean.index[selected_indices_clean])\n",
    "        \n",
    "        print(f\"Número de amostras na calibração (limpa): {len(calibration_set)}\")\n",
    "        print(f\"Número de amostras na validação (limpa): {len(validation_set)}\")\n",
    "        \n",
    "        # Salva os novos datasets de calibração e validação (sem outliers)\n",
    "        # Usamos a função save_datasets original, mas passamos os novos dataframes\n",
    "        save_datasets(calibration_set, validation_set, dataset_path, dataset_save_pca)\n",
    "\n",
    "        print(f\"Arquivo {filename} processado. Datasets de calibração/validação limpos salvos na pasta PCA.\\n\")\n"
   ]
  },
  {
   "cell_type": "markdown",
   "metadata": {},
   "source": [
    "# Avaliação dos filtros depois do PCA"
   ]
  },
  {
   "cell_type": "code",
   "execution_count": null,
   "metadata": {},
   "outputs": [],
   "source": [
    "import os\n",
    "import pandas as pd\n",
    "import numpy as np\n",
    "from pathlib import Path\n",
    "from sklearn.cross_decomposition import PLSRegression\n",
    "from sklearn.model_selection import cross_val_score\n",
    "from sklearn.preprocessing import StandardScaler\n",
    "import warnings\n",
    "\n",
    "# Ignorar avisos que podem aparecer durante a convergência do PLS\n",
    "warnings.filterwarnings('ignore', category=UserWarning)\n",
    "\n",
    "# =============================================================================\n",
    "# --- CONFIGURAÇÃO DA ANÁLISE ---\n",
    "# =============================================================================\n",
    "\n",
    "# 1. Defina o caminho base do seu projeto\n",
    "base_dir = Path(r\"C:\\Users\\luyza\\Documents\\ML-spectroscopy-analysis\")\n",
    "\n",
    "# 2. Defina a variável-alvo que você quer usar para esta avaliação rápida.\n",
    "#    Escolha a mais importante para o seu projeto.\n",
    "PRIMARY_TARGET_VARIABLE = \"SST\"\n",
    "\n",
    "# 3. Defina o número máximo de componentes do PLS que você quer testar.\n",
    "#    Um valor entre 15 e 25 é geralmente suficiente.\n",
    "MAX_PLS_COMPONENTS = 15\n",
    "\n",
    "# =============================================================================\n",
    "# --- INÍCIO DO SCRIPT DE AVALIAÇÃO ---\n",
    "# =============================================================================\n",
    "\n",
    "# Diretório raiz que contém todos os resultados do PCA\n",
    "pca_results_root_dir = base_dir / \"PCA_Results\"\n",
    "\n",
    "# Lista para armazenar os resultados finais de cada filtro\n",
    "all_filter_results = []\n",
    "\n",
    "print(\"=\"*60)\n",
    "print(f\"INICIANDO AVALIAÇÃO DE FILTROS PARA A VARIÁVEL: '{PRIMARY_TARGET_VARIABLE}'\")\n",
    "print(\"=\"*60)\n",
    "\n",
    "# Verificação inicial\n",
    "if not pca_results_root_dir.exists():\n",
    "    raise FileNotFoundError(f\"Diretório de resultados do PCA não encontrado: {pca_results_root_dir}\")\n",
    "\n",
    "# Sanitiza o nome da variável alvo para comparar com os nomes das pastas\n",
    "sanitized_target = PRIMARY_TARGET_VARIABLE.replace(' (%)', '').replace(' (N)', '').replace(' ', '_')\n",
    "\n",
    "# Loop 1: Itera sobre as pastas de cada tipo de filtro (ex: 'msc', 'snv_sg_osc')\n",
    "for filter_folder_name in os.listdir(pca_results_root_dir):\n",
    "    filter_folder_path = pca_results_root_dir / filter_folder_name\n",
    "    if not filter_folder_path.is_dir():\n",
    "        continue\n",
    "\n",
    "    # Loop 2: Itera sobre a pasta de cada resultado específico (ex: 'msc', 'snv_sg_osc_SST')\n",
    "    for result_folder_name in os.listdir(filter_folder_path):\n",
    "        result_folder_path = filter_folder_path / result_folder_name\n",
    "        \n",
    "        # Define o nome do filtro que será usado no relatório final\n",
    "        # Ex: \"snv_sg_osc (para SST)\" ou \"msc (independente)\"\n",
    "        report_name = f\"{filter_folder_name}/{result_folder_name}\"\n",
    "        \n",
    "        # Condição para processar:\n",
    "        # 1. Se o nome da pasta termina com o alvo sanitizado (ex: '_SST')\n",
    "        # 2. Ou se o nome da pasta é igual ao nome do filtro (caso de filtros independentes como 'msc')\n",
    "        is_target_dependent_match = result_folder_name.endswith(f\"_{sanitized_target}\")\n",
    "        is_independent_filter = result_folder_name == filter_folder_name\n",
    "\n",
    "        if not (is_target_dependent_match or is_independent_filter):\n",
    "            continue # Pula para o próximo se não for o alvo que queremos analisar agora\n",
    "\n",
    "        # Constrói o caminho para o arquivo de calibração\n",
    "        cal_filename = f\"{result_folder_name}_cal.xlsx\"\n",
    "        cal_filepath = result_folder_path / cal_filename\n",
    "\n",
    "        if not cal_filepath.exists():\n",
    "            continue\n",
    "\n",
    "        print(f\"\\n--- Analisando filtro: {report_name} ---\")\n",
    "\n",
    "        # Carrega os dados de calibração\n",
    "        df_cal = pd.read_excel(cal_filepath)\n",
    "\n",
    "        # Verifica se a coluna alvo existe no arquivo\n",
    "        if PRIMARY_TARGET_VARIABLE not in df_cal.columns:\n",
    "            print(f\"  Aviso: Coluna '{PRIMARY_TARGET_VARIABLE}' não encontrada. Pulando.\")\n",
    "            continue\n",
    "        \n",
    "        # Separa os dados X e a variável alvo y\n",
    "        X_cal = df_cal.iloc[:, 6:] # Assume que os dados espectrais começam na 7ª coluna\n",
    "        y_cal = df_cal[PRIMARY_TARGET_VARIABLE]\n",
    "        \n",
    "        # Garante que não há valores nulos que possam quebrar a análise\n",
    "        if y_cal.isnull().any():\n",
    "            print(f\"  Aviso: Valores nulos encontrados em '{PRIMARY_TARGET_VARIABLE}'. Removendo linhas correspondentes.\")\n",
    "            not_null_mask = y_cal.notnull()\n",
    "            X_cal = X_cal[not_null_mask]\n",
    "            y_cal = y_cal[not_null_mask]\n",
    "\n",
    "        # Normaliza os dados (importante para PLS)\n",
    "        scaler = StandardScaler()\n",
    "        X_cal_scaled = scaler.fit_transform(X_cal)\n",
    "\n",
    "        # --- Loop para encontrar o melhor número de componentes para este filtro ---\n",
    "        best_rmse = float('inf')\n",
    "        best_n_components = 0\n",
    "        \n",
    "        print(f\"  Testando PLS com 1 a {MAX_PLS_COMPONENTS} componentes...\")\n",
    "        \n",
    "        for n in range(1, MAX_PLS_COMPONENTS + 1):\n",
    "            # Cria o modelo PLS\n",
    "            pls = PLSRegression(n_components=n)\n",
    "            \n",
    "            # Executa a validação cruzada (cv=5)\n",
    "            # Usamos 'neg_root_mean_squared_error', então o resultado será negativo.\n",
    "            scores = cross_val_score(\n",
    "                pls, X_cal_scaled, y_cal, \n",
    "                cv=5, scoring='neg_root_mean_squared_error'\n",
    "            )\n",
    "            \n",
    "            # Converte o score para um RMSE positivo\n",
    "            current_rmse = -np.mean(scores)\n",
    "            \n",
    "            # Verifica se este é o melhor resultado até agora\n",
    "            if current_rmse < best_rmse:\n",
    "                best_rmse = current_rmse\n",
    "                best_n_components = n\n",
    "        \n",
    "        print(f\"  -> Melhor Resultado: RMSE = {best_rmse:.4f} com {best_n_components} componentes.\")\n",
    "        \n",
    "        # Guarda o melhor resultado para o ranking final\n",
    "        all_filter_results.append({\n",
    "            \"Filtro\": report_name,\n",
    "            \"Melhor N Componentes\": best_n_components,\n",
    "            \"RMSE (Validação Cruzada)\": best_rmse\n",
    "        })\n",
    "\n",
    "# --- GERAÇÃO DO RELATÓRIO FINAL ---\n",
    "print(\"\\n\\n\" + \"=\"*60)\n",
    "print(f\"RANKING FINAL DOS FILTROS (Menor RMSE é Melhor)\")\n",
    "print(\"=\"*60)\n",
    "\n",
    "if not all_filter_results:\n",
    "    print(\"Nenhum resultado foi gerado. Verifique os caminhos e o nome da variável alvo.\")\n",
    "else:\n",
    "    # Cria um DataFrame com os resultados\n",
    "    results_df = pd.DataFrame(all_filter_results)\n",
    "    \n",
    "    # Ordena o DataFrame pelo RMSE, do menor para o maior\n",
    "    results_df_sorted = results_df.sort_values(by=\"RMSE (Validação Cruzada)\", ascending=True)\n",
    "    \n",
    "    # Imprime o ranking\n",
    "    print(results_df_sorted.to_string(index=False))\n",
    "    \n",
    "    # Anuncia o vencedor\n",
    "    best_filter = results_df_sorted.iloc[0]\n",
    "    print(\"\\n🏆 Filtro mais promissor:\", best_filter['Filtro'])\n",
    "    print(f\"   Com um RMSE de {best_filter['RMSE (Validação Cruzada)']:.4f} usando {best_filter['Melhor N Componentes']} componentes.\")\n",
    "\n",
    "print(\"\\n✅ Avaliação concluída!\")"
   ]
  }
 ],
 "metadata": {
  "kernelspec": {
   "display_name": ".venv",
   "language": "python",
   "name": "python3"
  },
  "language_info": {
   "codemirror_mode": {
    "name": "ipython",
    "version": 3
   },
   "file_extension": ".py",
   "mimetype": "text/x-python",
   "name": "python",
   "nbconvert_exporter": "python",
   "pygments_lexer": "ipython3",
   "version": "3.13.2"
  }
 },
 "nbformat": 4,
 "nbformat_minor": 4
}
