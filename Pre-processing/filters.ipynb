{
 "cells": [
  {
   "cell_type": "markdown",
   "metadata": {},
   "source": [
    "# Pre-processing\n"
   ]
  },
  {
   "cell_type": "markdown",
   "metadata": {},
   "source": [
    "Aqui aplicamos os filtros de pré-processamento para refinar os dados de espectroscopia. Os filtros utilizados serão a Correção Multiplicativa de Espalhamento (MSC), Padronização Normal de Sinal  (SNV) e a primeira derivada de Savitzky-Golay."
   ]
  },
  {
   "cell_type": "markdown",
   "metadata": {},
   "source": [
    "# Imports\n"
   ]
  },
  {
   "cell_type": "code",
   "execution_count": 20,
   "metadata": {},
   "outputs": [],
   "source": [
    "import os\n",
    "import openpyxl\n",
    "import pandas as pd\n",
    "import numpy as np\n",
    "import matplotlib.pyplot as plt\n",
    "from scipy.signal import savgol_filter\n",
    "from sklearn.preprocessing import StandardScaler"
   ]
  },
  {
   "cell_type": "markdown",
   "metadata": {},
   "source": [
    "# Load data"
   ]
  },
  {
   "cell_type": "code",
   "execution_count": 25,
   "metadata": {},
   "outputs": [],
   "source": [
    "def load_data(filepath):\n",
    "    df = pd.read_excel(filepath, engine=\"openpyxl\")\n",
    "    metadata = df.iloc[:, [0,1,2,3,4,6]]  # Seleciona colunas 1,2,3,4,5 e 7\n",
    "    wavelengths = df.iloc[:, 7:]  # Da oitava coluna até o fim\n",
    "    return metadata, wavelengths"
   ]
  },
  {
   "cell_type": "markdown",
   "metadata": {},
   "source": [
    "# Filter's algorithm"
   ]
  },
  {
   "cell_type": "code",
   "execution_count": 38,
   "metadata": {},
   "outputs": [],
   "source": [
    "def msc(input_data):\n",
    "    mean_spectrum = input_data.mean(axis=0)\n",
    "    corrected_spectra = []\n",
    "    \n",
    "    for i in range(input_data.shape[0]):\n",
    "        spectrum = input_data[i, :]\n",
    "        slope, intercept = np.polyfit(mean_spectrum, spectrum, 1)\n",
    "        corrected_spectrum = (spectrum - intercept) / slope\n",
    "        corrected_spectra.append(corrected_spectrum)\n",
    "    \n",
    "    corrected_df = pd.DataFrame(corrected_spectra)\n",
    "    return corrected_df\n",
    "\n",
    "def snv(input_data):\n",
    "    return (input_data - np.mean(input_data, axis=1, keepdims=True)) / np.std(input_data, axis=1, keepdims=True)\n",
    "\n",
    "def savitzky_golay(input_data, window_size=41, poly_order=1):\n",
    "    return savgol_filter(input_data, window_length=window_size, polyorder=poly_order, deriv=1, axis=1)"
   ]
  },
  {
   "cell_type": "markdown",
   "metadata": {},
   "source": [
    "# Plot and save"
   ]
  },
  {
   "cell_type": "code",
   "execution_count": 39,
   "metadata": {},
   "outputs": [],
   "source": [
    "def plot_spectra(wavelengths, processed_data, title, save_path):\n",
    "    x_values = np.linspace(350, 2500, num=processed_data.shape[1])\n",
    "    plt.figure(figsize=(10,5))\n",
    "    plt.plot(x_values, processed_data.T, alpha=0.5)\n",
    "    plt.xlabel(\"Comprimento de onda (nm)\")\n",
    "    plt.ylabel(\"Absorbância\")\n",
    "    plt.title(title)\n",
    "    plt.axhline(y=0, color='k', linewidth=1.5)\n",
    "    plt.savefig(save_path)\n",
    "    plt.close()\n",
    "\n",
    "def save_processed_data(metadata, processed_data, filename, output_folder, new_wavelengths):\n",
    "    processed_df = pd.DataFrame(processed_data)\n",
    "    processed_df.columns = new_wavelengths\n",
    "    result = pd.concat([metadata, processed_df], axis=1)\n",
    "    result.to_excel(os.path.join(output_folder, filename), index=False)\n"
   ]
  },
  {
   "cell_type": "markdown",
   "metadata": {},
   "source": [
    "# Main"
   ]
  },
  {
   "cell_type": "code",
   "execution_count": 41,
   "metadata": {},
   "outputs": [],
   "source": [
    "def main():\n",
    "    filepath = r\"C:\\Users\\luyza\\OneDrive\\Documentos\\spectroscopy_machine_learning_analysis\\Data\\dataset_cotton_fruit.xlsx\"\n",
    "    \n",
    "    root_folder = os.path.dirname(os.path.dirname(filepath))  \n",
    "    output_folder = os.path.join(root_folder, \"Processed\")\n",
    "    os.makedirs(output_folder, exist_ok=True)\n",
    "    \n",
    "    metadata, wavelengths = load_data(filepath)\n",
    "    \n",
    "    # Verifique se wavelengths.values é unidimensional e torne-o 2D\n",
    "    if wavelengths.values.ndim == 1:\n",
    "        wavelengths_values_2d = wavelengths.values.reshape(1, -1)  # Torna o array 2D\n",
    "    else:\n",
    "        wavelengths_values_2d = wavelengths.values  # Já é 2D\n",
    "    \n",
    "    new_wavelengths = np.linspace(350, 2500, num=len(wavelengths_values_2d[0]))\n",
    "\n",
    "    # Agora, passe o new_wavelengths em vez de wavelengths para as funções\n",
    "    msc_data = msc(wavelengths_values_2d)\n",
    "    snv_data = snv(wavelengths_values_2d)\n",
    "    sg_data = savitzky_golay(wavelengths_values_2d)\n",
    "\n",
    "    save_processed_data(metadata, msc_data, \"msc_processed.xlsx\", output_folder, new_wavelengths)\n",
    "    plot_spectra(new_wavelengths, msc_data, \"MSC Pre-processed Spectra\", os.path.join(output_folder, \"msc_plot.png\"))\n",
    "\n",
    "    save_processed_data(metadata, snv_data, \"snv_processed.xlsx\", output_folder, new_wavelengths)\n",
    "    plot_spectra(new_wavelengths, snv_data, \"SNV Pre-processed Spectra\", os.path.join(output_folder, \"snv_plot.png\"))\n",
    "\n",
    "    save_processed_data(metadata, sg_data, \"sg_processed.xlsx\", output_folder, new_wavelengths)\n",
    "    plot_spectra(new_wavelengths, sg_data, \"Savitzky-Golay 1st Derivative\", os.path.join(output_folder, \"sg_plot.png\"))\n",
    "\n",
    "if __name__ == \"__main__\":\n",
    "    main()"
   ]
  },
  {
   "cell_type": "code",
   "execution_count": null,
   "metadata": {},
   "outputs": [],
   "source": []
  }
 ],
 "metadata": {
  "kernelspec": {
   "display_name": "env",
   "language": "python",
   "name": "python3"
  },
  "language_info": {
   "codemirror_mode": {
    "name": "ipython",
    "version": 3
   },
   "file_extension": ".py",
   "mimetype": "text/x-python",
   "name": "python",
   "nbconvert_exporter": "python",
   "pygments_lexer": "ipython3",
   "version": "3.13.1"
  }
 },
 "nbformat": 4,
 "nbformat_minor": 2
}
